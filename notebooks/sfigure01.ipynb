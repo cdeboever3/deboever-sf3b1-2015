{
 "metadata": {
  "name": "",
  "signature": "sha256:e68f5c09ad95d1e67380de397b156a7abc35c2ea1907c8da7e27207f9e7d24b6"
 },
 "nbformat": 3,
 "nbformat_minor": 0,
 "worksheets": [
  {
   "cells": [
    {
     "cell_type": "markdown",
     "metadata": {},
     "source": [
      "# Figure S1\n",
      "\n",
      "I'm going to plot the number of uniquely mapped \n",
      "reads for each sample as an indication of the size \n",
      "of each sequencing library and the number of reads\n",
      "we have to work with."
     ]
    },
    {
     "cell_type": "code",
     "collapsed": false,
     "input": [
      "import os\n",
      "\n",
      "import pandas as pd\n",
      "\n",
      "import ds2014 as ds\n",
      "import matplotlib.gridspec as gridspec"
     ],
     "language": "python",
     "metadata": {},
     "outputs": [],
     "prompt_number": 1
    },
    {
     "cell_type": "code",
     "collapsed": false,
     "input": [
      "curdir = os.getcwd()\n",
      "outdir = os.path.join(os.path.split(curdir)[0], \n",
      "                      'output', \n",
      "                      'sfigure01')\n",
      "ds.makedir(outdir)\n",
      "\n",
      "rcParams.update({'font.size': 7})\n",
      "rcParams['ps.usedistiller'] = 'xpdf'\n",
      "matplotlib.rc('font',**{'family':'sans-serif','sans-serif':['Helvetica']})\n",
      "matplotlib.rc('text', usetex=True)\n",
      "\n",
      "logs = pd.read_table(ds.star_logs, index_col=0,\n",
      "                     header=0)\n",
      "\n",
      "meta = pd.read_table(ds.metadata, index_col=0,\n",
      "                     header=0)\n",
      "\n",
      "mut_info = pd.read_table(ds.sf3b1_mut_info, index_col=None,\n",
      "                         header=0)"
     ],
     "language": "python",
     "metadata": {},
     "outputs": [],
     "prompt_number": 2
    },
    {
     "cell_type": "markdown",
     "metadata": {},
     "source": [
      "I believe that the stats reported by STAR are in terms of read pairs, not reads. Although the log file says reads, it also says that the average read length is greater than the maximum size of an individual read. I think that the average read length actually means the length of both reads, i.e. the pair."
     ]
    },
    {
     "cell_type": "code",
     "collapsed": false,
     "input": [
      "def print_avg(cancer, logs=logs, meta=meta):\n",
      "    s = 'Average number of input read pairs'\n",
      "    n = logs.ix[meta.disease_abbr == cancer, \n",
      "                'Number of input reads'].mean()\n",
      "    print('{}, {}: {:,}'.format(s, cancer, int(n)))\n",
      "          \n",
      "def print_std(cancer, logs=logs, meta=meta):\n",
      "    s = 'Stdev of number of input read pairs'\n",
      "    n = logs.ix[meta.disease_abbr == cancer, \n",
      "                'Number of input reads'].std()\n",
      "    print('{}, {}: {:,}'.format(s, cancer, int(n)))\n",
      "\n",
      "for cancer in ['BRCA', 'CLL', 'LUAD', 'LUSC', 'UM']:\n",
      "    print_avg(cancer)\n",
      "    print_std(cancer)\n",
      "    print('')"
     ],
     "language": "python",
     "metadata": {},
     "outputs": [
      {
       "output_type": "stream",
       "stream": "stdout",
       "text": [
        "Average number of input read pairs, BRCA: 61,393,761\n",
        "Stdev of number of input read pairs, BRCA: 15,704,752\n",
        "\n",
        "Average number of input read pairs, CLL: 119,678,981\n",
        "Stdev of number of input read pairs, CLL: 25,131,947\n",
        "\n",
        "Average number of input read pairs, LUAD: 45,964,494\n",
        "Stdev of number of input read pairs, LUAD: 19,481,034\n",
        "\n",
        "Average number of input read pairs, LUSC: 57,743,378\n",
        "Stdev of number of input read pairs, LUSC: 15,351,985\n",
        "\n",
        "Average number of input read pairs, UM: 11,880,344\n",
        "Stdev of number of input read pairs, UM: 2,106,487\n",
        "\n"
       ]
      }
     ],
     "prompt_number": 3
    },
    {
     "cell_type": "code",
     "collapsed": false,
     "input": [
      "print('Number of mutants')\n",
      "print(meta[meta.condition == 'MUT']['disease_abbr'].value_counts())\n",
      "print('\\nNumber of wild-type')\n",
      "print(meta[meta.condition == 'WT']['disease_abbr'].value_counts())"
     ],
     "language": "python",
     "metadata": {},
     "outputs": [
      {
       "output_type": "stream",
       "stream": "stdout",
       "text": [
        "Number of mutants\n",
        "BRCA    14\n",
        "LUAD     7\n",
        "CLL      7\n",
        "LUSC     4\n",
        "UM       4\n",
        "dtype: int64\n",
        "\n",
        "Number of wild-type\n",
        "BRCA    18\n",
        "LUAD     9\n",
        "CLL      9\n",
        "LUSC     5\n",
        "UM       4\n",
        "dtype: int64\n"
       ]
      }
     ],
     "prompt_number": 4
    },
    {
     "cell_type": "code",
     "collapsed": false,
     "input": [
      "d = dict(zip(mut_info.name, mut_info.HEAT))\n",
      "meta['HEAT 5-9'] = False\n",
      "for i in meta[meta.condition == 'MUT'].index:\n",
      "    meta.ix[i, 'HEAT 5-9'] = d[i]\n",
      "    \n",
      "meta_color = ds.make_color_panel(meta)"
     ],
     "language": "python",
     "metadata": {},
     "outputs": [],
     "prompt_number": 5
    },
    {
     "cell_type": "markdown",
     "metadata": {},
     "source": [
      "## Paper version"
     ]
    },
    {
     "cell_type": "code",
     "collapsed": false,
     "input": [
      "fig = plt.figure(figsize=(7.5, 4.25))\n",
      "\n",
      "gs = gridspec.GridSpec(4, 1,\n",
      "                       height_ratios=[0.1, 1,\n",
      "                                      0.1, 0.1])\n",
      "\n",
      "ax = fig.add_subplot(gs[0, 0])\n",
      "ds.clean_axis(ax)\n",
      "ax.text(0, 0, 'Figure S1',\n",
      "        size=16, va='bottom')\n",
      "\n",
      "# bar plot\n",
      "barAX = fig.add_subplot(gs[1, 0])\n",
      "barsL = barAX.bar(np.arange(logs.shape[0]),\n",
      "                  logs.ix[meta_color.axes[1],\n",
      "                          'Uniquely mapped reads number'],\n",
      "                  alpha=0.5)\n",
      "xmin, xmax = barAX.set_xlim(0, logs.shape[0])\n",
      "for b in barsL:\n",
      "    b.set_linewidth(0)\n",
      "barAX.yaxis.set_major_formatter(ds.comma_format)\n",
      "xt = barAX.set_xticks([])\n",
      "for l in barAX.get_yticklines():\n",
      "    l.set_markersize(0)\n",
      "barAX.set_ylabel('Number of uniquely mapped reads')\n",
      "barAX.spines['right'].set_visible(False)\n",
      "barAX.spines['top'].set_visible(False)\n",
      "\n",
      "# color bar below x-axis\n",
      "colorbarAX = fig.add_subplot(gs[2,0])\n",
      "colorbarAX.imshow(meta_color, interpolation='nearest',\n",
      "                  origin='lower', aspect='auto')\n",
      "ds.clean_axis(colorbarAX)\n",
      "\n",
      "# legend\n",
      "legendAX = fig.add_subplot(gs[3,0])\n",
      "rectL = []\n",
      "labelL = []\n",
      "for c in ['condition', 'disease_abbr']:\n",
      "    d = dict(zip(meta[c], meta_color.ix[c].values))\n",
      "    for key in d.keys():\n",
      "        if key != 'NA':\n",
      "            labelL.append(key.replace('MUT','\\\\textit{SF3B1} mutant').replace('WT','\\\\textit{SF3B1} wild-type'))\n",
      "            r = Rectangle((0, 0), 0, 0, fc=d[key])\n",
      "            rectL.append(r)\n",
      "labelL.append('HEAT 5-9')\n",
      "r = Rectangle((0, 0), 0, 0, \n",
      "              fc=meta_color.ix['HEAT 5-9', meta[meta['HEAT 5-9']].index[0]].values)\n",
      "rectL.append(r)\n",
      "lgd = legendAX.legend(rectL,labelL,loc='center',frameon=False,prop={'size':7},ncol=8)\n",
      "for p in lgd.get_patches():\n",
      "    p.set_linewidth(0)\n",
      "ds.clean_axis(legendAX)\n",
      "\n",
      "gs.tight_layout(fig,pad=0.5)\n",
      "fig.savefig(os.path.join(outdir, 'sfigure01.pdf'))\n",
      "fig.savefig(os.path.join(outdir, 'sfigure01.eps'))\n",
      "fig.savefig(os.path.join(outdir, 'sfigure01.png'),\n",
      "            dpi=600)"
     ],
     "language": "python",
     "metadata": {},
     "outputs": [
      {
       "metadata": {},
       "output_type": "display_data",
       "png": "[encoded data removed]",
       "text": [
        "<matplotlib.figure.Figure at 0x7fbb4256b890>"
       ]
      }
     ],
     "prompt_number": 6
    }
   ],
   "metadata": {}
  }
 ]
}