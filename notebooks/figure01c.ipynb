{
 "metadata": {
  "name": "",
  "signature": "sha256:75203b8a64877591d775dcc6d38c3af43299a8f6ea79de094d0fb81f7de2ca5e"
 },
 "nbformat": 3,
 "nbformat_minor": 0,
 "worksheets": [
  {
   "cells": [
    {
     "cell_type": "markdown",
     "metadata": {},
     "source": [
      "# Figure 1C\n",
      "\n",
      "Code to make Figure 1C."
     ]
    },
    {
     "cell_type": "code",
     "collapsed": false,
     "input": [
      "import ds2014 as ds\n",
      "import os\n",
      "import re\n",
      "\n",
      "import matplotlib\n",
      "import matplotlib.gridspec as gridspec\n",
      "import pandas as pd"
     ],
     "language": "python",
     "metadata": {},
     "outputs": [],
     "prompt_number": 1
    },
    {
     "cell_type": "code",
     "collapsed": false,
     "input": [
      "rcParams.update({'font.size': 7})\n",
      "rcParams['ps.usedistiller'] = 'xpdf'\n",
      "matplotlib.rc('font',**{'family':'sans-serif','sans-serif':['Helvetica']})\n",
      "matplotlib.rc('text', usetex=True)"
     ],
     "language": "python",
     "metadata": {},
     "outputs": [],
     "prompt_number": 2
    },
    {
     "cell_type": "code",
     "collapsed": false,
     "input": [
      "curdir = os.getcwd()\n",
      "outdir = os.path.join(os.path.split(curdir)[0], \n",
      "                      'output', \n",
      "                      'figure01c')\n",
      "ds.makedir(outdir)\n",
      "\n",
      "# SF3B1 mutation info\n",
      "mut_info = pd.read_table(ds.sf3b1_mut_info, header=0, index_col=0)\n",
      "mut_info = mut_info[mut_info.disease_abbr.apply(lambda x: x in ['CLL', 'BRCA', 'UM'])]\n",
      "mut_info.index = mut_info.name\n",
      "\n",
      "# COSMIC SF3B1 mutation info. There is a header but no index column.\n",
      "cosmic = pd.read_table(ds.cosmic_sf3b1)\n",
      "\n",
      "m = pd.read_table(ds.metadata, index_col=0, header=0)"
     ],
     "language": "python",
     "metadata": {},
     "outputs": [],
     "prompt_number": 3
    },
    {
     "cell_type": "markdown",
     "metadata": {},
     "source": [
      "## Format COSMIC data\n",
      "\n",
      "I'm going to format the COSMIC data so that it's \n",
      "more useful."
     ]
    },
    {
     "cell_type": "code",
     "collapsed": false,
     "input": [
      "def convert_aa(x):\n",
      "    \"\"\"Strip p. off amino acid change\"\"\"\n",
      "    if type(x) == float:\n",
      "        out = np.nan\n",
      "    else:\n",
      "        out = x.split('.')[1]\n",
      "    return out\n",
      "\n",
      "cosmic['Mutation AA'] = cosmic['Mutation AA'].apply(lambda x: convert_aa(x))\n",
      "\n",
      "# I'm going to make a column with the codon \n",
      "# number for each amino acid. I'll leave it \n",
      "# one-based.\n",
      "codonRE = re.compile('(\\D*)(\\d*)(\\D*)')\n",
      "def aa_to_codon(x):\n",
      "    \"Convert amino acid change to codon number\"\"\"\n",
      "    if type(x) == float:\n",
      "        out = np.nan\n",
      "    else:\n",
      "        out = int(codonRE.match(x).group(2))\n",
      "    return out\n",
      "\n",
      "cosmic['Mutation codon'] = cosmic['Mutation AA'].apply(lambda x: aa_to_codon(x))"
     ],
     "language": "python",
     "metadata": {},
     "outputs": [],
     "prompt_number": 4
    },
    {
     "cell_type": "markdown",
     "metadata": {},
     "source": [
      "## HEAT repeats definition\n",
      "\n",
      "The dict `wang_heat` defined below shows where the first 10 HEAT repeats start according to [Wang et al. 1998](http://www.ncbi.nlm.nih.gov/pubmed/9585501). Note that these coordinates are one-based. I defined them by searching for the beginning sequence of the repeat in my protein sequence then adding one to make one-based (inclusive, exclusive). For instance, the first residue of HEAT repeat 5 is 608 and the last is 639 while the first residue of repeat 6 is 640.\n",
      "\n",
      "It seems that there might be an error in Wang's figure because he has residue 458 labeled as Q, but that should actually be 459 in one-based coordinates. \n",
      "\n",
      "These HEAT repeat definitions differ from the current definitions in UniProt but the *SF3B1* mutation field seems to use Wang's definitions, so I will do that here."
     ]
    },
    {
     "cell_type": "code",
     "collapsed": false,
     "input": [
      "wang_heat = {1:459, 2:496,3:531, 4:570, 5:608, 6:640, 7:675, 8:724,\n",
      "             9:766, 10:805}"
     ],
     "language": "python",
     "metadata": {},
     "outputs": [],
     "prompt_number": 5
    },
    {
     "cell_type": "markdown",
     "metadata": {},
     "source": [
      "## Common mutations\n",
      "\n",
      "There are five hotspots within the HEAT repeats where\n",
      "mutations cluster. I want to label the most common mutation\n",
      "in each hotspot so I'll print them right here and label\n",
      "them explicitly below. I'll also label the two mutations\n",
      "that don't cause aberrant splicing."
     ]
    },
    {
     "cell_type": "code",
     "collapsed": false,
     "input": [
      "for codon in [625,666,700,742,781]:\n",
      "    print 'Codon {}'.format(codon)\n",
      "    print cosmic[cosmic['Mutation codon'] == codon]['Mutation AA'].value_counts()\n",
      "    print"
     ],
     "language": "python",
     "metadata": {},
     "outputs": [
      {
       "output_type": "stream",
       "stream": "stdout",
       "text": [
        "Codon 625\n",
        "R625C    16\n",
        "R625H    16\n",
        "R625L    15\n",
        "R625?     9\n",
        "R625G     3\n",
        "R625P     2\n",
        "dtype: int64\n",
        "\n",
        "Codon 666\n",
        "K666N    36\n",
        "K666?    17\n",
        "K666E    14\n",
        "K666R    12\n",
        "K666M    10\n",
        "K666T     9\n",
        "K666Q     5\n",
        "dtype: int64\n",
        "\n",
        "Codon 700\n",
        "K700E    434\n",
        "dtype: int64\n",
        "\n",
        "Codon 742\n",
        "G742D    34\n",
        "dtype: int64\n",
        "\n",
        "Codon 781\n",
        "D781G    7\n",
        "D781E    1\n",
        "dtype: int64\n",
        "\n"
       ]
      }
     ],
     "prompt_number": 6
    },
    {
     "cell_type": "markdown",
     "metadata": {},
     "source": [
      "## Plot\n",
      "\n",
      "I'm going to make the $x$-axis the HEAT repeats (e.g.\n",
      "the protein sequence). On the top I'll plot the frequency\n",
      "of mutations at each amino acid from COSMIC ($log_{10}$\n",
      "scale) and on the bottom I'll plot the frequency of mutations\n",
      "observed in this study."
     ]
    },
    {
     "cell_type": "code",
     "collapsed": false,
     "input": [
      "fig = plt.figure(figsize=(3.5,2), dpi=600)\n",
      "gs = gridspec.GridSpec(3, 1,\n",
      "                       height_ratios=[1,0.2,1],\n",
      "                       hspace=0)\n",
      "\n",
      "### plot histogram of SF3B1 mutations in COSMIC ###\n",
      "ax = fig.add_subplot(gs[0,0])\n",
      "# Plot HEAT repeats 5-9\n",
      "xa = wang_heat[5]\n",
      "xb = wang_heat[10]\n",
      "lw = 0.5\n",
      "n, b, p = ax.hist(cosmic['Mutation codon'],\n",
      "                  bins=range(xa, xb),\n",
      "                  color='k',\n",
      "                  log=True,\n",
      "                  histtype='stepfilled')\n",
      "for rect in p:\n",
      "    rect.set_linewidth(0)\n",
      "xa, xb = ax.set_xlim(xa, xb)\n",
      "# We won't show singleton mutations in COSMIC\n",
      "ya, yb = ax.get_ylim()\n",
      "ax.set_ylim(1, yb)\n",
      "ax.spines['right'].set_visible(False)\n",
      "ax.spines['top'].set_visible(False)\n",
      "ax.spines['bottom'].set_visible(False)\n",
      "ax.spines['left'].set_linewidth(lw)\n",
      "xt = ax.set_xticks([])\n",
      "\n",
      "# Label frequent mutations\n",
      "ax.text(625.5, 70, 'R625', ha='center')\n",
      "ax.text(666.5, 135, 'K666', ha='center')\n",
      "ax.text(700.5, 500, 'K700E', ha='center')\n",
      "ax.text(742.5, 50, 'G742D', ha='center')\n",
      "ax.text(781.5, 12, 'D781G,E', ha='center')\n",
      "ax.yaxis.set_ticks_position('left')\n",
      "ax.yaxis.set_major_formatter(ds.comma_format)\n",
      "\n",
      "# Plot SF3B1 mutations from this study. We are going \n",
      "# to make this histogram point downward by flipping \n",
      "# the polygons that make up the histogram.\n",
      "ax3 = fig.add_subplot(gs[2,0])\n",
      "ax3.set_xticks([])\n",
      "ax3.spines['right'].set_visible(False)\n",
      "ax3.spines['top'].set_visible(False)\n",
      "ax3.spines['bottom'].set_visible(False)\n",
      "n, b, p = ax3.hist(mut_info.codon,\n",
      "                   bins=range(xa,xb),\n",
      "                   color='k',\n",
      "                   histtype='stepfilled')\n",
      "ya, yb = ax3.set_ylim(0, 14)\n",
      "# Flip polygons\n",
      "a = p[0]\n",
      "vA = a.get_xy()\n",
      "vA[:,1] = yb - vA[:,1]\n",
      "a.set_xy(vA)\n",
      "for rect in p:\n",
      "    rect.set_linewidth(0)\n",
      "ax3.set_yticks(np.arange(0, yb, 2))\n",
      "ax3.set_yticklabels(range(1, int(yb) + 1)[::-2])\n",
      "ax3.yaxis.set_ticks_position('left')\n",
      "# Label passenger SF3B1 mutations\n",
      "ax3.text(637.5, yb - 2.75, 'A633V', ha='center')\n",
      "ax3.text(765.5, yb - 2.75, 'Y765C', ha='center')\n",
      "ax3.spines['left'].set_linewidth(lw)\n",
      "xa,xb = ax3.set_xlim(xa, xb)\n",
      "\n",
      "# Plot HEAT repeats\n",
      "ax2 = fig.add_subplot(gs[1,0])\n",
      "ax2.set_xticks([])\n",
      "ax2.set_yticks([])\n",
      "for s in ax2.spines.values():\n",
      "    s.set_linewidth(lw)\n",
      "for r in range(5, 10):\n",
      "    ax2.vlines(wang_heat[r], 0, 1, linewidth=lw)\n",
      "    ax2.vlines(wang_heat[r + 1], 0, 1, linewidth=lw)\n",
      "    ax2.text(np.mean([wang_heat[r], wang_heat[r + 1]]),\n",
      "             0.5, str(r), ha='center', va='center')\n",
      "xa,xb = ax2.set_xlim(xa, xb)\n",
      "ax2.set_ylabel('Number of samples', labelpad=20)\n",
      "fig.tight_layout()\n",
      "fig.savefig(os.path.join(outdir, 'figure01c.pdf'),\n",
      "            transparent=True, dpi=600)"
     ],
     "language": "python",
     "metadata": {},
     "outputs": [
      {
       "metadata": {},
       "output_type": "display_data",
       "png": "[encoded data removed]",
       "text": [
        "<matplotlib.figure.Figure at 0x7fa7aa166e50>"
       ]
      }
     ],
     "prompt_number": 12
    }
   ],
   "metadata": {}
  }
 ]
}