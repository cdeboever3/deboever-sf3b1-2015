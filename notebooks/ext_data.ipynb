{
 "metadata": {
  "name": "",
  "signature": "sha256:44dc4e264e2ca89aa4788387e90f31833ea3fa9ff7fa7b9a138cd49277a1a45d"
 },
 "nbformat": 3,
 "nbformat_minor": 0,
 "worksheets": [
  {
   "cells": [
    {
     "cell_type": "markdown",
     "metadata": {},
     "source": [
      "# External data\n",
      "\n",
      "This notebook has commands to download some external \n",
      "data that are needed in various notebooks. Rather than\n",
      "saving these into the `output` directory with the output\n",
      "from other notebooks, I'll save them in a directory \n",
      "`ext_data` to denote that they are just downloaded files,\n",
      "not files that I created. I also won't store these on \n",
      "Figshare."
     ]
    },
    {
     "cell_type": "code",
     "collapsed": false,
     "input": [
      "import os\n",
      "import shutil\n",
      "from urllib2 import urlopen\n",
      "\n",
      "import ds2014 as ds"
     ],
     "language": "python",
     "metadata": {},
     "outputs": [],
     "prompt_number": 1
    },
    {
     "cell_type": "code",
     "collapsed": false,
     "input": [
      "curdir = os.getcwd()\n",
      "outdir = os.path.join(os.path.split(curdir)[0], \n",
      "                      'ext_data')\n",
      "ds.makedir(outdir)"
     ],
     "language": "python",
     "metadata": {},
     "outputs": [],
     "prompt_number": 8
    },
    {
     "cell_type": "markdown",
     "metadata": {},
     "source": [
      "## hg19\n",
      "\n",
      "I'll download hg19 from UCSC, convert to fasta and\n",
      "index with samtools. Note that I'm assuming samtools is in your path."
     ]
    },
    {
     "cell_type": "code",
     "collapsed": false,
     "input": [
      "f = ds.hg19\n",
      "if not os.path.exists(f):\n",
      "    req = urlopen('http://hgdownload.cse.ucsc.edu/goldenPath/hg19/bigZips/hg19.2bit')\n",
      "    dest = os.path.join(ds.root, 'ext_data', 'hg19.2bit')\n",
      "    with open(dest, 'w') as d:\n",
      "        shutil.copyfileobj(req, d)\n",
      "    req = urlopen('http://hgdownload.cse.ucsc.edu/admin/exe/linux.x86_64/twoBitToFa')\n",
      "    dest = os.path.join(ds.root, 'ext_data', 'twoBitToFa')\n",
      "    with open(dest, 'w') as d:\n",
      "        shutil.copyfileobj(req, d)\n",
      "    !chmod 755 ../ext_data/twoBitToFa\n",
      "    !../ext_data/twoBitToFa ../ext_data/hg19.2bit ../ext_data/hg19.fa\n",
      "    !samtools faidx ../ext_data/hg19.fa"
     ],
     "language": "python",
     "metadata": {},
     "outputs": [
      {
       "output_type": "stream",
       "stream": "stdout",
       "text": [
        "/bin/sh: ../ext_data/twoBitToFa: cannot execute binary file\r\n"
       ]
      },
      {
       "output_type": "stream",
       "stream": "stdout",
       "text": [
        "/bin/sh: samtools: command not found\r\n"
       ]
      }
     ],
     "prompt_number": 11
    },
    {
     "cell_type": "markdown",
     "metadata": {},
     "source": [
      "## Gencode GTF\n",
      "\n",
      "We'll download the Gencode v14 GTF if we don't have it."
     ]
    },
    {
     "cell_type": "code",
     "collapsed": false,
     "input": [
      "# Download Gencode GTF\n",
      "src = 'ftp://ftp.sanger.ac.uk/pub/gencode/release_14/gencode.v14.annotation.gtf.gz'\n",
      "dest = ds.gencode_gtf\n",
      "if not os.path.exists(dest):\n",
      "    ds.makedir(os.path.join(outdir, 'gencode'))\n",
      "    print('Downloading '.format(dest))\n",
      "    req = urlopen(src)\n",
      "    with open(dest + '.gz', 'w') as f:\n",
      "        shutil.copyfileobj(req, f)\n",
      "    !gunzip ../ext_data/gencode/gencode.v14.annotation.gtf.gz"
     ],
     "language": "python",
     "metadata": {},
     "outputs": [
      {
       "output_type": "stream",
       "stream": "stdout",
       "text": [
        "Downloading \n"
       ]
      }
     ],
     "prompt_number": 14
    }
   ],
   "metadata": {}
  }
 ]
}