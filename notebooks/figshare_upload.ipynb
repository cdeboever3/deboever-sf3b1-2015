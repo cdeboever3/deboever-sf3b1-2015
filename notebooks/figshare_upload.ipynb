{
 "metadata": {
  "name": "",
  "signature": "sha256:8ac3bd888fc3f14f5ff87edc86c62b3e6141208ef98912eb310fc6223ae6bd0c"
 },
 "nbformat": 3,
 "nbformat_minor": 0,
 "worksheets": [
  {
   "cells": [
    {
     "cell_type": "markdown",
     "metadata": {},
     "source": [
      "# Figshare\n",
      "\n",
      "In this notebook, I'll upload files to figshare. I will\n",
      "upload primary data files like splice junction coverage\n",
      "or gene expression, intermediate data files such as \n",
      "DEXSeq results or branchpoint prediction, and I'll update\n",
      "\"final\" files such as figures and tables.\n",
      "\n",
      "Throughout this notebook I'll refer to paths relative to \n",
      "the main git directory for this project. So if the git \n",
      "repository is located at `/home/user/deboever-sf3b1-2014` \n",
      "and I refer to the directory `data`, I'm referring to\n",
      "`/home/user/deboever-sf3b1-2014/data` ."
     ]
    },
    {
     "cell_type": "code",
     "collapsed": false,
     "input": [
      "import glob\n",
      "import os\n",
      "import subprocess\n",
      "\n",
      "import ds2014 as ds"
     ],
     "language": "python",
     "metadata": {},
     "outputs": [],
     "prompt_number": 1
    },
    {
     "cell_type": "code",
     "collapsed": false,
     "input": [
      "ARTICLE_ID = '1066525'"
     ],
     "language": "python",
     "metadata": {},
     "outputs": []
    },
    {
     "cell_type": "code",
     "collapsed": false,
     "input": [
      "def md5(path):\n",
      "    \"\"\"Get md5 checksum\"\"\"\n",
      "    cs = subprocess.check_output(['md5',path]).strip().split(' = ')[1]\n",
      "    return cs\n",
      "\n",
      "def get_files(path):\n",
      "    \"\"\"Get full paths for all files whose prefix is path\"\"\"\n",
      "    if os.path.isfile(path):\n",
      "        return [path]\n",
      "    elif os.path.isdir(path):\n",
      "        paths = glob.glob(os.path.join(path,'*'))\n",
      "        out = []\n",
      "        for p in paths:\n",
      "            out += get_files(p)\n",
      "        return out\n",
      "    else:\n",
      "        return None"
     ],
     "language": "python",
     "metadata": {},
     "outputs": [],
     "prompt_number": 2
    },
    {
     "cell_type": "markdown",
     "metadata": {},
     "source": [
      "## Figshare filelist\n",
      "\n",
      "I have a file in the figshare fileset that describes\n",
      "what files are uploaded to figshare and their md5\n",
      "checksums. We'll download that file and check against\n",
      "what we already have available in the local repository. \n",
      "Any missing files or files whose checksums differ from \n",
      "those on figshare will be downloaded."
     ]
    },
    {
     "cell_type": "code",
     "collapsed": false,
     "input": [
      "# If the filelist doesn't exist, this \n",
      "# is the first upload and we'll create it.\n"
     ],
     "language": "python",
     "metadata": {},
     "outputs": [],
     "prompt_number": 3
    },
    {
     "cell_type": "markdown",
     "metadata": {},
     "source": [
      "## Upload\n",
      "\n",
      "### Primary data\n",
      "\n",
      "Primary data is located in the `data` directory. These are\n",
      "files that are not created by any of the notebooks in this\n",
      "repository.\n",
      "\n",
      "### Output from notebooks\n",
      "\n",
      "The output files from the notebooks located in `notebooks` \n",
      "are stored in `output`."
     ]
    },
    {
     "cell_type": "code",
     "collapsed": false,
     "input": [
      "files = []\n",
      "\n",
      "# Primary data\n",
      "subdir = os.path.join(ds.root, 'data')\n",
      "files += get_files(subdir)\n",
      "\n",
      "# Output from notebooks \n",
      "subdir = os.path.join(ds.root, 'output')\n",
      "files += get_files(subdir)\n",
      "\n",
      "current_cs = dict(zip([ x[len(ds.root) + 1:] for x in files ],\n",
      "                      [ md5(x) for x in files ]))\n",
      "\n",
      "if figshare_cs:\n",
      "    for f in current_cs.keys():\n",
      "        if current_cs[f] != figshare_cs[f]:\n",
      "            figshare_upload(f)\n",
      "else:\n",
      "    for f in current_cs.keys():\n",
      "        figshare_upload(f)"
     ],
     "language": "python",
     "metadata": {},
     "outputs": [],
     "prompt_number": 13
    }
   ],
   "metadata": {}
  }
 ]
}