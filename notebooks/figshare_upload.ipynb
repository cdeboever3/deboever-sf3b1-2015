{
 "metadata": {
  "name": "",
  "signature": "sha256:75dbcde5e3c3dba65023bf0ef1f9da48c1cf00bd833f9994406cd104514ac38f"
 },
 "nbformat": 3,
 "nbformat_minor": 0,
 "worksheets": [
  {
   "cells": [
    {
     "cell_type": "markdown",
     "metadata": {},
     "source": [
      "# Figshare Upload\n",
      "\n",
      "In this notebook, I'll upload files to figshare. I will\n",
      "upload primary data files like splice junction coverage\n",
      "or gene expression, intermediate data files such as \n",
      "DEXSeq results or branchpoint prediction, and I'll update\n",
      "\"final\" files such as figures and tables.\n",
      "\n",
      "Throughout this notebook I'll refer to paths relative to \n",
      "the main git directory for this project. So if the git \n",
      "repository is located at `/home/user/deboever-sf3b1-2014` \n",
      "and I refer to the directory `data`, I'm referring to\n",
      "`/home/user/deboever-sf3b1-2014/data`.\n",
      "\n",
      "Note that it is unlikely that this file will be useful to \n",
      "anyone except me because I'm the only one uploading data \n",
      "for this project. However, feel free to take a look at what\n",
      "I've done for ideas or use this as boilerplate."
     ]
    },
    {
     "cell_type": "code",
     "collapsed": false,
     "input": [
      "import glob\n",
      "import hashlib\n",
      "import os\n",
      "import subprocess\n",
      "import urllib2\n",
      "\n",
      "import ds2014 as ds\n",
      "import figshare\n",
      "import pandas as pd"
     ],
     "language": "python",
     "metadata": {},
     "outputs": [],
     "prompt_number": 1
    },
    {
     "cell_type": "code",
     "collapsed": false,
     "input": [
      "# Files bigger than this size (in bytes) must \n",
      "# be uploaded manually to Figshare\n",
      "max_upload_size = 100000000"
     ],
     "language": "python",
     "metadata": {},
     "outputs": [],
     "prompt_number": 2
    },
    {
     "cell_type": "code",
     "collapsed": false,
     "input": [
      "def get_files(path):\n",
      "    \"\"\"Get full paths for all files whose prefix is path\"\"\"\n",
      "    if os.path.isfile(path):\n",
      "        return [path]\n",
      "    elif os.path.isdir(path):\n",
      "        paths = glob.glob(os.path.join(path,'*'))\n",
      "        out = []\n",
      "        for p in paths:\n",
      "            out += get_files(p)\n",
      "        return out\n",
      "    else:\n",
      "        return None\n",
      "\n",
      "def md5_for_file(fn, block_size=2**20):\n",
      "    f = open(fn)\n",
      "    md5 = hashlib.md5()\n",
      "    while True:\n",
      "        data = f.read(block_size)\n",
      "        if not data:\n",
      "            break\n",
      "        md5.update(data)\n",
      "    f.close()\n",
      "    return md5.hexdigest()"
     ],
     "language": "python",
     "metadata": {},
     "outputs": [],
     "prompt_number": 3
    },
    {
     "cell_type": "markdown",
     "metadata": {},
     "source": [
      "## Figshare client\n",
      "\n",
      "I'm using the pypi package `figshare` to interact\n",
      "with figshare. The package was originally designed\n",
      "as a command line interface but [I've branched it](https://github.com/cdeboever3/figshare)\n",
      "and added some functionality as well as exposed parts to \n",
      "be used as a python package.\n",
      "\n",
      "### Setting up\n",
      "\n",
      "You can install the `figshare` package from my repository \n",
      "using the standard `python setup.py install`. Try running\n",
      "`figshare` at the command line and set up your access token\n",
      "file. By default it is stored at `~/.figshare-token`. Once \n",
      "you've done this, you can upload files."
     ]
    },
    {
     "cell_type": "code",
     "collapsed": false,
     "input": [
      "# Initialize figshare client\n",
      "token_file = os.path.expanduser('~/.figshare-token')\n",
      "access_token, access_token_secret = figshare.oauth_dance.read_token_file(token_file)\n",
      "fg = figshare.Figshare(figshare.consumer_key, \n",
      "                       figshare.consumer_secret, \n",
      "                       access_token, \n",
      "                       access_token_secret)"
     ],
     "language": "python",
     "metadata": {},
     "outputs": [],
     "prompt_number": 4
    },
    {
     "cell_type": "markdown",
     "metadata": {},
     "source": [
      "## Figshare manifest\n",
      "\n",
      "I have a manifest file in the figshare fileset that describes\n",
      "what files are uploaded to figshare and their sha256\n",
      "hashes. We'll download that file and check against\n",
      "what we already have available in the local repository. \n",
      "Any missing files or files whose hashes differ from \n",
      "those on figshare will be downloaded.\n",
      "\n",
      "If the manifest doesn't exist, this \n",
      "is the first upload and we'll create it."
     ]
    },
    {
     "cell_type": "code",
     "collapsed": false,
     "input": [
      "details = fg.article_details(ds.figshare_article_id)\n",
      "figshare_files = [ x['name'] for x in details['items'][0]['files'] ]\n",
      "\n",
      "fn = os.path.split(ds.figshare_manifest)[1]\n",
      "if fn in figshare_files:\n",
      "    download_urls = dict([ [x['name'], x['download_url']] for x in details['items'][0]['files'] ])\n",
      "    file_ids = dict([ [x['name'], x['id']] for x in details['items'][0]['files'] ])\n",
      "    lines = urllib2.urlopen(download_urls[fn]).read().strip().split('\\n')\n",
      "    figshare_hashes = dict([ x.split('\\t') for x in lines ])\n",
      "else:\n",
      "    figshare_hashes = None"
     ],
     "language": "python",
     "metadata": {},
     "outputs": [],
     "prompt_number": 5
    },
    {
     "cell_type": "markdown",
     "metadata": {},
     "source": [
      "## Upload\n",
      "\n",
      "### Primary data\n",
      "\n",
      "Primary data is located in the `data` directory. These are\n",
      "files that are not created by any of the notebooks in this\n",
      "repository.\n",
      "\n",
      "### Output from notebooks\n",
      "\n",
      "The output files from the notebooks located in `notebooks` \n",
      "are stored in `output`."
     ]
    },
    {
     "cell_type": "code",
     "collapsed": false,
     "input": [
      "local_files = []\n",
      "\n",
      "# Primary data\n",
      "subdir = os.path.join(ds.root, 'data')\n",
      "local_files += get_files(subdir)\n",
      "\n",
      "# Output from notebooks \n",
      "subdir = os.path.join(ds.root, 'output')\n",
      "local_files += get_files(subdir)\n",
      "\n",
      "upload_paths = dict(zip([ x[len(ds.root) + 1:] for x in local_files ],\n",
      "                        local_files))\n",
      "\n",
      "local_hashes = dict(zip(upload_paths.keys(),\n",
      "                    [md5_for_file(fname) for fname in upload_paths.values()]))\n",
      "\n",
      "# List of files we've uploaded in this session\n",
      "uploaded = []"
     ],
     "language": "python",
     "metadata": {},
     "outputs": [],
     "prompt_number": 6
    },
    {
     "cell_type": "markdown",
     "metadata": {},
     "source": [
      "For some reason Figshare is timing out when I'm trying to\n",
      "upload large files so I have to upload a few files by hand."
     ]
    },
    {
     "cell_type": "code",
     "collapsed": false,
     "input": [
      "manual_upload = []\n",
      "upload_manifest = False\n",
      "print('Uploaded:\\n')\n",
      "if figshare_hashes:\n",
      "    for f in local_hashes.keys():\n",
      "        if f not in figshare_hashes.keys():\n",
      "            if os.path.getsize(os.path.join(ds.root, f)) < max_upload_size:\n",
      "                print(f)\n",
      "                fg.upload_file(ds.figshare_article_id, upload_paths[f])\n",
      "            else:\n",
      "                manual_upload.append(f)\n",
      "            upload_manifest = True\n",
      "        elif local_hashes[f] != figshare_hashes[f]:\n",
      "            file_id = file_ids[os.path.split(f)[1]]\n",
      "            fg.delete_file(ds.figshare_article_id, file_id)\n",
      "            if os.path.getsize(os.path.join(ds.root, f)) < max_upload_size:\n",
      "                print(f)\n",
      "                fg.upload_file(ds.figshare_article_id, upload_paths[f])\n",
      "            else:\n",
      "                manual_upload.append(f)\n",
      "            upload_manifest = True\n",
      "else:\n",
      "    upload_manifest = True\n",
      "    for f in local_hashes.keys():\n",
      "        if os.path.getsize(os.path.join(ds.root, f)) < max_upload_size:\n",
      "            print(f)\n",
      "            fg.upload_file(ds.figshare_article_id, upload_paths[f])\n",
      "            uploaded.append(f)\n",
      "        else:\n",
      "            manual_upload.append(f)\n",
      "print('\\nThese files must be uploaded manually:\\n{}'.format('\\n'.join(manual_upload)))"
     ],
     "language": "python",
     "metadata": {},
     "outputs": [
      {
       "output_type": "stream",
       "stream": "stdout",
       "text": [
        "Uploaded:\n",
        "\n",
        "\n",
        "These files must be uploaded manually:\n"
       ]
      },
      {
       "output_type": "stream",
       "stream": "stdout",
       "text": [
        "\n"
       ]
      }
     ],
     "prompt_number": 20
    },
    {
     "cell_type": "code",
     "collapsed": false,
     "input": [
      "# If we have to upload the manifest, we'll update the \n",
      "# hashes for all the files we just uploaded\n",
      "if upload_manifest:\n",
      "    if figshare_hashes:\n",
      "        fg.delete_file(ds.figshare_article_id, \n",
      "                       file_ids[os.path.split(ds.figshare_manifest)[1]])\n",
      "    pd.Series(local_hashes).to_csv(ds.figshare_manifest,\n",
      "                                   sep='\\t')\n",
      "    fg.upload_file(ds.figshare_article_id, ds.figshare_manifest)\n",
      "    print('Uploaded manifest')"
     ],
     "language": "python",
     "metadata": {},
     "outputs": [
      {
       "output_type": "stream",
       "stream": "stdout",
       "text": [
        "Uploaded manifest\n"
       ]
      }
     ],
     "prompt_number": 22
    },
    {
     "cell_type": "code",
     "collapsed": false,
     "input": [],
     "language": "python",
     "metadata": {},
     "outputs": []
    }
   ],
   "metadata": {}
  }
 ]
}