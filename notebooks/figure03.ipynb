{
 "metadata": {
  "name": "",
  "signature": "sha256:0410e4a010dce09edff55b55c69d18a44816be27085e5942aa171b53102318d9"
 },
 "nbformat": 3,
 "nbformat_minor": 0,
 "worksheets": [
  {
   "cells": [
    {
     "cell_type": "markdown",
     "metadata": {},
     "source": [
      "# Figure 3"
     ]
    },
    {
     "cell_type": "code",
     "collapsed": false,
     "input": [
      "import os\n",
      "\n",
      "import ds2014 as ds\n",
      "import matplotlib.gridspec as gridspec\n",
      "import matplotlib.pyplot as plt\n",
      "import pandas as pd"
     ],
     "language": "python",
     "metadata": {},
     "outputs": [],
     "prompt_number": 1
    },
    {
     "cell_type": "raw",
     "metadata": {},
     "source": [
      "rcParams.update({'font.size': 7})\n",
      "rcParams['ps.usedistiller'] = 'xpdf'\n",
      "matplotlib.rc('font',**{'family':'sans-serif','sans-serif':['Arial']})\n",
      "matplotlib.rc('text', usetex=True)"
     ]
    },
    {
     "cell_type": "code",
     "collapsed": false,
     "input": [
      "rcParams.update({'font.size': 7})\n",
      "rcParams['ps.usedistiller'] = 'xpdf'\n",
      "matplotlib.rc('font',**{'family':'sans-serif','sans-serif':['Helvetica']})\n",
      "matplotlib.rc('text', usetex=True)"
     ],
     "language": "python",
     "metadata": {},
     "outputs": [],
     "prompt_number": 2
    },
    {
     "cell_type": "code",
     "collapsed": false,
     "input": [
      "curdir = os.getcwd()\n",
      "outdir = os.path.join(os.path.split(curdir)[0], \n",
      "                      'output', \n",
      "                      'figure03')\n",
      "ds.makedir(outdir)"
     ],
     "language": "python",
     "metadata": {},
     "outputs": [],
     "prompt_number": 3
    },
    {
     "cell_type": "code",
     "collapsed": false,
     "input": [
      "proximal_single_bp = pd.read_table(ds.proximal_single_bp,\n",
      "                                   index_col=0, header=0)\n",
      "annot_single_bp = pd.read_table(ds.annot_single_bp,\n",
      "                                index_col=0, header=0)\n",
      "control_single_bp = pd.read_table(ds.control_single_bp,\n",
      "                                  index_col=0, header=0)\n",
      "annot_single_bp_second = pd.read_table(ds.annot_single_bp_second,\n",
      "                                       index_col=0, header=0)\n",
      "\n",
      "f = open(ds.control_ag_dists)\n",
      "lines = [ x.strip().split('\\t') for x in f.readlines() ]\n",
      "f.close()\n",
      "lines = [ x[1:] for x in lines if len(x) > 1 ]\n",
      "control_ag_dists = [ int(item) for sublist in lines for item in sublist ]"
     ],
     "language": "python",
     "metadata": {},
     "outputs": [],
     "prompt_number": 4
    },
    {
     "cell_type": "code",
     "collapsed": false,
     "input": [
      "def plot_hist(ax, se, xmin, xmax):\n",
      "    n,b,p = ax.hist(se, bins=arange(xmin, xmax, 1),\n",
      "                    color='grey', alpha=0.5,\n",
      "                    rwidth=0.8, lw=0)\n",
      "    xticks = ax.set_xticks(arange(xmin + 1, xmax, 3) + 0.5)\n",
      "    xticklabels = ax.set_xticklabels(arange(xmin + 1, xmax, 3))\n",
      "    xmin, xmax = ax.set_xlim(xmin, xmax)\n",
      "    ax.spines['right'].set_visible(False)\n",
      "    ax.spines['top'].set_visible(False)\n",
      "    for l in ax.get_xticklines() + ax.get_yticklines(): \n",
      "        l.set_markersize(0)\n",
      "    xlabel = ax.set_xlabel('Distance (bp)')\n",
      "    ax.yaxis.set_major_formatter(ds.comma_format)\n",
      "    return ax"
     ],
     "language": "python",
     "metadata": {},
     "outputs": [],
     "prompt_number": 5
    },
    {
     "cell_type": "code",
     "collapsed": false,
     "input": [
      "fig = plt.figure(figsize=(6, 4.2),\n",
      "                 dpi=600)\n",
      "\n",
      "gs = gridspec.GridSpec(4, 2, \n",
      "                       height_ratios=[0.07, 0.31, 0.31, 0.31])\n",
      "\n",
      "ax = fig.add_subplot(gs[0, :])\n",
      "ds.clean_axis(ax)\n",
      "ax.text(0, 0, 'Figure 3',\n",
      "        size=16, va='bottom')\n",
      "\n",
      "# Distance from branchpoint for annotated junction\n",
      "# to proximal cryptic junction\n",
      "ax = fig.add_subplot(gs[1, 0])\n",
      "xmin = 2\n",
      "xmin = int(annot_single_bp.bp_proximal_dist.min())\n",
      "xmax = int(annot_single_bp.bp_proximal_dist.max()) + 1\n",
      "ax = plot_hist(ax, annot_single_bp.bp_proximal_dist, xmin, xmax)\n",
      "ylabel = ax.set_ylabel('Number of acceptors')\n",
      "\n",
      "# Distance from control acceptor to upstream AG\n",
      "# dinucleotides.\n",
      "ax = fig.add_subplot(gs[1, 1])\n",
      "xmin = 2\n",
      "xmin = min(control_ag_dists)\n",
      "xmax = max(control_ag_dists) + 1\n",
      "ax = plot_hist(ax, control_ag_dists, xmin, xmax)\n",
      "ylabel = ax.set_ylabel('Number of AG\\'s')\n",
      "\n",
      "# Distance from branchpoint for annotated junction\n",
      "# to proximal cryptic junction, second highest scoring\n",
      "# branchpoint for some junctions.\n",
      "ax = fig.add_subplot(gs[2, 0])\n",
      "xmin = 2\n",
      "xmin = int(annot_single_bp.bp_proximal_dist.min())\n",
      "xmax = int(annot_single_bp.bp_proximal_dist.max()) + 1\n",
      "ax = plot_hist(ax, annot_single_bp_second.bp_proximal_dist, xmin, xmax)\n",
      "ylabel = ax.set_ylabel('Number of acceptors')\n",
      "\n",
      "# Diagram to be added\n",
      "ax = fig.add_subplot(gs[2, 1])\n",
      "ds.clean_axis(ax)\n",
      "\n",
      "# Distance from branchpoint for control junctions\n",
      "# to control acceptor\n",
      "ax = fig.add_subplot(gs[3, 0])\n",
      "xmin = control_single_bp.ss_dist.min()\n",
      "xmax = int(control_single_bp.ss_dist.max()) + 1\n",
      "ax = plot_hist(ax, control_single_bp.ss_dist, xmin, xmax)\n",
      "ylabel = ax.set_ylabel('Number of acceptors')\n",
      "    \n",
      "# Distance from branchpoint for annotated junctions\n",
      "# to annotated acceptor\n",
      "ax = fig.add_subplot(gs[3, 1])\n",
      "xmin = annot_single_bp.ss_dist.min()\n",
      "xmax = int(annot_single_bp.ss_dist.max()) + 1\n",
      "ax = plot_hist(ax, annot_single_bp.ss_dist, xmin, xmax)\n",
      "ylabel = ax.set_ylabel('Number of acceptors')\n",
      "\n",
      "t = fig.text(0, 0.85, 'a', \n",
      "             weight='bold', \n",
      "             size=ds.subfigure_label_fontsize)\n",
      "t = fig.text(0.505, 0.85, 'b', \n",
      "             weight='bold', \n",
      "             size=ds.subfigure_label_fontsize)\n",
      "t = fig.text(0, 0.57, 'c', \n",
      "             weight='bold', \n",
      "             size=ds.subfigure_label_fontsize)\n",
      "t = fig.text(0.505, 0.57, 'd', \n",
      "             weight='bold', \n",
      "             size=ds.subfigure_label_fontsize)\n",
      "t = fig.text(0, 0.29, 'e', \n",
      "             weight='bold', \n",
      "             size=ds.subfigure_label_fontsize)\n",
      "t = fig.text(0.505, 0.29, 'f', \n",
      "             weight='bold', \n",
      "             size=ds.subfigure_label_fontsize)\n",
      "    \n",
      "fig.tight_layout()\n",
      "fig.savefig(os.path.join(outdir, 'figure03_precursor.pdf'),\n",
      "            transparent=True, bbox_inches='tight')"
     ],
     "language": "python",
     "metadata": {},
     "outputs": [
      {
       "metadata": {},
       "output_type": "display_data",
       "png": "[encoded data removed]",
       "text": [
        "<matplotlib.figure.Figure at 0x7fe6a89050d0>"
       ]
      }
     ],
     "prompt_number": 6
    }
   ],
   "metadata": {}
  }
 ]
}
