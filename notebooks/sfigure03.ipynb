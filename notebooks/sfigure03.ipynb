{
 "metadata": {
  "name": "",
  "signature": "sha256:2b5a16730f2722142c1e1e02c040959ec10a92e8d068aa64fe4624cf72744253"
 },
 "nbformat": 3,
 "nbformat_minor": 0,
 "worksheets": [
  {
   "cells": [
    {
     "cell_type": "markdown",
     "metadata": {},
     "source": [
      "# Supplementary Figure 3\n",
      "\n",
      "I'll plot the library-normalized coverage \n",
      "as a $z$-score for significant junctions with novel \n",
      "acceptors that are 10-30 bp upstream of annotated acceptors \n",
      "for all five cancer types."
     ]
    },
    {
     "cell_type": "code",
     "collapsed": false,
     "input": [
      "import brewer2mpl\n",
      "import os\n",
      "\n",
      "import ds2014 as ds\n",
      "import matplotlib\n",
      "import matplotlib.gridspec as gridspec\n",
      "from matplotlib.patches import Polygon\n",
      "import matplotlib.pyplot as plt\n",
      "from matplotlib.transforms import Bbox\n",
      "import pandas as pd\n",
      "import scipy.spatial.distance as dist\n",
      "import scipy.cluster.hierarchy as sch"
     ],
     "language": "python",
     "metadata": {},
     "outputs": [],
     "prompt_number": 1
    },
    {
     "cell_type": "code",
     "collapsed": false,
     "input": [
      "rcParams.update({'font.size': 7})\n",
      "rcParams['ps.usedistiller'] = 'xpdf'\n",
      "matplotlib.rc('font',**{'family':'sans-serif','sans-serif':['Helvetica']})\n",
      "matplotlib.rc('text', usetex=True)"
     ],
     "language": "python",
     "metadata": {},
     "outputs": [],
     "prompt_number": 2
    },
    {
     "cell_type": "code",
     "collapsed": false,
     "input": [
      "curdir = os.getcwd()\n",
      "outdir = os.path.join(os.path.split(curdir)[0], \n",
      "                      'output', \n",
      "                      'sfigure03')\n",
      "ds.makedir(outdir)\n",
      "\n",
      "set1 = brewer2mpl.get_map('Set1', 'Qualitative', 9)\n",
      "mut_color = set1.mpl_colors[0]\n",
      "wt_color = set1.mpl_colors[1]\n",
      "\n",
      "meta = pd.read_table(ds.metadata, index_col=0, header=0)\n",
      "\n",
      "counts = pd.read_table(ds.brca_sj_counts,\n",
      "                       index_col=0,\n",
      "                       header=0)\n",
      "\n",
      "results = pd.read_table(ds.brca_dexseq_results,\n",
      "                        index_col=0,\n",
      "                        header=0)\n",
      "\n",
      "mut_info = pd.read_table(ds.sf3b1_mut_info, header=0, index_col=0)\n",
      "mut_info.index = mut_info.name\n",
      "\n",
      "size_factors = pd.read_table(ds.brca_size_factors,\n",
      "                             index_col=0,\n",
      "                             header=0)"
     ],
     "language": "python",
     "metadata": {},
     "outputs": [],
     "prompt_number": 3
    },
    {
     "cell_type": "markdown",
     "metadata": {},
     "source": [
      "I need to get the junctions whose usage differs \n",
      "significantly between the mutant and wild-type samples.\n",
      "I will normalize the counts for these junctions by the \n",
      "size factors from DEXSeq, take $log_2$, and make a \n",
      "$z$-score."
     ]
    },
    {
     "cell_type": "code",
     "collapsed": false,
     "input": [
      "df = results[(results.padjust < ds.dexseq_p_cutoff) &\n",
      "             (results.downstream_acceptor_dist <= 30) &\n",
      "             (results.downstream_acceptor_dist >= 10) &\n",
      "             (results['log2fold(MUT/WT)'] > 0)]\n",
      "\n",
      "dfc = counts.ix[df.index].T\n",
      "for ind in dfc.index:\n",
      "    dfc.ix[ind] = dfc.ix[ind] / size_factors.ix[ind].values[0]\n",
      "dfc = log2(dfc + 1)\n",
      "\n",
      "# cluster rows\n",
      "dd = dist.squareform(dist.pdist(dfc))\n",
      "hc = sch.linkage(dd, method='single')\n",
      "dm = sch.dendrogram(hc, color_threshold=np.inf,\n",
      "                    no_plot=True)\n",
      " # list mapping old indices to new indices\n",
      "idx = dm['leaves']\n",
      "# update data according to new indices\n",
      "dfc = dfc.ix[idx] \n",
      "# cluster columns\n",
      "dd = dist.squareform(dist.pdist(dfc.T))\n",
      "hc = sch.linkage(dd, method='single')\n",
      "dm = sch.dendrogram(hc, color_threshold=np.inf,\n",
      "                    no_plot=True)\n",
      "idx = dm['leaves']\n",
      "dfc = dfc.ix[:,idx]\n",
      "\n",
      "df = df.ix[dfc.columns]"
     ],
     "language": "python",
     "metadata": {},
     "outputs": [],
     "prompt_number": 4
    },
    {
     "cell_type": "code",
     "collapsed": false,
     "input": [
      "fig = plt.figure(figsize=(6, 6), dpi=600)\n",
      "gs = gridspec.GridSpec(3, 3, \n",
      "                       width_ratios=[0.05, 1, 0.05],\n",
      "                       height_ratios=[0.05, 1, 0.05])\n",
      "\n",
      "ax = fig.add_subplot(gs[0, :])\n",
      "ds.clean_axis(ax)\n",
      "ax.text(0, 0, 'Supplementary Figure 3',\n",
      "        size=16, va='bottom')\n",
      "\n",
      "### heatmap axis\n",
      "heatmapAX = fig.add_subplot(gs[1, 1])\n",
      "im = heatmapAX.imshow(dfc, aspect='auto', \n",
      "                      origin='lower', \n",
      "                      interpolation='nearest',\n",
      "                      cmap=cm.Greys)\n",
      "for l in heatmapAX.get_xticklines() + heatmapAX.get_yticklines(): \n",
      "    l.set_markersize(0)\n",
      "for sp in heatmapAX.spines.values():\n",
      "    sp.set_visible(False)\n",
      "ds.clean_axis(heatmapAX)\n",
      "yticks = []\n",
      "for sample in dfc.index:\n",
      "    if sample in mut_info.index:\n",
      "        yticks.append('{0} ({1:.2})'.format(mut_info.codon_change.replace(np.nan,'*').ix[sample],\n",
      "                                            mut_info.ix[sample,'alt_freq']))\n",
      "    else:\n",
      "        yticks.append('')\n",
      "heatmapAX.set_yticks(range(dfc.shape[0]))\n",
      "heatmapAX.set_yticklabels(yticks)\n",
      "\n",
      "### colorbar axis\n",
      "colorbarAX = fig.add_subplot(gs[1, 2])\n",
      "cb = colorbar(mappable=im, cax=colorbarAX)\n",
      "cb.solids.set_edgecolor(\"face\")\n",
      "cb.outline.set_linewidth(0)\n",
      "for l in colorbarAX.get_yticklines():\n",
      "    l.set_markersize(0)\n",
      "cb.set_label('$log_{2}$ normalized counts',\n",
      "             rotation=270, labelpad=10)\n",
      "\n",
      "### plot out of frame heatmap\n",
      "frameAX = fig.add_subplot(gs[2, 1])\n",
      "im = frameAX.imshow([df.downstream_acceptor_dist.apply(lambda x: [0,1][x % 3 != 0])],\n",
      "                    aspect='auto', origin='lower', cmap=cm.Greys, interpolation='nearest')\n",
      "                    \n",
      "ds.clean_axis(frameAX)\n",
      "\n",
      "### out of frame label\n",
      "# make y-axis labels for out of frame heatmap. \n",
      "# Due to tight layout, it's easier for me to\n",
      "# make these as custom text in the adjacent axis\n",
      "frame_labelAX = fig.add_subplot(gs[2, 0])\n",
      "ds.clean_axis(frame_labelAX)\n",
      "t = plt.text(1, 0.5, 'Out of frame', \n",
      "             ha='right', va='center')\n",
      "\n",
      "#gs.tight_layout(fig)\n",
      "fig.savefig(os.path.join(outdir, 'sfigure03.pdf'),\n",
      "            transparent=True, dpi=600)"
     ],
     "language": "python",
     "metadata": {},
     "outputs": [
      {
       "metadata": {},
       "output_type": "display_data",
       "png": "[encoded data removed]",
       "text": [
        "<matplotlib.figure.Figure at 0x7f46d9c22910>"
       ]
      }
     ],
     "prompt_number": 12
    },
    {
     "cell_type": "code",
     "collapsed": false,
     "input": [],
     "language": "python",
     "metadata": {},
     "outputs": []
    }
   ],
   "metadata": {}
  }
 ]
}