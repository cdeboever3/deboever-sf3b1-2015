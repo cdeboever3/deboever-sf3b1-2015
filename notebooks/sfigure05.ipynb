{
 "metadata": {
  "name": "",
  "signature": "sha256:528f2771bc640200f6ad9d45d76bf9d9d070014878839e196ecc1c54433739b4"
 },
 "nbformat": 3,
 "nbformat_minor": 0,
 "worksheets": [
  {
   "cells": [
    {
     "cell_type": "markdown",
     "metadata": {},
     "source": [
      "# Supplementary Figure 5\n",
      "\n",
      "I'm going to plot some distances:\n",
      "\n",
      "* distance from highest scoring branchpoint (BP) predicted for\n",
      "proximal cryptic 3'SSs to the 3'SS\n",
      "* distance from highest scoring BP predicted for cryptic 3'SSs \n",
      "to the 3'SS for 3'SSs that are not 10-30 bp\n",
      "upstream of the canonical 3'SS but \n",
      "* distance from highest scoring branchpoint (BP) predicted for\n",
      "proximal cryptic 3'SSs to the 3'SS except we will use the\n",
      "second highest scoring BP if the highest scoring BP was not 13-17 bp\n",
      "from the 3'SS\n",
      "* distance from BP predicted for cryptic 3'SSs \n",
      "to the 3'SS for 3'SSs that are not 10-30 bp\n",
      "upstream of the canonical 3'SS except we will use the\n",
      "second highest scoring BP if the highest scoring BP was not 13-17 bp\n",
      "from the 3'SS"
     ]
    },
    {
     "cell_type": "code",
     "collapsed": false,
     "input": [
      "import os\n",
      "\n",
      "import ds2014 as ds\n",
      "import matplotlib.gridspec as gridspec\n",
      "import matplotlib.pyplot as plt\n",
      "import pandas as pd"
     ],
     "language": "python",
     "metadata": {},
     "outputs": [],
     "prompt_number": 8
    },
    {
     "cell_type": "code",
     "collapsed": false,
     "input": [
      "rcParams.update({'font.size': 7})\n",
      "rcParams['ps.usedistiller'] = 'xpdf'\n",
      "matplotlib.rc('font',**{'family':'sans-serif','sans-serif':['Helvetica']})\n",
      "matplotlib.rc('text', usetex=True)"
     ],
     "language": "python",
     "metadata": {},
     "outputs": [],
     "prompt_number": 9
    },
    {
     "cell_type": "code",
     "collapsed": false,
     "input": [
      "curdir = os.getcwd()\n",
      "outdir = os.path.join(os.path.split(curdir)[0], \n",
      "                      'output', \n",
      "                      'sfigure05')\n",
      "ds.makedir(outdir)"
     ],
     "language": "python",
     "metadata": {},
     "outputs": [],
     "prompt_number": 10
    },
    {
     "cell_type": "code",
     "collapsed": false,
     "input": [
      "not_proximal_single_bp = pd.read_table(ds.not_proximal_single_bp,\n",
      "                                       index_col=0, header=0)\n",
      "not_proximal_all_bp = pd.read_table(ds.not_proximal_all_bp,\n",
      "                                    index_col=None, header=0)\n",
      "proximal_single_bp = pd.read_table(ds.proximal_single_bp,\n",
      "                                   index_col=0, header=0)\n",
      "proximal_all_bp = pd.read_table(ds.proximal_all_bp,\n",
      "                                index_col=None, header=0)"
     ],
     "language": "python",
     "metadata": {},
     "outputs": [],
     "prompt_number": 11
    },
    {
     "cell_type": "code",
     "collapsed": false,
     "input": [
      "def get_second_highest_bp(seq_id, all_bp):\n",
      "    df = all_bp[all_bp.seq_id == seq_id].sort('bp_scr', ascending=False)\n",
      "    df.index = arange(df.shape[0])\n",
      "    if df.shape[0] > 1:\n",
      "        return df.ix[1]\n",
      "    else:\n",
      "        return df.ix[0]\n",
      "    \n",
      "second_highest = dict()\n",
      "for seq_id in not_proximal_single_bp[(not_proximal_single_bp.ss_dist < 13) |\n",
      "                              (not_proximal_single_bp.ss_dist > 17)].seq_id:\n",
      "    second_highest[seq_id] = get_second_highest_bp(seq_id, not_proximal_all_bp)\n",
      "not_proximal_single_bp_second = pd.concat([not_proximal_single_bp.drop(second_highest.keys()),\n",
      "                                     pd.DataFrame(second_highest).T])\n",
      "not_proximal_single_bp_second = not_proximal_single_bp_second.ix[not_proximal_single_bp.index,\n",
      "                                                     not_proximal_single_bp.columns]\n",
      "\n",
      "second_highest = dict()\n",
      "for seq_id in proximal_single_bp[(proximal_single_bp.ss_dist < 13) |\n",
      "                              (proximal_single_bp.ss_dist > 17)].seq_id:\n",
      "    second_highest[seq_id] = get_second_highest_bp(seq_id, proximal_all_bp)\n",
      "proximal_single_bp_second = pd.concat([proximal_single_bp.drop(second_highest.keys()),\n",
      "                                     pd.DataFrame(second_highest).T])\n",
      "proximal_single_bp_second = proximal_single_bp_second.ix[proximal_single_bp.index,\n",
      "                                                     proximal_single_bp.columns]"
     ],
     "language": "python",
     "metadata": {},
     "outputs": [],
     "prompt_number": 12
    },
    {
     "cell_type": "code",
     "collapsed": false,
     "input": [
      "def plot_hist(ax, se, xmin, xmax):\n",
      "    n,b,p = ax.hist(se, bins=arange(xmin, xmax, 1),\n",
      "                    color='grey', alpha=0.5,\n",
      "                    rwidth=0.8, lw=0)\n",
      "    print('{:,} items in histogram'.format(se.shape[0]))\n",
      "    xticks = ax.set_xticks(arange(xmin + 1, xmax, 3) + 0.5)\n",
      "    xticklabels = ax.set_xticklabels(arange(xmin + 1, xmax, 3))\n",
      "    xmin, xmax = ax.set_xlim(xmin, xmax)\n",
      "    ax.spines['right'].set_visible(False)\n",
      "    ax.spines['top'].set_visible(False)\n",
      "    for l in ax.get_xticklines() + ax.get_yticklines(): \n",
      "        l.set_markersize(0)\n",
      "    xlabel = ax.set_xlabel('Distance (bp)')\n",
      "    ax.yaxis.set_major_formatter(ds.comma_format)\n",
      "    return ax\n",
      "\n",
      "fig = plt.figure(figsize=(6, 4.2),\n",
      "                 dpi=600)\n",
      "\n",
      "gs = gridspec.GridSpec(3, 2, \n",
      "                       height_ratios=[0.06, 0.47, 0.47])\n",
      "\n",
      "ax = fig.add_subplot(gs[0, :])\n",
      "ds.clean_axis(ax)\n",
      "ax.text(0, 0, 'Supplementary Figure 5',\n",
      "        size=16, va='bottom')\n",
      "\n",
      "# Distance from branchpoint to cryptic 3'SSs\n",
      "# for proximal cryptic 3'SSs\n",
      "ax = fig.add_subplot(gs[1, 0])\n",
      "xmin = 2\n",
      "xmin = int(proximal_single_bp.ss_dist.min())\n",
      "xmax = int(proximal_single_bp.ss_dist.max()) + 1\n",
      "ax = plot_hist(ax, proximal_single_bp.ss_dist, xmin, xmax)\n",
      "ylabel = ax.set_ylabel('Number of 3\\'SSs')\n",
      "\n",
      "# Distance from branchpoint to cryptic 3'SSs\n",
      "# for not_proximal cryptic 3'SSs\n",
      "ax = fig.add_subplot(gs[1, 1])\n",
      "xmin = 2\n",
      "xmin = int(not_proximal_single_bp.ss_dist.min())\n",
      "xmax = int(not_proximal_single_bp.ss_dist.max()) + 1\n",
      "ax = plot_hist(ax, not_proximal_single_bp.ss_dist, xmin, xmax)\n",
      "ylabel = ax.set_ylabel('Number of 3\\'SSs')\n",
      "\n",
      "# Distance from branchpoint to cryptic 3'SSs\n",
      "# for proximal cryptic 3'SSs using first or\n",
      "# second highest scoring branchpoint\n",
      "ax = fig.add_subplot(gs[2, 0])\n",
      "xmin = 2\n",
      "xmin = int(proximal_single_bp_second.ss_dist.min())\n",
      "xmax = int(proximal_single_bp_second.ss_dist.max()) + 1\n",
      "ax = plot_hist(ax, proximal_single_bp_second.ss_dist, xmin, xmax)\n",
      "ylabel = ax.set_ylabel('Number of 3\\'SSs')\n",
      "\n",
      "ax = fig.add_subplot(gs[2, 1])\n",
      "xmin = 2\n",
      "xmin = int(not_proximal_single_bp_second.ss_dist.min())\n",
      "xmax = int(not_proximal_single_bp_second.ss_dist.max()) + 1\n",
      "ax = plot_hist(ax, not_proximal_single_bp_second.ss_dist, xmin, xmax)\n",
      "ylabel = ax.set_ylabel('Number of 3\\'SSs')\n",
      "\n",
      "t = fig.text(0, 0.83, 'a', \n",
      "             weight='bold', \n",
      "             size=ds.subfigure_label_fontsize)\n",
      "t = fig.text(0.505, 0.83, 'b', \n",
      "             weight='bold', \n",
      "             size=ds.subfigure_label_fontsize)\n",
      "t = fig.text(0, 0.42, 'c', \n",
      "             weight='bold', \n",
      "             size=ds.subfigure_label_fontsize)\n",
      "t = fig.text(0.505, 0.42, 'd', \n",
      "             weight='bold', \n",
      "             size=ds.subfigure_label_fontsize)\n",
      "    \n",
      "fig.tight_layout()\n",
      "fig.savefig(os.path.join(outdir, 'sfigure05.pdf'),\n",
      "            transparent=True, bbox_inches='tight')"
     ],
     "language": "python",
     "metadata": {},
     "outputs": [
      {
       "output_type": "stream",
       "stream": "stdout",
       "text": [
        "584 items in histogram\n",
        "405 items in histogram"
       ]
      },
      {
       "output_type": "stream",
       "stream": "stdout",
       "text": [
        "\n",
        "584 items in histogram"
       ]
      },
      {
       "output_type": "stream",
       "stream": "stdout",
       "text": [
        "\n",
        "405 items in histogram"
       ]
      },
      {
       "output_type": "stream",
       "stream": "stdout",
       "text": [
        "\n"
       ]
      },
      {
       "metadata": {},
       "output_type": "display_data",
       "png": "[encoded data removed]",
       "text": [
        "<matplotlib.figure.Figure at 0x7fde96341ad0>"
       ]
      }
     ],
     "prompt_number": 13
    },
    {
     "cell_type": "code",
     "collapsed": false,
     "input": [
      "num_lines = sum(1 for line in open(ds.proximal_jxns))\n",
      "print('{:,} proximal junctions'.format(num_lines))\n",
      "num_lines = sum(1 for line in open(ds.not_proximal_jxns))\n",
      "print('{:,} not proximal junctions'.format(num_lines))"
     ],
     "language": "python",
     "metadata": {},
     "outputs": [
      {
       "output_type": "stream",
       "stream": "stdout",
       "text": [
        "619 proximal junctions\n",
        "417 not proximal junctions\n"
       ]
      }
     ],
     "prompt_number": 14
    },
    {
     "cell_type": "code",
     "collapsed": false,
     "input": [],
     "language": "python",
     "metadata": {},
     "outputs": [],
     "prompt_number": 14
    }
   ],
   "metadata": {}
  }
 ]
}