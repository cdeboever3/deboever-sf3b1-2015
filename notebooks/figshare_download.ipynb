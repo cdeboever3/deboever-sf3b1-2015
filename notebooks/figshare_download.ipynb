{
 "metadata": {
  "name": "",
  "signature": "sha256:58bad2a578e9914033a54f0d1cebd210eaa377e878f99af9394c9639d6b36c3d"
 },
 "nbformat": 3,
 "nbformat_minor": 0,
 "worksheets": [
  {
   "cells": [
    {
     "cell_type": "markdown",
     "metadata": {},
     "source": [
      "# Figshare Download\n",
      "\n",
      "This notebook is used to download data from Figshare. This notebook \n",
      "will download primary data files as well as intermediate files and \n",
      "final files (like figures) from Figshare and organize them into \n",
      "directories inside a clone of this project's Github repository."
     ]
    },
    {
     "cell_type": "code",
     "collapsed": false,
     "input": [
      "import os\n",
      "import shutil\n",
      "import urllib2\n",
      "\n",
      "import ds2014 as ds\n",
      "import pandas as pd"
     ],
     "language": "python",
     "metadata": {},
     "outputs": [],
     "prompt_number": 1
    },
    {
     "cell_type": "markdown",
     "metadata": {},
     "source": [
      "The code below downloads the data from Figshare as one zip file.\n",
      "I've included print statements every 10% of the way. There is ~4GB\n",
      "of data so the download may take a bit of time."
     ]
    },
    {
     "cell_type": "code",
     "collapsed": false,
     "input": [
      "url = 'http://downloads.figshare.com/article/public/{}'.format(ds.figshare_article_id)\n",
      "\n",
      "file_name = url.split('/')[-1] + '.zip'\n",
      "u = urllib2.urlopen(url)\n",
      "f = open(file_name, 'wb')\n",
      "meta = u.info()\n",
      "file_size = int(meta.getheaders(\"Content-Length\")[0])\n",
      "print(\"Downloading: %s Bytes: %s\" % (file_name, file_size))\n",
      "sys.stdout.flush()\n",
      "\n",
      "file_size_dl = 0\n",
      "block_sz = 8192\n",
      "next_print = 0.1\n",
      "print_interval = 0.1\n",
      "while True:\n",
      "    buffer = u.read(block_sz)\n",
      "    if not buffer:\n",
      "        break\n",
      "\n",
      "    file_size_dl += len(buffer)\n",
      "    f.write(buffer)\n",
      "    percent = file_size_dl / float(file_size)\n",
      "    sys.stdout.flush()\n",
      "    if percent >= next_print:\n",
      "        status = '{:.0%} finished'.format(percent)\n",
      "        print(status)\n",
      "        sys.stdout.flush()\n",
      "        next_print += print_interval\n",
      "\n",
      "f.close()"
     ],
     "language": "python",
     "metadata": {},
     "outputs": [
      {
       "output_type": "stream",
       "stream": "stdout",
       "text": [
        "Downloading: 1120663.zip Bytes: 4206520923\n"
       ]
      },
      {
       "output_type": "stream",
       "stream": "stdout",
       "text": [
        "10% finished\n"
       ]
      },
      {
       "output_type": "stream",
       "stream": "stdout",
       "text": [
        "20% finished\n"
       ]
      },
      {
       "output_type": "stream",
       "stream": "stdout",
       "text": [
        "30% finished\n"
       ]
      },
      {
       "output_type": "stream",
       "stream": "stdout",
       "text": [
        "40% finished\n"
       ]
      },
      {
       "output_type": "stream",
       "stream": "stdout",
       "text": [
        "50% finished\n"
       ]
      },
      {
       "output_type": "stream",
       "stream": "stdout",
       "text": [
        "60% finished\n"
       ]
      },
      {
       "output_type": "stream",
       "stream": "stdout",
       "text": [
        "70% finished\n"
       ]
      },
      {
       "output_type": "stream",
       "stream": "stdout",
       "text": [
        "80% finished\n"
       ]
      },
      {
       "output_type": "stream",
       "stream": "stdout",
       "text": [
        "90% finished\n"
       ]
      },
      {
       "output_type": "stream",
       "stream": "stdout",
       "text": [
        "100% finished\n"
       ]
      }
     ],
     "prompt_number": 2
    },
    {
     "cell_type": "markdown",
     "metadata": {},
     "source": [
      "I'll unzip the data and use the manifest file to move \n",
      "the individual files to the correct locations inside\n",
      "the project repository."
     ]
    },
    {
     "cell_type": "code",
     "collapsed": false,
     "input": [
      "!unzip 1120663.zip "
     ],
     "language": "python",
     "metadata": {},
     "outputs": [
      {
       "output_type": "stream",
       "stream": "stdout",
       "text": [
        "Archive:  1120663.zip\r\n"
       ]
      },
      {
       "output_type": "stream",
       "stream": "stdout",
       "text": [
        " extracting: manifest.tsv            \r\n",
        " extracting: cll_deseq2_size_factors.tsv  \r\n",
        " extracting: brca_cll_um_deseq2_size_factors.tsv  \r\n",
        " extracting: cll_size_factors.tsv    \r\n"
       ]
      },
      {
       "output_type": "stream",
       "stream": "stdout",
       "text": [
        " extracting: brca_cll_um_sj_counts.tsv  "
       ]
      },
      {
       "output_type": "stream",
       "stream": "stdout",
       "text": [
        "\r\n",
        " extracting: brca_cll_um_size_factors.tsv  \r\n",
        " extracting: b6b7fb9f_129f_4baa_961b_5715adb22a62.Log.final.out  \r\n",
        " extracting: cancer_gene_census.tsv  \r\n",
        " extracting: stable06.tsv            \r\n",
        " extracting: SA03982.Log.final.out   \r\n",
        " extracting: brca_cll_um_sig_genes.tsv  \r\n",
        " extracting: bc0af03f_aa40_4b39_8876_6f2e7397181c.Log.final.out  \r\n"
       ]
      },
      {
       "output_type": "stream",
       "stream": "stdout",
       "text": [
        " extracting: SA22083.SJ.out.tab      "
       ]
      },
      {
       "output_type": "stream",
       "stream": "stdout",
       "text": [
        "\r\n",
        " extracting: fff72492_a90f_4699_a1d7_8e9186bd3cd6.SJ.out.tab  "
       ]
      },
      {
       "output_type": "stream",
       "stream": "stdout",
       "text": [
        "\r\n",
        " extracting: 646cf9ce_e8e9_4637_b843_2c6908a93a8f.SJ.out.tab  "
       ]
      },
      {
       "output_type": "stream",
       "stream": "stdout",
       "text": [
        "\r\n",
        " extracting: brca_cll_um_sj_stats.tsv  \r\n",
        " extracting: 95350f94_dc26_45e6_8183_28e9c7250ade_results.xprs  "
       ]
      },
      {
       "output_type": "stream",
       "stream": "stdout",
       "text": [
        "\r\n",
        " extracting: SA93051.SJ.out.tab      "
       ]
      },
      {
       "output_type": "stream",
       "stream": "stdout",
       "text": [
        "\r\n",
        " extracting: SA52314.SJ.out.tab      "
       ]
      },
      {
       "output_type": "stream",
       "stream": "stdout",
       "text": [
        "\r\n",
        " extracting: 26835e9c_11f9_476f_9d6b_ebc0ae3442e8.Log.final.out  \r\n",
        " extracting: transcript_fpkm.tsv     "
       ]
      },
      {
       "output_type": "stream",
       "stream": "stdout",
       "text": [
        "\r\n",
        " extracting: transcript_eff_counts.tsv  "
       ]
      },
      {
       "output_type": "stream",
       "stream": "stdout",
       "text": [
        "\r\n",
        " extracting: SA52314.Log.final.out   \r\n",
        " extracting: 766bbaa9_e498_471f_9f72_63a143e6656b.SJ.out.tab  "
       ]
      },
      {
       "output_type": "stream",
       "stream": "stdout",
       "text": [
        "\r\n",
        " extracting: SRR628588.SJ.out.tab    "
       ]
      },
      {
       "output_type": "stream",
       "stream": "stdout",
       "text": [
        "\r\n",
        " extracting: 3ed7f6c6_5ab0_40cd_8da2_124a7451d287_results.xprs  "
       ]
      },
      {
       "output_type": "stream",
       "stream": "stdout",
       "text": [
        "\r\n",
        " extracting: figure02.pdf            \r\n",
        " extracting: sf3b1_mut_info.tsv.readme  \r\n",
        " extracting: 63b2f6d2_2f86_4986_bcc1_9e1aae13f8bd_results.xprs  "
       ]
      },
      {
       "output_type": "stream",
       "stream": "stdout",
       "text": [
        "\r\n",
        " extracting: c52c3859_08f8_4f50_8596_bfa497a0d24f_results.xprs  "
       ]
      },
      {
       "output_type": "stream",
       "stream": "stdout",
       "text": [
        "\r\n",
        " extracting: cll_sj_stats.tsv        \r\n",
        " extracting: 5726682f_cb9d_4ccb_a5c7_0664d3ad0881.SJ.out.tab  "
       ]
      },
      {
       "output_type": "stream",
       "stream": "stdout",
       "text": [
        "\r\n",
        " extracting: SA00242.Log.final.out   \r\n",
        " extracting: SA65385.Log.final.out   \r\n",
        " extracting: fde0f3c2_c9db_4a98_89f9_53685c482160_results.xprs  "
       ]
      },
      {
       "output_type": "stream",
       "stream": "stdout",
       "text": [
        "\r\n",
        " extracting: gene_info.tsv           "
       ]
      },
      {
       "output_type": "stream",
       "stream": "stdout",
       "text": [
        "\r\n",
        " extracting: figure03.pdf            \r\n",
        " extracting: 4c4b2906_f082_4fcc_83e0_039e163ee8cc.SJ.out.tab  "
       ]
      },
      {
       "output_type": "stream",
       "stream": "stdout",
       "text": [
        "\r\n",
        " extracting: transcripts_genes.tsv   "
       ]
      },
      {
       "output_type": "stream",
       "stream": "stdout",
       "text": [
        "\r\n",
        " extracting: gene_fpkm.tsv           "
       ]
      },
      {
       "output_type": "stream",
       "stream": "stdout",
       "text": [
        "\r\n",
        " extracting: GSEA_MSigDB_Compute_Overlaps.pdf  \r\n",
        " extracting: proximal_single_bp_second.tsv  \r\n",
        " extracting: eaedb35d_ec72_45df_8790_18deafa143b8.Log.final.out  \r\n",
        " extracting: control_single_bp.tsv   "
       ]
      },
      {
       "output_type": "stream",
       "stream": "stdout",
       "text": [
        "\r\n",
        " extracting: 4c9289e0_378e_4293_877c_e12d207f384e.SJ.out.tab  "
       ]
      },
      {
       "output_type": "stream",
       "stream": "stdout",
       "text": [
        "\r\n",
        " extracting: ff780a21_8949_4bd9_8354_7f636cbfe744.Log.final.out  \r\n",
        " extracting: 3e82732e_8b47_4cb4_9035_22f9cdbc10c6_results.xprs  "
       ]
      },
      {
       "output_type": "stream",
       "stream": "stdout",
       "text": [
        "\r\n",
        " extracting: 01e63570_aa28_4169_81da_76e838845e78.SJ.out.tab  "
       ]
      },
      {
       "output_type": "stream",
       "stream": "stdout",
       "text": [
        "\r\n",
        " extracting: 059067a2_7bf7_4360_b564_3c94319ac2e2.SJ.out.tab  "
       ]
      },
      {
       "output_type": "stream",
       "stream": "stdout",
       "text": [
        "\r\n",
        " extracting: 319489b3_2148_4cec_93fb_0540d6cda6bf_results.xprs  "
       ]
      },
      {
       "output_type": "stream",
       "stream": "stdout",
       "text": [
        "\r\n",
        " extracting: a81337f5_e346_42f0_87a2_9aab7dc1e5b4.SJ.out.tab  "
       ]
      },
      {
       "output_type": "stream",
       "stream": "stdout",
       "text": [
        "\r\n",
        " extracting: cll.Rout                \r\n",
        " extracting: 6004e153_e459_44c9_b3e7_5474bac6b953.Log.final.out  \r\n",
        " extracting: SA52314_results.xprs    "
       ]
      },
      {
       "output_type": "stream",
       "stream": "stdout",
       "text": [
        "\r\n",
        " extracting: brca_size_factors.tsv   \r\n",
        " extracting: 48f12aef_e572_4cd8_9c5a_edda7e5385aa.Log.final.out  \r\n",
        " extracting: SA05603.Log.final.out   \r\n",
        " extracting: cosmic_sf3b1.tsv.readme  \r\n",
        " extracting: proximal_all_bp.tsv     \r\n",
        " extracting: 20883c55_f271_44ea_a7d2_8806e02a088f.SJ.out.tab  "
       ]
      },
      {
       "output_type": "stream",
       "stream": "stdout",
       "text": [
        "\r\n",
        " extracting: SRR628586_results.xprs  "
       ]
      },
      {
       "output_type": "stream",
       "stream": "stdout",
       "text": [
        "\r\n",
        " extracting: 26835e9c_11f9_476f_9d6b_ebc0ae3442e8.SJ.out.tab  "
       ]
      },
      {
       "output_type": "stream",
       "stream": "stdout",
       "text": [
        "\r\n",
        " extracting: d6b6eb3b_00bd_412d_a610_bc474e0cc319_results.xprs  "
       ]
      },
      {
       "output_type": "stream",
       "stream": "stdout",
       "text": [
        "\r\n",
        " extracting: brca_cll_um_dexseq_results.tsv  "
       ]
      },
      {
       "output_type": "stream",
       "stream": "stdout",
       "text": [
        "\r\n",
        " extracting: cll_sj_counts.tsv       "
       ]
      },
      {
       "output_type": "stream",
       "stream": "stdout",
       "text": [
        "\r\n",
        " extracting: proximal_jxns.tsv       \r\n",
        " extracting: a3a2cddb_ba5f_4dbd_a51a_555e5d758fb3.SJ.out.tab  "
       ]
      },
      {
       "output_type": "stream",
       "stream": "stdout",
       "text": [
        "\r\n",
        " extracting: SRR628582.SJ.out.tab    "
       ]
      },
      {
       "output_type": "stream",
       "stream": "stdout",
       "text": [
        "\r\n",
        " extracting: eaedb35d_ec72_45df_8790_18deafa143b8_results.xprs  "
       ]
      },
      {
       "output_type": "stream",
       "stream": "stdout",
       "text": [
        "\r\n",
        " extracting: SA30914.SJ.out.tab      "
       ]
      },
      {
       "output_type": "stream",
       "stream": "stdout",
       "text": [
        "\r\n",
        " extracting: 059067a2_7bf7_4360_b564_3c94319ac2e2_results.xprs  "
       ]
      },
      {
       "output_type": "stream",
       "stream": "stdout",
       "text": [
        "\r\n",
        " extracting: b6b7fb9f_129f_4baa_961b_5715adb22a62_results.xprs  "
       ]
      },
      {
       "output_type": "stream",
       "stream": "stdout",
       "text": [
        "\r\n",
        " extracting: cd37724f_9a98_4676_b9a5_e8d6999db1f5.SJ.out.tab  "
       ]
      },
      {
       "output_type": "stream",
       "stream": "stdout",
       "text": [
        "\r\n",
        " extracting: proximal_to_annot.tsv   \r\n",
        " extracting: brca_sj_annot.tsv       "
       ]
      },
      {
       "output_type": "stream",
       "stream": "stdout",
       "text": [
        "\r\n",
        " extracting: SA03982.SJ.out.tab      "
       ]
      },
      {
       "output_type": "stream",
       "stream": "stdout",
       "text": [
        "\r\n",
        " extracting: brca_cll_um_deseq2.RData  "
       ]
      },
      {
       "output_type": "stream",
       "stream": "stdout",
       "text": [
        "\r\n",
        " extracting: cll_results.csv         "
       ]
      },
      {
       "output_type": "stream",
       "stream": "stdout",
       "text": [
        "\r\n",
        " extracting: 42857e49_6357_4fc2_966e_50c8d9ba841f.Log.final.out  \r\n",
        " extracting: brca.Rout               \r\n",
        " extracting: 1a6b6ef8_736e_424e_bcb4_b1640c15bf0e_results.xprs  "
       ]
      },
      {
       "output_type": "stream",
       "stream": "stdout",
       "text": [
        "\r\n",
        " extracting: figure02_diagram.ai     "
       ]
      },
      {
       "output_type": "stream",
       "stream": "stdout",
       "text": [
        "\r\n",
        " extracting: sfigure01.pdf           \r\n",
        " extracting: 870fe86d_4cb7_46a9_8d3e_2057995e763c_results.xprs  "
       ]
      },
      {
       "output_type": "stream",
       "stream": "stdout",
       "text": [
        "\r\n",
        " extracting: bb496a29_fd16_4ffe_a000_4e70ea9aa76c_results.xprs  "
       ]
      },
      {
       "output_type": "stream",
       "stream": "stdout",
       "text": [
        "\r\n",
        " extracting: 4c4b2906_f082_4fcc_83e0_039e163ee8cc.Log.final.out  \r\n",
        " extracting: 775f1aa3_d8aa_42a4_928f_61defc5b5134.Log.final.out  \r\n",
        " extracting: SA30914_results.xprs    "
       ]
      },
      {
       "output_type": "stream",
       "stream": "stdout",
       "text": [
        "\r\n",
        " extracting: fde0f3c2_c9db_4a98_89f9_53685c482160.SJ.out.tab  "
       ]
      },
      {
       "output_type": "stream",
       "stream": "stdout",
       "text": [
        "\r\n",
        " extracting: SA52609.SJ.out.tab      "
       ]
      },
      {
       "output_type": "stream",
       "stream": "stdout",
       "text": [
        "\r\n",
        " extracting: annot_jxns.tsv          \r\n",
        " extracting: ead4b73b_6a51_4863_b24c_44e0fff1bbce.SJ.out.tab  "
       ]
      },
      {
       "output_type": "stream",
       "stream": "stdout",
       "text": [
        "\r\n",
        " extracting: SRR628586.SJ.out.tab    "
       ]
      },
      {
       "output_type": "stream",
       "stream": "stdout",
       "text": [
        "\r\n",
        " extracting: b48874ac_eaff_4ddb_b99b_1b96076914b1_results.xprs  "
       ]
      },
      {
       "output_type": "stream",
       "stream": "stdout",
       "text": [
        "\r\n",
        " extracting: 870fe86d_4cb7_46a9_8d3e_2057995e763c.SJ.out.tab  "
       ]
      },
      {
       "output_type": "stream",
       "stream": "stdout",
       "text": [
        "\r\n",
        " extracting: 40dd04c6_ce5d_4c30_aaff_86ece9c78507_results.xprs  "
       ]
      },
      {
       "output_type": "stream",
       "stream": "stdout",
       "text": [
        "\r\n",
        " extracting: 04f38ef0_e3f5_452a_bc19_e5ae76a666ca_results.xprs  "
       ]
      },
      {
       "output_type": "stream",
       "stream": "stdout",
       "text": [
        "\r\n",
        " extracting: ff780a21_8949_4bd9_8354_7f636cbfe744_results.xprs  "
       ]
      },
      {
       "output_type": "stream",
       "stream": "stdout",
       "text": [
        "\r\n",
        " extracting: faba33e9_25ba_4bd5_af3d_d266e714ffa1.Log.final.out  \r\n",
        " extracting: 1c764fb7_631c_4425_8083_7cd27dcbc809_results.xprs  "
       ]
      },
      {
       "output_type": "stream",
       "stream": "stdout",
       "text": [
        "\r\n",
        " extracting: 09004786_790a_48c9_b3ab_76e92f2e69dd_results.xprs  "
       ]
      },
      {
       "output_type": "stream",
       "stream": "stdout",
       "text": [
        "\r\n",
        " extracting: stable01.tsv            \r\n",
        " extracting: 059067a2_7bf7_4360_b564_3c94319ac2e2.Log.final.out  \r\n",
        " extracting: SRR628586.Log.final.out  \r\n",
        " extracting: fde0f3c2_c9db_4a98_89f9_53685c482160.Log.final.out  \r\n",
        " extracting: SRR628588.Log.final.out  \r\n",
        " extracting: SA00242_results.xprs    "
       ]
      },
      {
       "output_type": "stream",
       "stream": "stdout",
       "text": [
        "\r\n",
        " extracting: SA05603_results.xprs    "
       ]
      },
      {
       "output_type": "stream",
       "stream": "stdout",
       "text": [
        "\r\n",
        " extracting: 71263324_796a_4f08_bba6_ecb2ae483f5a.SJ.out.tab  "
       ]
      },
      {
       "output_type": "stream",
       "stream": "stdout",
       "text": [
        "\r\n",
        " extracting: figure04.pdf            \r\n",
        " extracting: d6b6eb3b_00bd_412d_a610_bc474e0cc319.SJ.out.tab  "
       ]
      },
      {
       "output_type": "stream",
       "stream": "stdout",
       "text": [
        "\r\n",
        " extracting: figure03_precursor.pdf  \r\n",
        " extracting: ac27f4b6_daeb_4cf8_b868_54a70d30778b.SJ.out.tab  "
       ]
      },
      {
       "output_type": "stream",
       "stream": "stdout",
       "text": [
        "\r\n",
        " extracting: faba33e9_25ba_4bd5_af3d_d266e714ffa1_results.xprs  "
       ]
      },
      {
       "output_type": "stream",
       "stream": "stdout",
       "text": [
        "\r\n",
        " extracting: 5b043b12_41f4_4bd9_89eb_57e7f27cfabf.SJ.out.tab  "
       ]
      },
      {
       "output_type": "stream",
       "stream": "stdout",
       "text": [
        "\r\n",
        " extracting: 824425ea_7871_479f_9344_328cab4f26ad_results.xprs  "
       ]
      },
      {
       "output_type": "stream",
       "stream": "stdout",
       "text": [
        "\r\n",
        " extracting: cll.R                   "
       ]
      },
      {
       "output_type": "stream",
       "stream": "stdout",
       "text": [
        "\r\n",
        " extracting: 20883c55_f271_44ea_a7d2_8806e02a088f_results.xprs  "
       ]
      },
      {
       "output_type": "stream",
       "stream": "stdout",
       "text": [
        "\r\n",
        " extracting: brca_cll_luad_lusc_um_sj_stats.tsv  \r\n",
        " extracting: um_sj_stats.tsv         \r\n",
        " extracting: SRR628587.SJ.out.tab    "
       ]
      },
      {
       "output_type": "stream",
       "stream": "stdout",
       "text": [
        "\r\n",
        " extracting: um_dexseq_results.tsv   "
       ]
      },
      {
       "output_type": "stream",
       "stream": "stdout",
       "text": [
        "\r\n",
        " extracting: distal_intron_seq.fa    \r\n",
        " extracting: b48874ac_eaff_4ddb_b99b_1b96076914b1.Log.final.out  \r\n",
        " extracting: a4097518_431c_40b9_a540_2fc0d8f76e17.Log.final.out  \r\n",
        " extracting: SA29677_results.xprs    "
       ]
      },
      {
       "output_type": "stream",
       "stream": "stdout",
       "text": [
        "\r\n",
        " extracting: 646cf9ce_e8e9_4637_b843_2c6908a93a8f.Log.final.out  \r\n",
        " extracting: 95350f94_dc26_45e6_8183_28e9c7250ade.SJ.out.tab  "
       ]
      },
      {
       "output_type": "stream",
       "stream": "stdout",
       "text": [
        "\r\n",
        " extracting: SRR628582_results.xprs  "
       ]
      },
      {
       "output_type": "stream",
       "stream": "stdout",
       "text": [
        "\r\n",
        " extracting: 6004e153_e459_44c9_b3e7_5474bac6b953_results.xprs  "
       ]
      },
      {
       "output_type": "stream",
       "stream": "stdout",
       "text": [
        "\r\n"
       ]
      },
      {
       "output_type": "stream",
       "stream": "stdout",
       "text": [
        " extracting: sfigure03.pdf           \r\n",
        " extracting: brca_cll_luad_lusc_um_dexseq_results.tsv  "
       ]
      },
      {
       "output_type": "stream",
       "stream": "stdout",
       "text": [
        "\r\n",
        " extracting: d6b6eb3b_00bd_412d_a610_bc474e0cc319.Log.final.out  \r\n",
        " extracting: logfinal.readme         \r\n",
        " extracting: ead4b73b_6a51_4863_b24c_44e0fff1bbce.Log.final.out  \r\n",
        " extracting: annot_all_bp.tsv        \r\n",
        " extracting: cll_dexseq_results.tsv  "
       ]
      },
      {
       "output_type": "stream",
       "stream": "stdout",
       "text": [
        "\r\n",
        " extracting: d38df7db_3c58_4865_ae5a_e1e0b80201f1.SJ.out.tab  "
       ]
      },
      {
       "output_type": "stream",
       "stream": "stdout",
       "text": [
        "\r\n",
        " extracting: SA15699.SJ.out.tab      "
       ]
      },
      {
       "output_type": "stream",
       "stream": "stdout",
       "text": [
        "\r\n",
        " extracting: 3e82732e_8b47_4cb4_9035_22f9cdbc10c6.SJ.out.tab  "
       ]
      },
      {
       "output_type": "stream",
       "stream": "stdout",
       "text": [
        "\r\n",
        " extracting: d38df7db_3c58_4865_ae5a_e1e0b80201f1.Log.final.out  \r\n",
        " extracting: 824425ea_7871_479f_9344_328cab4f26ad.SJ.out.tab  "
       ]
      },
      {
       "output_type": "stream",
       "stream": "stdout",
       "text": [
        "\r\n",
        " extracting: metadata.tsv.readme     \r\n",
        " extracting: SA03982_results.xprs    "
       ]
      },
      {
       "output_type": "stream",
       "stream": "stdout",
       "text": [
        "\r\n",
        " extracting: d3e5466a_4861_4eb9_b5e9_f1b851afd72b.SJ.out.tab  "
       ]
      },
      {
       "output_type": "stream",
       "stream": "stdout",
       "text": [
        "\r\n",
        " extracting: SA22083_results.xprs    "
       ]
      },
      {
       "output_type": "stream",
       "stream": "stdout",
       "text": [
        "\r\n",
        " extracting: 6685b1ee_a9b3_4f67_95c5_507847dbcd63.Log.final.out  \r\n",
        " extracting: SRR628589_results.xprs  "
       ]
      },
      {
       "output_type": "stream",
       "stream": "stdout",
       "text": [
        "\r\n",
        " extracting: 04f38ef0_e3f5_452a_bc19_e5ae76a666ca.Log.final.out  \r\n",
        " extracting: fff72492_a90f_4699_a1d7_8e9186bd3cd6.Log.final.out  \r\n",
        " extracting: cd37724f_9a98_4676_b9a5_e8d6999db1f5_results.xprs  "
       ]
      },
      {
       "output_type": "stream",
       "stream": "stdout",
       "text": [
        "\r\n",
        " extracting: cll_deseq2.RData        "
       ]
      },
      {
       "output_type": "stream",
       "stream": "stdout",
       "text": [
        "\r\n",
        " extracting: 4c4b2906_f082_4fcc_83e0_039e163ee8cc_results.xprs  "
       ]
      },
      {
       "output_type": "stream",
       "stream": "stdout",
       "text": [
        "\r\n",
        " extracting: SA66418.Log.final.out   \r\n",
        " extracting: a4097518_431c_40b9_a540_2fc0d8f76e17_results.xprs  "
       ]
      },
      {
       "output_type": "stream",
       "stream": "stdout",
       "text": [
        "\r\n",
        " extracting: SA29677.Log.final.out   \r\n",
        " extracting: ff780a21_8949_4bd9_8354_7f636cbfe744.SJ.out.tab  "
       ]
      },
      {
       "output_type": "stream",
       "stream": "stdout",
       "text": [
        "\r\n",
        " extracting: f1d78984_f956_4ed0_9420_63a9e3de989b.SJ.out.tab  "
       ]
      },
      {
       "output_type": "stream",
       "stream": "stdout",
       "text": [
        "\r\n",
        " extracting: SA66418_results.xprs    "
       ]
      },
      {
       "output_type": "stream",
       "stream": "stdout",
       "text": [
        "\r\n",
        " extracting: brca_sj_stats.tsv       \r\n",
        " extracting: annot_single_bp.tsv     \r\n",
        " extracting: 1a6b6ef8_736e_424e_bcb4_b1640c15bf0e.Log.final.out  "
       ]
      },
      {
       "output_type": "stream",
       "stream": "stdout",
       "text": [
        "\r\n",
        " extracting: SA30914.Log.final.out   \r\n",
        " extracting: SA58773.Log.final.out   \r\n",
        " extracting: 40dd04c6_ce5d_4c30_aaff_86ece9c78507.Log.final.out  \r\n",
        " extracting: um.Rout                 \r\n",
        " extracting: annot_intron_seq.fa     \r\n",
        " extracting: cancergenes.txt         \r\n",
        " extracting: a4097518_431c_40b9_a540_2fc0d8f76e17.SJ.out.tab  "
       ]
      },
      {
       "output_type": "stream",
       "stream": "stdout",
       "text": [
        "\r\n",
        " extracting: sfigure01.png           \r\n",
        " extracting: Human_716_TSGs.txt      "
       ]
      },
      {
       "output_type": "stream",
       "stream": "stdout",
       "text": [
        "\r\n",
        " extracting: brca_cll_luad_lusc_um.Rout  \r\n",
        " extracting: SA15699.Log.final.out   \r\n",
        " extracting: 5726682f_cb9d_4ccb_a5c7_0664d3ad0881.Log.final.out  \r\n",
        " extracting: SA24823.Log.final.out   \r\n",
        " extracting: SRR628589.SJ.out.tab    "
       ]
      },
      {
       "output_type": "stream",
       "stream": "stdout",
       "text": [
        "\r\n",
        " extracting: express.readme          \r\n",
        " extracting: SA58773_results.xprs    "
       ]
      },
      {
       "output_type": "stream",
       "stream": "stdout",
       "text": [
        "\r\n",
        " extracting: not_proximal_intron_seq.png  \r\n",
        " extracting: ighv_zap70.tsv.readme   \r\n",
        " extracting: SA83613.Log.final.out   \r\n",
        " extracting: ighv_zap70.tsv          \r\n",
        " extracting: 40dd04c6_ce5d_4c30_aaff_86ece9c78507.SJ.out.tab  "
       ]
      },
      {
       "output_type": "stream",
       "stream": "stdout",
       "text": [
        "\r\n",
        " extracting: SA93051.Log.final.out   \r\n",
        " extracting: SA24823.SJ.out.tab      "
       ]
      },
      {
       "output_type": "stream",
       "stream": "stdout",
       "text": [
        "\r\n",
        " extracting: um_sj_counts.tsv        "
       ]
      },
      {
       "output_type": "stream",
       "stream": "stdout",
       "text": [
        "\r\n",
        " extracting: SA52609.Log.final.out   \r\n",
        " extracting: 48f12aef_e572_4cd8_9c5a_edda7e5385aa_results.xprs  "
       ]
      },
      {
       "output_type": "stream",
       "stream": "stdout",
       "text": [
        "\r\n",
        " extracting: 48f12aef_e572_4cd8_9c5a_edda7e5385aa.SJ.out.tab  "
       ]
      },
      {
       "output_type": "stream",
       "stream": "stdout",
       "text": [
        "\r\n",
        " extracting: SRR628585.SJ.out.tab    "
       ]
      },
      {
       "output_type": "stream",
       "stream": "stdout",
       "text": [
        "\r\n",
        " extracting: 3ed7f6c6_5ab0_40cd_8da2_124a7451d287.Log.final.out  \r\n",
        " extracting: SRR628584_results.xprs  "
       ]
      },
      {
       "output_type": "stream",
       "stream": "stdout",
       "text": [
        "\r\n",
        " extracting: a0fbd146_2f78_4b9c_bc09_4f4ccd112373.SJ.out.tab  "
       ]
      },
      {
       "output_type": "stream",
       "stream": "stdout",
       "text": [
        "\r\n",
        " extracting: 775f1aa3_d8aa_42a4_928f_61defc5b5134_results.xprs  "
       ]
      },
      {
       "output_type": "stream",
       "stream": "stdout",
       "text": [
        "\r\n",
        " extracting: a35a1390_32a3_4b30_a132_3aac37c1f8cb_results.xprs  "
       ]
      },
      {
       "output_type": "stream",
       "stream": "stdout",
       "text": [
        "\r\n",
        " extracting: 01e63570_aa28_4169_81da_76e838845e78.Log.final.out  \r\n",
        " extracting: 6685b1ee_a9b3_4f67_95c5_507847dbcd63.SJ.out.tab  "
       ]
      },
      {
       "output_type": "stream",
       "stream": "stdout",
       "text": [
        "\r\n",
        " extracting: stable03.tsv            \r\n",
        " extracting: dfb5fd44_421f_473b_8aef_c7d275c5adcb_results.xprs  "
       ]
      },
      {
       "output_type": "stream",
       "stream": "stdout",
       "text": [
        "\r\n",
        " extracting: not_proximal_all_bp.tsv  \r\n",
        " extracting: brca_cll_luad_lusc_um_sj_annot.tsv  "
       ]
      },
      {
       "output_type": "stream",
       "stream": "stdout",
       "text": [
        "\r\n",
        " extracting: junction_info.tsv       "
       ]
      },
      {
       "output_type": "stream",
       "stream": "stdout",
       "text": [
        "\r\n",
        " extracting: 22e1471d_75ca_4259_a147_a667914e2820_results.xprs  "
       ]
      },
      {
       "output_type": "stream",
       "stream": "stdout",
       "text": [
        "\r\n",
        " extracting: a35a1390_32a3_4b30_a132_3aac37c1f8cb.Log.final.out  \r\n",
        " extracting: SA00242.SJ.out.tab      "
       ]
      },
      {
       "output_type": "stream",
       "stream": "stdout",
       "text": [
        "\r\n",
        " extracting: sfigure02.pdf           \r\n",
        " extracting: 4c9289e0_378e_4293_877c_e12d207f384e_results.xprs  "
       ]
      },
      {
       "output_type": "stream",
       "stream": "stdout",
       "text": [
        "\r\n",
        " extracting: SA95730.SJ.out.tab      "
       ]
      },
      {
       "output_type": "stream",
       "stream": "stdout",
       "text": [
        "\r\n",
        " extracting: 3e2f068a_8235_44c6_97cb_bbf8916a3949_results.xprs  "
       ]
      },
      {
       "output_type": "stream",
       "stream": "stdout",
       "text": [
        "\r\n",
        " extracting: SA65385.SJ.out.tab      "
       ]
      },
      {
       "output_type": "stream",
       "stream": "stdout",
       "text": [
        "\r\n",
        " extracting: control_intron_seq.fa   \r\n",
        " extracting: a81337f5_e346_42f0_87a2_9aab7dc1e5b4_results.xprs  "
       ]
      },
      {
       "output_type": "stream",
       "stream": "stdout",
       "text": [
        "\r\n",
        " extracting: 95350f94_dc26_45e6_8183_28e9c7250ade.Log.final.out  "
       ]
      },
      {
       "output_type": "stream",
       "stream": "stdout",
       "text": [
        "\r\n",
        " extracting: SA58773.SJ.out.tab      "
       ]
      },
      {
       "output_type": "stream",
       "stream": "stdout",
       "text": [
        "\r\n",
        " extracting: SRR628585.Log.final.out  \r\n",
        " extracting: distal_all_bp.tsv       \r\n",
        " extracting: brca.R                  \r\n",
        " extracting: um.R                    \r\n",
        " extracting: 09004786_790a_48c9_b3ab_76e92f2e69dd.SJ.out.tab  "
       ]
      },
      {
       "output_type": "stream",
       "stream": "stdout",
       "text": [
        "\r\n",
        " extracting: brca_cll_um.R           \r\n",
        " extracting: control_intron_seq.png  \r\n",
        " extracting: 42857e49_6357_4fc2_966e_50c8d9ba841f.SJ.out.tab  "
       ]
      },
      {
       "output_type": "stream",
       "stream": "stdout",
       "text": [
        "\r\n",
        " extracting: sf3b1_mut_info.tsv      \r\n",
        " extracting: SA05603.SJ.out.tab      "
       ]
      },
      {
       "output_type": "stream",
       "stream": "stdout",
       "text": [
        "\r\n",
        " extracting: 42857e49_6357_4fc2_966e_50c8d9ba841f_results.xprs  "
       ]
      },
      {
       "output_type": "stream",
       "stream": "stdout",
       "text": [
        "\r\n"
       ]
      },
      {
       "output_type": "stream",
       "stream": "stdout",
       "text": [
        " extracting: SRR628587.Log.final.out  \r\n",
        " extracting: 12bd8213_844d_4b11_8036_d547d4112447.SJ.out.tab  "
       ]
      },
      {
       "output_type": "stream",
       "stream": "stdout",
       "text": [
        "\r\n",
        " extracting: bc0af03f_aa40_4b39_8876_6f2e7397181c_results.xprs  "
       ]
      },
      {
       "output_type": "stream",
       "stream": "stdout",
       "text": [
        "\r\n",
        " extracting: ac27f4b6_daeb_4cf8_b868_54a70d30778b.Log.final.out  \r\n",
        " extracting: SRR628582.Log.final.out  \r\n",
        " extracting: 23712cb6_d37f_463d_8c24_99066067c283.Log.final.out  \r\n",
        " extracting: b48874ac_eaff_4ddb_b99b_1b96076914b1.SJ.out.tab  "
       ]
      },
      {
       "output_type": "stream",
       "stream": "stdout",
       "text": [
        "\r\n",
        " extracting: um_sj_annot.tsv         "
       ]
      },
      {
       "output_type": "stream",
       "stream": "stdout",
       "text": [
        "\r\n",
        " extracting: SA22083.Log.final.out   \r\n",
        " extracting: 5726682f_cb9d_4ccb_a5c7_0664d3ad0881_results.xprs  "
       ]
      },
      {
       "output_type": "stream",
       "stream": "stdout",
       "text": [
        "\r\n",
        " extracting: SRR628583.SJ.out.tab    "
       ]
      },
      {
       "output_type": "stream",
       "stream": "stdout",
       "text": [
        "\r\n",
        " extracting: gene_eff_counts.tsv     "
       ]
      },
      {
       "output_type": "stream",
       "stream": "stdout",
       "text": [
        "\r\n",
        " extracting: c52c3859_08f8_4f50_8596_bfa497a0d24f.Log.final.out  \r\n",
        " extracting: SA83613_results.xprs    "
       ]
      },
      {
       "output_type": "stream",
       "stream": "stdout",
       "text": [
        "\r\n",
        " extracting: SRR628584.Log.final.out  \r\n",
        " extracting: SRR628585_results.xprs  "
       ]
      },
      {
       "output_type": "stream",
       "stream": "stdout",
       "text": [
        "\r\n",
        " extracting: 04f38ef0_e3f5_452a_bc19_e5ae76a666ca.SJ.out.tab  "
       ]
      },
      {
       "output_type": "stream",
       "stream": "stdout",
       "text": [
        "\r\n",
        " extracting: SA29677.SJ.out.tab      "
       ]
      },
      {
       "output_type": "stream",
       "stream": "stdout",
       "text": [
        "\r\n",
        " extracting: SA65385_results.xprs    "
       ]
      },
      {
       "output_type": "stream",
       "stream": "stdout",
       "text": [
        "\r\n",
        " extracting: control_jxns.tsv        "
       ]
      },
      {
       "output_type": "stream",
       "stream": "stdout",
       "text": [
        "\r\n",
        " extracting: a0fbd146_2f78_4b9c_bc09_4f4ccd112373_results.xprs  "
       ]
      },
      {
       "output_type": "stream",
       "stream": "stdout",
       "text": [
        "\r\n",
        " extracting: 5b043b12_41f4_4bd9_89eb_57e7f27cfabf_results.xprs  "
       ]
      },
      {
       "output_type": "stream",
       "stream": "stdout",
       "text": [
        "\r\n",
        " extracting: a3a2cddb_ba5f_4dbd_a51a_555e5d758fb3.Log.final.out  \r\n",
        " extracting: SRR628583.Log.final.out  \r\n",
        " extracting: 3e2f068a_8235_44c6_97cb_bbf8916a3949.Log.final.out  \r\n",
        " extracting: 766bbaa9_e498_471f_9f72_63a143e6656b.Log.final.out  \r\n",
        " extracting: brca_cll_luad_lusc_um_sj_counts.tsv  "
       ]
      },
      {
       "output_type": "stream",
       "stream": "stdout",
       "text": [
        "\r\n"
       ]
      },
      {
       "output_type": "stream",
       "stream": "stdout",
       "text": [
        " extracting: SRR628583_results.xprs  "
       ]
      },
      {
       "output_type": "stream",
       "stream": "stdout",
       "text": [
        "\r\n",
        " extracting: a3a2cddb_ba5f_4dbd_a51a_555e5d758fb3_results.xprs  "
       ]
      },
      {
       "output_type": "stream",
       "stream": "stdout",
       "text": [
        "\r\n",
        " extracting: 23712cb6_d37f_463d_8c24_99066067c283_results.xprs  "
       ]
      },
      {
       "output_type": "stream",
       "stream": "stdout",
       "text": [
        "\r\n",
        " extracting: f1d78984_f956_4ed0_9420_63a9e3de989b.Log.final.out  \r\n",
        " extracting: SA95730.Log.final.out   \r\n",
        " extracting: cosmic_sf3b1.tsv        "
       ]
      },
      {
       "output_type": "stream",
       "stream": "stdout",
       "text": [
        "\r\n",
        " extracting: cd37724f_9a98_4676_b9a5_e8d6999db1f5.Log.final.out  \r\n",
        " extracting: 319489b3_2148_4cec_93fb_0540d6cda6bf.Log.final.out  \r\n",
        " extracting: 6004e153_e459_44c9_b3e7_5474bac6b953.SJ.out.tab  "
       ]
      },
      {
       "output_type": "stream",
       "stream": "stdout",
       "text": [
        "\r\n",
        " extracting: cancergenes.txt.readme  \r\n",
        " extracting: star_logs.tsv           \r\n",
        " extracting: 646cf9ce_e8e9_4637_b843_2c6908a93a8f_results.xprs  "
       ]
      },
      {
       "output_type": "stream",
       "stream": "stdout",
       "text": [
        "\r\n",
        " extracting: f1d78984_f956_4ed0_9420_63a9e3de989b_results.xprs  "
       ]
      },
      {
       "output_type": "stream",
       "stream": "stdout",
       "text": [
        "\r\n",
        " extracting: SRR628589.Log.final.out  \r\n",
        " extracting: annot_single_bp_second.tsv  \r\n",
        " extracting: bb496a29_fd16_4ffe_a000_4e70ea9aa76c.SJ.out.tab  "
       ]
      },
      {
       "output_type": "stream",
       "stream": "stdout",
       "text": [
        "\r\n",
        " extracting: bc0af03f_aa40_4b39_8876_6f2e7397181c.SJ.out.tab  "
       ]
      },
      {
       "output_type": "stream",
       "stream": "stdout",
       "text": [
        "\r\n",
        " extracting: cancer_gene_census.tsv.readme  \r\n",
        " extracting: 3e82732e_8b47_4cb4_9035_22f9cdbc10c6.Log.final.out  \r\n",
        " extracting: ac27f4b6_daeb_4cf8_b868_54a70d30778b_results.xprs  "
       ]
      },
      {
       "output_type": "stream",
       "stream": "stdout",
       "text": [
        "\r\n",
        " extracting: um_size_factors.tsv     \r\n",
        " extracting: 545c799d_6416_40a2_86e0_a132ed4885b3_results.xprs  "
       ]
      },
      {
       "output_type": "stream",
       "stream": "stdout",
       "text": [
        "\r\n",
        " extracting: 12bd8213_844d_4b11_8036_d547d4112447_results.xprs  "
       ]
      },
      {
       "output_type": "stream",
       "stream": "stdout",
       "text": [
        "\r\n",
        " extracting: distal_single_bp.tsv    \r\n",
        " extracting: 870fe86d_4cb7_46a9_8d3e_2057995e763c.Log.final.out  \r\n",
        " extracting: brca_cll_um_results.csv  "
       ]
      },
      {
       "output_type": "stream",
       "stream": "stdout",
       "text": [
        "\r\n",
        " extracting: 22e1471d_75ca_4259_a147_a667914e2820.SJ.out.tab  "
       ]
      },
      {
       "output_type": "stream",
       "stream": "stdout",
       "text": [
        "\r\n",
        " extracting: stable05.tsv            \r\n",
        " extracting: stable04.tsv            \r\n",
        " extracting: 1c764fb7_631c_4425_8083_7cd27dcbc809.Log.final.out  \r\n",
        " extracting: SA52609_results.xprs    "
       ]
      },
      {
       "output_type": "stream",
       "stream": "stdout",
       "text": [
        "\r\n",
        " extracting: brca_dexseq_results.tsv  "
       ]
      },
      {
       "output_type": "stream",
       "stream": "stdout",
       "text": [
        "\r\n",
        " extracting: brca_sj_counts.tsv      "
       ]
      },
      {
       "output_type": "stream",
       "stream": "stdout",
       "text": [
        "\r\n",
        " extracting: annot_intron_seq.png    \r\n",
        " extracting: 71263324_796a_4f08_bba6_ecb2ae483f5a.Log.final.out  \r\n",
        " extracting: sfigure04.pdf           "
       ]
      },
      {
       "output_type": "stream",
       "stream": "stdout",
       "text": [
        "\r\n",
        " extracting: control_all_bp.tsv      "
       ]
      },
      {
       "output_type": "stream",
       "stream": "stdout",
       "text": [
        "\r\n",
        " extracting: not_proximal_jxns.tsv   \r\n",
        " extracting: sfigure05.pdf           \r\n",
        " extracting: d217d14a_2132_433c_bcac_ccab9d296724.Log.final.out  \r\n",
        " extracting: 09004786_790a_48c9_b3ab_76e92f2e69dd.Log.final.out  \r\n",
        " extracting: d3e5466a_4861_4eb9_b5e9_f1b851afd72b.Log.final.out  \r\n",
        " extracting: d3e5466a_4861_4eb9_b5e9_f1b851afd72b_results.xprs  "
       ]
      },
      {
       "output_type": "stream",
       "stream": "stdout",
       "text": [
        "\r\n",
        " extracting: dfb5fd44_421f_473b_8aef_c7d275c5adcb.SJ.out.tab  "
       ]
      },
      {
       "output_type": "stream",
       "stream": "stdout",
       "text": [
        "\r\n",
        " extracting: SA83613.SJ.out.tab      "
       ]
      },
      {
       "output_type": "stream",
       "stream": "stdout",
       "text": [
        "\r\n",
        " extracting: 63b2f6d2_2f86_4986_bcc1_9e1aae13f8bd.SJ.out.tab  "
       ]
      },
      {
       "output_type": "stream",
       "stream": "stdout",
       "text": [
        "\r\n",
        " extracting: 3ed7f6c6_5ab0_40cd_8da2_124a7451d287.SJ.out.tab  "
       ]
      },
      {
       "output_type": "stream",
       "stream": "stdout",
       "text": [
        "\r\n",
        " extracting: fff72492_a90f_4699_a1d7_8e9186bd3cd6_results.xprs  "
       ]
      },
      {
       "output_type": "stream",
       "stream": "stdout",
       "text": [
        "\r\n",
        " extracting: c52c3859_08f8_4f50_8596_bfa497a0d24f.SJ.out.tab  "
       ]
      },
      {
       "output_type": "stream",
       "stream": "stdout",
       "text": [
        "\r\n",
        " extracting: GSEA_MSigDB_Investigate_Gene_Sets.pdf  "
       ]
      },
      {
       "output_type": "stream",
       "stream": "stdout",
       "text": [
        "\r\n",
        " extracting: 20883c55_f271_44ea_a7d2_8806e02a088f.Log.final.out  \r\n",
        " extracting: eaedb35d_ec72_45df_8790_18deafa143b8.SJ.out.tab  "
       ]
      },
      {
       "output_type": "stream",
       "stream": "stdout",
       "text": [
        "\r\n",
        " extracting: SA66418.SJ.out.tab      "
       ]
      },
      {
       "output_type": "stream",
       "stream": "stdout",
       "text": [
        "\r\n",
        " extracting: 319489b3_2148_4cec_93fb_0540d6cda6bf.SJ.out.tab  "
       ]
      },
      {
       "output_type": "stream",
       "stream": "stdout",
       "text": [
        "\r\n",
        " extracting: d217d14a_2132_433c_bcac_ccab9d296724.SJ.out.tab  "
       ]
      },
      {
       "output_type": "stream",
       "stream": "stdout",
       "text": [
        "\r\n",
        " extracting: dfb5fd44_421f_473b_8aef_c7d275c5adcb.Log.final.out  \r\n",
        " extracting: 63b2f6d2_2f86_4986_bcc1_9e1aae13f8bd.Log.final.out  \r\n",
        " extracting: Human_716_TSGs.txt.readme  \r\n",
        " extracting: SA93051_results.xprs    "
       ]
      },
      {
       "output_type": "stream",
       "stream": "stdout",
       "text": [
        "\r\n",
        " extracting: SRR628587_results.xprs  "
       ]
      },
      {
       "output_type": "stream",
       "stream": "stdout",
       "text": [
        "\r\n",
        " extracting: 01e63570_aa28_4169_81da_76e838845e78_results.xprs  "
       ]
      },
      {
       "output_type": "stream",
       "stream": "stdout",
       "text": [
        "\r\n",
        " extracting: stable07.tsv            \r\n",
        " extracting: not_proximal_single_bp.tsv  \r\n",
        " extracting: 1a6b6ef8_736e_424e_bcb4_b1640c15bf0e.SJ.out.tab  "
       ]
      },
      {
       "output_type": "stream",
       "stream": "stdout",
       "text": [
        "\r\n",
        " extracting: 26835e9c_11f9_476f_9d6b_ebc0ae3442e8_results.xprs  "
       ]
      },
      {
       "output_type": "stream",
       "stream": "stdout",
       "text": [
        "\r\n",
        " extracting: 4c9289e0_378e_4293_877c_e12d207f384e.Log.final.out  \r\n",
        " extracting: brca_cll_um_sj_annot.tsv  "
       ]
      },
      {
       "output_type": "stream",
       "stream": "stdout",
       "text": [
        "\r\n",
        " extracting: 3e2f068a_8235_44c6_97cb_bbf8916a3949.SJ.out.tab  "
       ]
      },
      {
       "output_type": "stream",
       "stream": "stdout",
       "text": [
        "\r\n",
        " extracting: SA95730_results.xprs    "
       ]
      },
      {
       "output_type": "stream",
       "stream": "stdout",
       "text": [
        "\r\n",
        " extracting: 545c799d_6416_40a2_86e0_a132ed4885b3.SJ.out.tab  "
       ]
      },
      {
       "output_type": "stream",
       "stream": "stdout",
       "text": [
        "\r\n",
        " extracting: ead4b73b_6a51_4863_b24c_44e0fff1bbce_results.xprs  "
       ]
      },
      {
       "output_type": "stream",
       "stream": "stdout",
       "text": [
        "\r\n",
        " extracting: proximal_intron_seq.fa  \r\n",
        " extracting: 23712cb6_d37f_463d_8c24_99066067c283.SJ.out.tab  "
       ]
      },
      {
       "output_type": "stream",
       "stream": "stdout",
       "text": [
        "\r\n",
        " extracting: 775f1aa3_d8aa_42a4_928f_61defc5b5134.SJ.out.tab  "
       ]
      },
      {
       "output_type": "stream",
       "stream": "stdout",
       "text": [
        "\r\n",
        " extracting: figure02_precursor.pdf  \r\n",
        " extracting: a81337f5_e346_42f0_87a2_9aab7dc1e5b4.Log.final.out  \r\n",
        " extracting: brca_cll_luad_lusc_um.R  \r\n",
        " extracting: a0fbd146_2f78_4b9c_bc09_4f4ccd112373.Log.final.out  \r\n",
        " extracting: proximal_single_bp.tsv  \r\n",
        " extracting: brca_cll_luad_lusc_um_size_factors.tsv  \r\n",
        " extracting: not_proximal_intron_seq.fa  \r\n",
        " extracting: figure01.pdf            "
       ]
      },
      {
       "output_type": "stream",
       "stream": "stdout",
       "text": [
        "\r\n",
        " extracting: proximal_intron_seq.png  \r\n",
        " extracting: b6b7fb9f_129f_4baa_961b_5715adb22a62.SJ.out.tab  "
       ]
      },
      {
       "output_type": "stream",
       "stream": "stdout",
       "text": [
        "\r\n",
        " extracting: sjout.readme            \r\n",
        " extracting: figure03_diagram.ai     "
       ]
      },
      {
       "output_type": "stream",
       "stream": "stdout",
       "text": [
        "\r\n",
        " extracting: SRR628584.SJ.out.tab    "
       ]
      },
      {
       "output_type": "stream",
       "stream": "stdout",
       "text": [
        "\r\n",
        " extracting: metadata.tsv            \r\n",
        " extracting: a35a1390_32a3_4b30_a132_3aac37c1f8cb.SJ.out.tab  "
       ]
      },
      {
       "output_type": "stream",
       "stream": "stdout",
       "text": [
        "\r\n",
        " extracting: 766bbaa9_e498_471f_9f72_63a143e6656b_results.xprs  "
       ]
      },
      {
       "output_type": "stream",
       "stream": "stdout",
       "text": [
        "\r\n",
        " extracting: d38df7db_3c58_4865_ae5a_e1e0b80201f1_results.xprs  "
       ]
      },
      {
       "output_type": "stream",
       "stream": "stdout",
       "text": [
        "\r\n",
        " extracting: 545c799d_6416_40a2_86e0_a132ed4885b3.Log.final.out  \r\n",
        " extracting: 1c764fb7_631c_4425_8083_7cd27dcbc809.SJ.out.tab  "
       ]
      },
      {
       "output_type": "stream",
       "stream": "stdout",
       "text": [
        "\r\n",
        " extracting: 22e1471d_75ca_4259_a147_a667914e2820.Log.final.out  \r\n",
        " extracting: cll_sj_annot.tsv        "
       ]
      },
      {
       "output_type": "stream",
       "stream": "stdout",
       "text": [
        "\r\n",
        " extracting: 5b043b12_41f4_4bd9_89eb_57e7f27cfabf.Log.final.out  \r\n",
        " extracting: stable02.tsv            \r\n",
        " extracting: distal_jxns.tsv         "
       ]
      },
      {
       "output_type": "stream",
       "stream": "stdout",
       "text": [
        "\r\n",
        " extracting: faba33e9_25ba_4bd5_af3d_d266e714ffa1.SJ.out.tab  "
       ]
      },
      {
       "output_type": "stream",
       "stream": "stdout",
       "text": [
        "\r\n",
        " extracting: 824425ea_7871_479f_9344_328cab4f26ad.Log.final.out  \r\n",
        " extracting: 6685b1ee_a9b3_4f67_95c5_507847dbcd63_results.xprs  "
       ]
      },
      {
       "output_type": "stream",
       "stream": "stdout",
       "text": [
        "\r\n",
        " extracting: SA15699_results.xprs    "
       ]
      },
      {
       "output_type": "stream",
       "stream": "stdout",
       "text": [
        "\r\n",
        " extracting: 71263324_796a_4f08_bba6_ecb2ae483f5a_results.xprs  "
       ]
      },
      {
       "output_type": "stream",
       "stream": "stdout",
       "text": [
        "\r\n",
        " extracting: SRR628588_results.xprs  "
       ]
      },
      {
       "output_type": "stream",
       "stream": "stdout",
       "text": [
        "\r\n",
        " extracting: figure_diagrams.readme  \r\n",
        " extracting: 12bd8213_844d_4b11_8036_d547d4112447.Log.final.out  \r\n",
        " extracting: brca_cll_um.Rout        \r\n",
        " extracting: control_ag_dists.txt    "
       ]
      },
      {
       "output_type": "stream",
       "stream": "stdout",
       "text": [
        "\r\n",
        " extracting: SA24823_results.xprs    "
       ]
      },
      {
       "output_type": "stream",
       "stream": "stdout",
       "text": [
        "\r\n",
        " extracting: bb496a29_fd16_4ffe_a000_4e70ea9aa76c.Log.final.out  \r\n",
        " extracting: d217d14a_2132_433c_bcac_ccab9d296724_results.xprs  "
       ]
      },
      {
       "output_type": "stream",
       "stream": "stdout",
       "text": [
        "\r\n"
       ]
      }
     ],
     "prompt_number": 3
    },
    {
     "cell_type": "code",
     "collapsed": false,
     "input": [
      "manifest = pd.read_table('manifest.tsv', \n",
      "                         names=['file','hash'])\n",
      "for d in set(manifest.file.apply(lambda x: os.path.split(x)[0])):\n",
      "    ds.makedir(os.path.join(ds.root, d))"
     ],
     "language": "python",
     "metadata": {},
     "outputs": [],
     "prompt_number": 4
    },
    {
     "cell_type": "code",
     "collapsed": false,
     "input": [
      "for fn in manifest.file:\n",
      "    figshare_fn = os.path.split(fn)[1]\n",
      "    for suffix in ['_results.xprs',\n",
      "                   '.SJ.out.tab',\n",
      "                   '.Log.final.out']:\n",
      "        if suffix in fn:\n",
      "            figshare_fn = figshare_fn[:-1 * len(suffix)].replace('-', '_')\n",
      "            figshare_fn += suffix\n",
      "    figshare_fn = figshare_fn.replace(' ', '_')\n",
      "    shutil.move(figshare_fn, \n",
      "                os.path.join(ds.root, fn))"
     ],
     "language": "python",
     "metadata": {},
     "outputs": [],
     "prompt_number": 9
    },
    {
     "cell_type": "code",
     "collapsed": false,
     "input": [
      "shutil.move(os.path.split(ds.figshare_manifest)[1],\n",
      "            os.path.join(ds.root, 'manifest_from_figshare.tsv'))"
     ],
     "language": "python",
     "metadata": {},
     "outputs": [],
     "prompt_number": 12
    },
    {
     "cell_type": "code",
     "collapsed": false,
     "input": [
      "os.remove(ds.figshare_article_id + '.zip')"
     ],
     "language": "python",
     "metadata": {},
     "outputs": []
    },
    {
     "cell_type": "code",
     "collapsed": false,
     "input": [],
     "language": "python",
     "metadata": {},
     "outputs": []
    }
   ],
   "metadata": {}
  }
 ]
}