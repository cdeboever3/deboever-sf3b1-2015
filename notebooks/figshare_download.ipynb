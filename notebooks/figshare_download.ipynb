{
 "metadata": {
  "name": "",
  "signature": "sha256:0544cf2b4d3b335b929a8e5e506f1bedac81290a60375b11181e224512fbc5ad"
 },
 "nbformat": 3,
 "nbformat_minor": 0,
 "worksheets": [
  {
   "cells": [
    {
     "cell_type": "markdown",
     "metadata": {},
     "source": [
      "# Figshare Download\n",
      "\n",
      "This notebook is used to download data from Figshare. This notebook \n",
      "will download primary data files as well as intermediate files and \n",
      "final files (like figures) from Figshare and organize them into \n",
      "directories inside a clone of this project's Github repository."
     ]
    },
    {
     "cell_type": "code",
     "collapsed": false,
     "input": [
      "import glob\n",
      "import hashlib\n",
      "import os\n",
      "import subprocess\n",
      "import urllib2\n",
      "\n",
      "import ds2014 as ds\n",
      "import figshare\n",
      "from IPython.core.display import clear_output\n",
      "import pandas as pd"
     ],
     "language": "python",
     "metadata": {},
     "outputs": [],
     "prompt_number": 14
    },
    {
     "cell_type": "markdown",
     "metadata": {},
     "source": [
      "The code below downloads the data from Figshare as one zip file.\n",
      "I've included print statements every 10% of the way. There is ~4GB\n",
      "of data so the download may take a bit of time."
     ]
    },
    {
     "cell_type": "code",
     "collapsed": false,
     "input": [
      "url = 'http://downloads.figshare.com/article/public/{}'.format(ds.figshare_article_id)\n",
      "\n",
      "file_name = url.split('/')[-1] + '.zip'\n",
      "u = urllib2.urlopen(url)\n",
      "f = open(file_name, 'wb')\n",
      "meta = u.info()\n",
      "file_size = int(meta.getheaders(\"Content-Length\")[0])\n",
      "print(\"Downloading: %s Bytes: %s\" % (file_name, file_size))\n",
      "sys.stdout.flush()\n",
      "\n",
      "file_size_dl = 0\n",
      "block_sz = 8192\n",
      "next_print = 0.1\n",
      "print_interval = 0.1\n",
      "while True:\n",
      "    buffer = u.read(block_sz)\n",
      "    if not buffer:\n",
      "        break\n",
      "\n",
      "    file_size_dl += len(buffer)\n",
      "    f.write(buffer)\n",
      "    percent = file_size_dl / float(file_size)\n",
      "    sys.stdout.flush()\n",
      "    if percent >= next_print:\n",
      "        status = '{:.0%} finished'.format(percent)\n",
      "        print(status)\n",
      "        sys.stdout.flush()\n",
      "        next_print += print_interval\n",
      "\n",
      "f.close()"
     ],
     "language": "python",
     "metadata": {},
     "outputs": [
      {
       "output_type": "stream",
       "stream": "stdout",
       "text": [
        "Downloading: 1120663.zip Bytes: 486310116\n"
       ]
      },
      {
       "output_type": "stream",
       "stream": "stdout",
       "text": [
        "10.0% finished\n"
       ]
      },
      {
       "output_type": "stream",
       "stream": "stdout",
       "text": [
        "20.0% finished\n"
       ]
      },
      {
       "output_type": "stream",
       "stream": "stdout",
       "text": [
        "30.0% finished\n"
       ]
      },
      {
       "output_type": "stream",
       "stream": "stdout",
       "text": [
        "40.0% finished\n"
       ]
      },
      {
       "output_type": "stream",
       "stream": "stdout",
       "text": [
        "50.0% finished\n"
       ]
      },
      {
       "output_type": "stream",
       "stream": "stdout",
       "text": [
        "60.0% finished\n"
       ]
      },
      {
       "output_type": "stream",
       "stream": "stdout",
       "text": [
        "70.0% finished\n"
       ]
      },
      {
       "output_type": "stream",
       "stream": "stdout",
       "text": [
        "80.0% finished\n"
       ]
      },
      {
       "output_type": "stream",
       "stream": "stdout",
       "text": [
        "90.0% finished\n"
       ]
      },
      {
       "output_type": "stream",
       "stream": "stdout",
       "text": [
        "100.0% finished\n"
       ]
      }
     ],
     "prompt_number": 38
    },
    {
     "cell_type": "markdown",
     "metadata": {},
     "source": [
      "## Figshare client\n",
      "\n",
      "I'm using the pypi package `figshare` to interact\n",
      "with figshare. The package was originally designed\n",
      "as a command line interface but [I've branched it](https://github.com/cdeboever3/figshare)\n",
      "and added some functionality as well as exposed parts to \n",
      "be used as a python package.\n",
      "\n",
      "### Setting up\n",
      "\n",
      "You can install the `figshare` package from my repository \n",
      "using the standard `python setup.py install`. Try running\n",
      "`figshare` at the command line and set up your access token\n",
      "file. By default it is stored at `~/.figshare-token`."
     ]
    },
    {
     "cell_type": "code",
     "collapsed": false,
     "input": [],
     "language": "python",
     "metadata": {},
     "outputs": []
    },
    {
     "cell_type": "code",
     "collapsed": false,
     "input": [
      "# Initialize figshare client\n",
      "token_file = os.path.expanduser('~/.figshare-token')\n",
      "access_token, access_token_secret = figshare.oauth_dance.read_token_file(token_file)\n",
      "fg = figshare.Figshare(figshare.consumer_key, \n",
      "                       figshare.consumer_secret, \n",
      "                       access_token, \n",
      "                       access_token_secret)"
     ],
     "language": "python",
     "metadata": {},
     "outputs": [],
     "prompt_number": 2
    },
    {
     "cell_type": "code",
     "collapsed": false,
     "input": [
      "http://downloads.figshare.com/article/public/1120663"
     ],
     "language": "python",
     "metadata": {},
     "outputs": []
    },
    {
     "cell_type": "code",
     "collapsed": false,
     "input": [
      "details = fg.article_details(ds.figshare_article_id)\n",
      "figshare_files = [ x['name'] for x in details['items'][0]['files'] ]\n",
      "\n",
      "if 'manifest.txt' in figshare_files:\n",
      "    download_urls = dict([ [x['name'], x['download_url']] for x in details['items'][0]['files'] ])\n",
      "    lines = urllib2.urlopen(download_urls['manifest.txt']).read().strip().split('\\n')\n",
      "    figshare_hashes = dict([ x.split('\\t') for x in lines ])\n",
      "else:\n",
      "    figshare_hashes = None"
     ],
     "language": "python",
     "metadata": {},
     "outputs": [],
     "prompt_number": 3
    },
    {
     "cell_type": "code",
     "collapsed": false,
     "input": [
      "figshare_hashes"
     ],
     "language": "python",
     "metadata": {},
     "outputs": [],
     "prompt_number": 4
    },
    {
     "cell_type": "code",
     "collapsed": false,
     "input": [
      "download_urls = dict([ [x['name'], x['download_url']] for x in details['items'][0]['files'] ])"
     ],
     "language": "python",
     "metadata": {},
     "outputs": [],
     "prompt_number": 5
    },
    {
     "cell_type": "code",
     "collapsed": false,
     "input": [
      "download_urls"
     ],
     "language": "python",
     "metadata": {},
     "outputs": [
      {
       "metadata": {},
       "output_type": "pyout",
       "prompt_number": 6,
       "text": [
        "{u'26835e9c-11f9-476f-9d6b-ebc0ae3442e8.Log.final.out': u'http://files.figshare.com/1612529/26835e9c_11f9_476f_9d6b_ebc0ae3442e8.Log.final.out',\n",
        " u'3ed7f6c6-5ab0-40cd-8da2-124a7451d287_results.xprs': u'http://files.figshare.com/1612521/3ed7f6c6_5ab0_40cd_8da2_124a7451d287_results.xprs',\n",
        " u'63b2f6d2-2f86-4986-bcc1-9e1aae13f8bd_results.xprs': u'http://files.figshare.com/1612532/63b2f6d2_2f86_4986_bcc1_9e1aae13f8bd_results.xprs',\n",
        " u'766bbaa9-e498-471f-9f72-63a143e6656b.SJ.out.tab': u'http://files.figshare.com/1612519/766bbaa9_e498_471f_9f72_63a143e6656b.SJ.out.tab',\n",
        " u'95350f94-dc26-45e6-8183-28e9c7250ade_results.xprs': u'http://files.figshare.com/1612526/95350f94_dc26_45e6_8183_28e9c7250ade_results.xprs',\n",
        " u'SA03982.Log.final.out': u'http://files.figshare.com/1612520/SA03982.Log.final.out',\n",
        " u'SA52314.Log.final.out': u'http://files.figshare.com/1612531/SA52314.Log.final.out',\n",
        " u'SA52314.SJ.out.tab': u'http://files.figshare.com/1612524/SA52314.SJ.out.tab',\n",
        " u'b6b7fb9f-129f-4baa-961b-5715adb22a62.Log.final.out': u'http://files.figshare.com/1612528/b6b7fb9f_129f_4baa_961b_5715adb22a62.Log.final.out',\n",
        " u'bc0af03f-aa40-4b39-8876-6f2e7397181c.Log.final.out': u'http://files.figshare.com/1612525/bc0af03f_aa40_4b39_8876_6f2e7397181c.Log.final.out',\n",
        " u'brca_cll_um_sj_counts.tsv': u'http://files.figshare.com/1612527/brca_cll_um_sj_counts.tsv',\n",
        " u'c52c3859-08f8-4f50-8596-bfa497a0d24f_results.xprs': u'http://files.figshare.com/1612530/c52c3859_08f8_4f50_8596_bfa497a0d24f_results.xprs',\n",
        " u'cancer_gene_census.tsv': u'http://files.figshare.com/1612522/cancer_gene_census.tsv',\n",
        " u'fff72492-a90f-4699-a1d7-8e9186bd3cd6.SJ.out.tab': u'http://files.figshare.com/1612534/fff72492_a90f_4699_a1d7_8e9186bd3cd6.SJ.out.tab',\n",
        " u'sf3b1_mut_info.tsv.readme': u'http://files.figshare.com/1612533/sf3b1_mut_info.tsv.readme',\n",
        " u'stable06.tsv': u'http://files.figshare.com/1612523/stable06.tsv',\n",
        " u'transcript_eff_counts.tsv': u'http://files.figshare.com/1612518/transcript_eff_counts.tsv'}"
       ]
      }
     ],
     "prompt_number": 6
    },
    {
     "cell_type": "code",
     "collapsed": false,
     "input": [],
     "language": "python",
     "metadata": {},
     "outputs": []
    }
   ],
   "metadata": {}
  }
 ]
}