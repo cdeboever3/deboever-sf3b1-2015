{
 "metadata": {
  "name": "",
  "signature": "sha256:1a673f32575d62c39381899fca29748c8df072c7fa65d950fbef847e7521e635"
 },
 "nbformat": 3,
 "nbformat_minor": 0,
 "worksheets": [
  {
   "cells": [
    {
     "cell_type": "markdown",
     "metadata": {},
     "source": [
      "# Figshare Download\n",
      "\n",
      "This notebook is used to download data from Figshare. This notebook \n",
      "will download primary data files as well as intermediate files and \n",
      "final files (like figures) from Figshare and organize them into \n",
      "directories inside a clone of this project's Github repository."
     ]
    },
    {
     "cell_type": "code",
     "collapsed": false,
     "input": [
      "import glob\n",
      "import hashlib\n",
      "import os\n",
      "import subprocess\n",
      "import urllib2\n",
      "\n",
      "import ds2014 as ds\n",
      "import figshare\n",
      "from IPython.core.display import clear_output\n",
      "import pandas as pd"
     ],
     "language": "python",
     "metadata": {},
     "outputs": [],
     "prompt_number": 14
    },
    {
     "cell_type": "markdown",
     "metadata": {},
     "source": [
      "The code below downloads the data from Figshare as one zip file.\n",
      "I've included print statements every 10% of the way. There is ~4GB\n",
      "of data so the download may take a bit of time."
     ]
    },
    {
     "cell_type": "code",
     "collapsed": false,
     "input": [
      "url = 'http://downloads.figshare.com/article/public/{}'.format(ds.figshare_article_id)\n",
      "\n",
      "file_name = url.split('/')[-1] + '.zip'\n",
      "u = urllib2.urlopen(url)\n",
      "f = open(file_name, 'wb')\n",
      "meta = u.info()\n",
      "file_size = int(meta.getheaders(\"Content-Length\")[0])\n",
      "print(\"Downloading: %s Bytes: %s\" % (file_name, file_size))\n",
      "sys.stdout.flush()\n",
      "\n",
      "file_size_dl = 0\n",
      "block_sz = 8192\n",
      "next_print = 0.1\n",
      "print_interval = 0.1\n",
      "while True:\n",
      "    buffer = u.read(block_sz)\n",
      "    if not buffer:\n",
      "        break\n",
      "\n",
      "    file_size_dl += len(buffer)\n",
      "    f.write(buffer)\n",
      "    percent = file_size_dl / float(file_size)\n",
      "    sys.stdout.flush()\n",
      "    if percent >= next_print:\n",
      "        status = '{:.0%} finished'.format(percent)\n",
      "        print(status)\n",
      "        sys.stdout.flush()\n",
      "        next_print += print_interval\n",
      "\n",
      "f.close()"
     ],
     "language": "python",
     "metadata": {},
     "outputs": [
      {
       "output_type": "stream",
       "stream": "stdout",
       "text": [
        "Downloading: 1120663.zip Bytes: 486310116\n"
       ]
      },
      {
       "output_type": "stream",
       "stream": "stdout",
       "text": [
        "10.0% finished\n"
       ]
      },
      {
       "output_type": "stream",
       "stream": "stdout",
       "text": [
        "20.0% finished\n"
       ]
      },
      {
       "output_type": "stream",
       "stream": "stdout",
       "text": [
        "30.0% finished\n"
       ]
      },
      {
       "output_type": "stream",
       "stream": "stdout",
       "text": [
        "40.0% finished\n"
       ]
      },
      {
       "output_type": "stream",
       "stream": "stdout",
       "text": [
        "50.0% finished\n"
       ]
      },
      {
       "output_type": "stream",
       "stream": "stdout",
       "text": [
        "60.0% finished\n"
       ]
      },
      {
       "output_type": "stream",
       "stream": "stdout",
       "text": [
        "70.0% finished\n"
       ]
      },
      {
       "output_type": "stream",
       "stream": "stdout",
       "text": [
        "80.0% finished\n"
       ]
      },
      {
       "output_type": "stream",
       "stream": "stdout",
       "text": [
        "90.0% finished\n"
       ]
      },
      {
       "output_type": "stream",
       "stream": "stdout",
       "text": [
        "100.0% finished\n"
       ]
      }
     ],
     "prompt_number": 38
    },
    {
     "cell_type": "markdown",
     "metadata": {},
     "source": [
      "I'll unzip the data and use the manifest file to move \n",
      "the individual files to the correct locations inside\n",
      "the project repository."
     ]
    },
    {
     "cell_type": "code",
     "collapsed": false,
     "input": [],
     "language": "python",
     "metadata": {},
     "outputs": []
    },
    {
     "cell_type": "code",
     "collapsed": false,
     "input": [],
     "language": "python",
     "metadata": {},
     "outputs": []
    },
    {
     "cell_type": "code",
     "collapsed": false,
     "input": [],
     "language": "python",
     "metadata": {},
     "outputs": []
    },
    {
     "cell_type": "code",
     "collapsed": false,
     "input": [],
     "language": "python",
     "metadata": {},
     "outputs": []
    },
    {
     "cell_type": "code",
     "collapsed": false,
     "input": [],
     "language": "python",
     "metadata": {},
     "outputs": []
    }
   ],
   "metadata": {}
  }
 ]
}