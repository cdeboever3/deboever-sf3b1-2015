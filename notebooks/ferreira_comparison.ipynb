{
 "metadata": {
  "name": "",
  "signature": "sha256:97b006206d82f20a4a6dc511f87cedbd759cc45531fface7ed2fdca5ae9b1df8"
 },
 "nbformat": 3,
 "nbformat_minor": 0,
 "worksheets": [
  {
   "cells": [
    {
     "cell_type": "markdown",
     "metadata": {},
     "source": [
      "# Ferreira *et al.* 2013 comparison\n",
      "\n",
      "I'm going to compare our results to those of\n",
      "[Ferreira *et al.* 2013](http://genome.cshlp.org/content/early/2013/11/21/gr.152132.112)."
     ]
    },
    {
     "cell_type": "code",
     "collapsed": false,
     "input": [
      "import os\n",
      "\n",
      "import ds2014 as ds\n",
      "import pandas as pd\n",
      "\n",
      "from pylab import *\n",
      "%matplotlib inline"
     ],
     "language": "python",
     "metadata": {},
     "outputs": [],
     "prompt_number": 1
    },
    {
     "cell_type": "code",
     "collapsed": false,
     "input": [
      "curdir = os.getcwd()\n",
      "outdir = os.path.join(os.path.split(curdir)[0], \n",
      "                      'output', \n",
      "                      'ferreira_comparison')\n",
      "ds.makedir(outdir)"
     ],
     "language": "python",
     "metadata": {},
     "outputs": [],
     "prompt_number": 2
    },
    {
     "cell_type": "code",
     "collapsed": false,
     "input": [
      "meta = pd.read_table(ds.metadata, index_col=0, header=0)\n",
      "cll_results = pd.read_table(ds.cll_dexseq_results,\n",
      "                            index_col=0,\n",
      "                            header=0)\n",
      "cll_sig = cll_results[cll_results.padjust < ds.dexseq_p_cutoff]\n",
      "brca_cll_um_results = pd.read_table(ds.brca_cll_um_dexseq_results,\n",
      "                                    index_col=0,\n",
      "                                    header=0)\n",
      "brca_cll_um_sig = brca_cll_um_results[brca_cll_um_results.padjust < ds.dexseq_p_cutoff]\n",
      "\n",
      "psi_high = pd.read_table(ds.cll_psi_high, index_col=0,\n",
      "                         header=0)\n",
      "\n",
      "# Strip strand off index\n",
      "cll_sig.index = [':'.join(x.split(':')[0:-1]) for x in cll_sig.index]\n",
      "brca_cll_um_sig.index = [':'.join(x.split(':')[0:-1]) for x in brca_cll_um_sig.index]\n",
      "psi_high.index = [':'.join(x.split(':')[0:-1]) for x in psi_high.index]\n",
      "\n",
      "fresults = pd.read_excel(ds.ferreira_sfile3,\n",
      "                         sheetname='SpliceJunction_SF3B1',\n",
      "                         header=None,\n",
      "                         names=['chrom', 'start', 'end', 'type', 'gene'])\n",
      "fresults['gene'] = fresults.gene.apply(lambda x: x.split(';')[1:])"
     ],
     "language": "python",
     "metadata": {},
     "outputs": [],
     "prompt_number": 3
    },
    {
     "cell_type": "markdown",
     "metadata": {},
     "source": [
      "I'm not sure what the coordinates are in the Supplemental File\n",
      "from Ferreira, so I'm going to compare to one of our junctions\n",
      "to figure it out."
     ]
    },
    {
     "cell_type": "code",
     "collapsed": false,
     "input": [
      "fresults.head()"
     ],
     "language": "python",
     "metadata": {},
     "outputs": [
      {
       "html": [
        "<div style=\"max-height:1000px;max-width:1500px;overflow:auto;\">\n",
        "<table border=\"1\" class=\"dataframe\">\n",
        "  <thead>\n",
        "    <tr style=\"text-align: right;\">\n",
        "      <th></th>\n",
        "      <th>chrom</th>\n",
        "      <th>start</th>\n",
        "      <th>end</th>\n",
        "      <th>type</th>\n",
        "      <th>gene</th>\n",
        "    </tr>\n",
        "  </thead>\n",
        "  <tbody>\n",
        "    <tr>\n",
        "      <th>0</th>\n",
        "      <td>  chr1</td>\n",
        "      <td>  25554751</td>\n",
        "      <td>  25555488</td>\n",
        "      <td> ALT3P</td>\n",
        "      <td>    [SYF2]</td>\n",
        "    </tr>\n",
        "    <tr>\n",
        "      <th>1</th>\n",
        "      <td>  chr1</td>\n",
        "      <td> 186324917</td>\n",
        "      <td> 186325417</td>\n",
        "      <td> ALT3P</td>\n",
        "      <td>     [TPR]</td>\n",
        "    </tr>\n",
        "    <tr>\n",
        "      <th>2</th>\n",
        "      <td>  chr1</td>\n",
        "      <td> 228335400</td>\n",
        "      <td> 228336058</td>\n",
        "      <td> ALT3P</td>\n",
        "      <td>    [GUK1]</td>\n",
        "    </tr>\n",
        "    <tr>\n",
        "      <th>3</th>\n",
        "      <td>  chr1</td>\n",
        "      <td> 235896981</td>\n",
        "      <td> 235897129</td>\n",
        "      <td> ALT3P</td>\n",
        "      <td>    [LYST]</td>\n",
        "    </tr>\n",
        "    <tr>\n",
        "      <th>4</th>\n",
        "      <td> chr10</td>\n",
        "      <td>  70955021</td>\n",
        "      <td>  70956733</td>\n",
        "      <td> ALT3P</td>\n",
        "      <td> [SUPV3L1]</td>\n",
        "    </tr>\n",
        "  </tbody>\n",
        "</table>\n",
        "</div>"
       ],
       "metadata": {},
       "output_type": "pyout",
       "prompt_number": 4,
       "text": [
        "   chrom      start        end   type       gene\n",
        "0   chr1   25554751   25555488  ALT3P     [SYF2]\n",
        "1   chr1  186324917  186325417  ALT3P      [TPR]\n",
        "2   chr1  228335400  228336058  ALT3P     [GUK1]\n",
        "3   chr1  235896981  235897129  ALT3P     [LYST]\n",
        "4  chr10   70955021   70956733  ALT3P  [SUPV3L1]"
       ]
      }
     ],
     "prompt_number": 4
    },
    {
     "cell_type": "markdown",
     "metadata": {},
     "source": [
      "Let's see whether I have a significant junction for the \n",
      "gene *TPR*."
     ]
    },
    {
     "cell_type": "code",
     "collapsed": false,
     "input": [
      "cll_sig[cll_sig.gene_name == 'TPR']"
     ],
     "language": "python",
     "metadata": {},
     "outputs": [
      {
       "html": [
        "<div style=\"max-height:1000px;max-width:1500px;overflow:auto;\">\n",
        "<table border=\"1\" class=\"dataframe\">\n",
        "  <thead>\n",
        "    <tr style=\"text-align: right;\">\n",
        "      <th></th>\n",
        "      <th>testable</th>\n",
        "      <th>pvalue</th>\n",
        "      <th>padjust</th>\n",
        "      <th>log2fold(WT/MUT)</th>\n",
        "      <th>chrom</th>\n",
        "      <th>start</th>\n",
        "      <th>end</th>\n",
        "      <th>strand</th>\n",
        "      <th>intron_motif</th>\n",
        "      <th>annotated</th>\n",
        "      <th>...</th>\n",
        "      <th>novel_donor</th>\n",
        "      <th>novel_acceptor</th>\n",
        "      <th>upstream_donor_dist</th>\n",
        "      <th>downstream_donor_dist</th>\n",
        "      <th>upstream_acceptor_dist</th>\n",
        "      <th>downstream_acceptor_dist</th>\n",
        "      <th>gene_type</th>\n",
        "      <th>gene_status</th>\n",
        "      <th>gene_name</th>\n",
        "      <th>log2fold(MUT/WT)</th>\n",
        "    </tr>\n",
        "  </thead>\n",
        "  <tbody>\n",
        "    <tr>\n",
        "      <th>chr1:186300729-186301326</th>\n",
        "      <td> True</td>\n",
        "      <td> 1.837945e-04</td>\n",
        "      <td> 1.447191e-02</td>\n",
        "      <td>-2.328163</td>\n",
        "      <td> chr1</td>\n",
        "      <td> 186300729</td>\n",
        "      <td> 186301326</td>\n",
        "      <td> -</td>\n",
        "      <td> CT/AC</td>\n",
        "      <td>  True</td>\n",
        "      <td>...</td>\n",
        "      <td> False</td>\n",
        "      <td>  True</td>\n",
        "      <td>NaN</td>\n",
        "      <td>NaN</td>\n",
        "      <td>NaN</td>\n",
        "      <td> 15</td>\n",
        "      <td> protein_coding</td>\n",
        "      <td> KNOWN</td>\n",
        "      <td> TPR</td>\n",
        "      <td> 2.328163</td>\n",
        "    </tr>\n",
        "    <tr>\n",
        "      <th>chr1:186305827-186306144</th>\n",
        "      <td> True</td>\n",
        "      <td> 1.660303e-03</td>\n",
        "      <td> 5.349047e-02</td>\n",
        "      <td> 0.294041</td>\n",
        "      <td> chr1</td>\n",
        "      <td> 186305827</td>\n",
        "      <td> 186306144</td>\n",
        "      <td> -</td>\n",
        "      <td> CT/AC</td>\n",
        "      <td>  True</td>\n",
        "      <td>...</td>\n",
        "      <td> False</td>\n",
        "      <td> False</td>\n",
        "      <td>NaN</td>\n",
        "      <td>NaN</td>\n",
        "      <td>NaN</td>\n",
        "      <td>NaN</td>\n",
        "      <td> protein_coding</td>\n",
        "      <td> KNOWN</td>\n",
        "      <td> TPR</td>\n",
        "      <td>-0.294041</td>\n",
        "    </tr>\n",
        "    <tr>\n",
        "      <th>chr1:186324901-186325417</th>\n",
        "      <td> True</td>\n",
        "      <td> 4.655775e-03</td>\n",
        "      <td> 9.648809e-02</td>\n",
        "      <td> 0.184528</td>\n",
        "      <td> chr1</td>\n",
        "      <td> 186324901</td>\n",
        "      <td> 186325417</td>\n",
        "      <td> -</td>\n",
        "      <td> CT/AC</td>\n",
        "      <td>  True</td>\n",
        "      <td>...</td>\n",
        "      <td> False</td>\n",
        "      <td> False</td>\n",
        "      <td>NaN</td>\n",
        "      <td>NaN</td>\n",
        "      <td>NaN</td>\n",
        "      <td>NaN</td>\n",
        "      <td> protein_coding</td>\n",
        "      <td> KNOWN</td>\n",
        "      <td> TPR</td>\n",
        "      <td>-0.184528</td>\n",
        "    </tr>\n",
        "    <tr>\n",
        "      <th>chr1:186324918-186325417</th>\n",
        "      <td> True</td>\n",
        "      <td> 8.158512e-13</td>\n",
        "      <td> 2.251707e-09</td>\n",
        "      <td>-3.161384</td>\n",
        "      <td> chr1</td>\n",
        "      <td> 186324918</td>\n",
        "      <td> 186325417</td>\n",
        "      <td> -</td>\n",
        "      <td> CT/AC</td>\n",
        "      <td> False</td>\n",
        "      <td>...</td>\n",
        "      <td> False</td>\n",
        "      <td>  True</td>\n",
        "      <td>NaN</td>\n",
        "      <td>NaN</td>\n",
        "      <td>NaN</td>\n",
        "      <td> 17</td>\n",
        "      <td> protein_coding</td>\n",
        "      <td> KNOWN</td>\n",
        "      <td> TPR</td>\n",
        "      <td> 3.161384</td>\n",
        "    </tr>\n",
        "  </tbody>\n",
        "</table>\n",
        "<p>4 rows \u00d7 26 columns</p>\n",
        "</div>"
       ],
       "metadata": {},
       "output_type": "pyout",
       "prompt_number": 5,
       "text": [
        "                         testable        pvalue       padjust  \\\n",
        "chr1:186300729-186301326     True  1.837945e-04  1.447191e-02   \n",
        "chr1:186305827-186306144     True  1.660303e-03  5.349047e-02   \n",
        "chr1:186324901-186325417     True  4.655775e-03  9.648809e-02   \n",
        "chr1:186324918-186325417     True  8.158512e-13  2.251707e-09   \n",
        "\n",
        "                          log2fold(WT/MUT) chrom      start        end strand  \\\n",
        "chr1:186300729-186301326         -2.328163  chr1  186300729  186301326      -   \n",
        "chr1:186305827-186306144          0.294041  chr1  186305827  186306144      -   \n",
        "chr1:186324901-186325417          0.184528  chr1  186324901  186325417      -   \n",
        "chr1:186324918-186325417         -3.161384  chr1  186324918  186325417      -   \n",
        "\n",
        "                         intron_motif annotated    ...    novel_donor  \\\n",
        "chr1:186300729-186301326        CT/AC      True    ...          False   \n",
        "chr1:186305827-186306144        CT/AC      True    ...          False   \n",
        "chr1:186324901-186325417        CT/AC      True    ...          False   \n",
        "chr1:186324918-186325417        CT/AC     False    ...          False   \n",
        "\n",
        "                         novel_acceptor upstream_donor_dist  \\\n",
        "chr1:186300729-186301326           True                 NaN   \n",
        "chr1:186305827-186306144          False                 NaN   \n",
        "chr1:186324901-186325417          False                 NaN   \n",
        "chr1:186324918-186325417           True                 NaN   \n",
        "\n",
        "                         downstream_donor_dist upstream_acceptor_dist  \\\n",
        "chr1:186300729-186301326                   NaN                    NaN   \n",
        "chr1:186305827-186306144                   NaN                    NaN   \n",
        "chr1:186324901-186325417                   NaN                    NaN   \n",
        "chr1:186324918-186325417                   NaN                    NaN   \n",
        "\n",
        "                         downstream_acceptor_dist       gene_type gene_status  \\\n",
        "chr1:186300729-186301326                       15  protein_coding       KNOWN   \n",
        "chr1:186305827-186306144                      NaN  protein_coding       KNOWN   \n",
        "chr1:186324901-186325417                      NaN  protein_coding       KNOWN   \n",
        "chr1:186324918-186325417                       17  protein_coding       KNOWN   \n",
        "\n",
        "                          gene_name  log2fold(MUT/WT)  \n",
        "chr1:186300729-186301326        TPR          2.328163  \n",
        "chr1:186305827-186306144        TPR         -0.294041  \n",
        "chr1:186324901-186325417        TPR         -0.184528  \n",
        "chr1:186324918-186325417        TPR          3.161384  \n",
        "\n",
        "[4 rows x 26 columns]"
       ]
      }
     ],
     "prompt_number": 5
    },
    {
     "cell_type": "markdown",
     "metadata": {},
     "source": [
      "We can see that the significant junction for *TPR* at the bottom\n",
      "of the table corresponds to the junction from Ferreira.\n",
      "\n",
      "The \"start\" coordinate from Ferreira is 186,324,917\n",
      "but I have 186,324,918. I'll add one to the \"start\"\n",
      "coordinates from Ferreira. The end coordinates are the same."
     ]
    },
    {
     "cell_type": "code",
     "collapsed": false,
     "input": [
      "fresults.start += 1\n",
      "fresults.index = (fresults.chrom + ':' + fresults.start.astype(str) + \n",
      "                  '-' + fresults.end.astype(str))\n",
      "fresults.to_csv(ds.ferreira_results, sep='\\t')"
     ],
     "language": "python",
     "metadata": {},
     "outputs": [],
     "prompt_number": 6
    },
    {
     "cell_type": "code",
     "collapsed": false,
     "input": [
      "fresults.head()"
     ],
     "language": "python",
     "metadata": {},
     "outputs": [
      {
       "html": [
        "<div style=\"max-height:1000px;max-width:1500px;overflow:auto;\">\n",
        "<table border=\"1\" class=\"dataframe\">\n",
        "  <thead>\n",
        "    <tr style=\"text-align: right;\">\n",
        "      <th></th>\n",
        "      <th>chrom</th>\n",
        "      <th>start</th>\n",
        "      <th>end</th>\n",
        "      <th>type</th>\n",
        "      <th>gene</th>\n",
        "    </tr>\n",
        "  </thead>\n",
        "  <tbody>\n",
        "    <tr>\n",
        "      <th>chr1:25554752-25555488</th>\n",
        "      <td>  chr1</td>\n",
        "      <td>  25554752</td>\n",
        "      <td>  25555488</td>\n",
        "      <td> ALT3P</td>\n",
        "      <td>    [SYF2]</td>\n",
        "    </tr>\n",
        "    <tr>\n",
        "      <th>chr1:186324918-186325417</th>\n",
        "      <td>  chr1</td>\n",
        "      <td> 186324918</td>\n",
        "      <td> 186325417</td>\n",
        "      <td> ALT3P</td>\n",
        "      <td>     [TPR]</td>\n",
        "    </tr>\n",
        "    <tr>\n",
        "      <th>chr1:228335401-228336058</th>\n",
        "      <td>  chr1</td>\n",
        "      <td> 228335401</td>\n",
        "      <td> 228336058</td>\n",
        "      <td> ALT3P</td>\n",
        "      <td>    [GUK1]</td>\n",
        "    </tr>\n",
        "    <tr>\n",
        "      <th>chr1:235896982-235897129</th>\n",
        "      <td>  chr1</td>\n",
        "      <td> 235896982</td>\n",
        "      <td> 235897129</td>\n",
        "      <td> ALT3P</td>\n",
        "      <td>    [LYST]</td>\n",
        "    </tr>\n",
        "    <tr>\n",
        "      <th>chr10:70955022-70956733</th>\n",
        "      <td> chr10</td>\n",
        "      <td>  70955022</td>\n",
        "      <td>  70956733</td>\n",
        "      <td> ALT3P</td>\n",
        "      <td> [SUPV3L1]</td>\n",
        "    </tr>\n",
        "  </tbody>\n",
        "</table>\n",
        "</div>"
       ],
       "metadata": {},
       "output_type": "pyout",
       "prompt_number": 7,
       "text": [
        "                          chrom      start        end   type       gene\n",
        "chr1:25554752-25555488     chr1   25554752   25555488  ALT3P     [SYF2]\n",
        "chr1:186324918-186325417   chr1  186324918  186325417  ALT3P      [TPR]\n",
        "chr1:228335401-228336058   chr1  228335401  228336058  ALT3P     [GUK1]\n",
        "chr1:235896982-235897129   chr1  235896982  235897129  ALT3P     [LYST]\n",
        "chr10:70955022-70956733   chr10   70955022   70956733  ALT3P  [SUPV3L1]"
       ]
      }
     ],
     "prompt_number": 7
    },
    {
     "cell_type": "code",
     "collapsed": false,
     "input": [
      "fresults_agree = fresults.ix[set(fresults.index) & set(cll_sig.index)]\n",
      "print('Number of significant junctions from Ferreira that we find in CLL analysis: {}'.format(fresults_agree.shape[0]))"
     ],
     "language": "python",
     "metadata": {},
     "outputs": [
      {
       "output_type": "stream",
       "stream": "stdout",
       "text": [
        "Number of significant junctions from Ferreira that we find in CLL analysis: 54\n"
       ]
      }
     ],
     "prompt_number": 8
    },
    {
     "cell_type": "code",
     "collapsed": false,
     "input": [
      "fresults_agree.type.value_counts()"
     ],
     "language": "python",
     "metadata": {},
     "outputs": [
      {
       "metadata": {},
       "output_type": "pyout",
       "prompt_number": 9,
       "text": [
        "ALT3P    54\n",
        "dtype: int64"
       ]
      }
     ],
     "prompt_number": 9
    },
    {
     "cell_type": "code",
     "collapsed": false,
     "input": [
      "fresults_agree = fresults.ix[set(fresults.index) & set(brca_cll_um_sig.index)]\n",
      "print('Number of significant junctions from Ferreira that we find in BRCA/CLL/UM analysis: {}'.format(fresults_agree.shape[0]))"
     ],
     "language": "python",
     "metadata": {},
     "outputs": [
      {
       "output_type": "stream",
       "stream": "stdout",
       "text": [
        "Number of significant junctions from Ferreira that we find in BRCA/CLL/UM analysis: 61\n"
       ]
      }
     ],
     "prompt_number": 10
    },
    {
     "cell_type": "code",
     "collapsed": false,
     "input": [
      "fresults.type.value_counts()"
     ],
     "language": "python",
     "metadata": {},
     "outputs": [
      {
       "metadata": {},
       "output_type": "pyout",
       "prompt_number": 11,
       "text": [
        "ALT3P    75\n",
        "NOVEL     2\n",
        "ALT5P     1\n",
        "ANNOT     1\n",
        "dtype: int64"
       ]
      }
     ],
     "prompt_number": 11
    },
    {
     "cell_type": "code",
     "collapsed": false,
     "input": [
      "fresults_agree.type.value_counts()"
     ],
     "language": "python",
     "metadata": {},
     "outputs": [
      {
       "metadata": {},
       "output_type": "pyout",
       "prompt_number": 12,
       "text": [
        "ALT3P    60\n",
        "ANNOT     1\n",
        "dtype: int64"
       ]
      }
     ],
     "prompt_number": 12
    },
    {
     "cell_type": "markdown",
     "metadata": {},
     "source": [
      "So 54/79 signficant junctions (54/75 alternative 3'SS)\n",
      "identified by Ferreira *et al.* were significant in our\n",
      "CLL-only analysis and 61/79 (60/75) were significant in\n",
      "our joint BRCA/CLL/UM analysis."
     ]
    },
    {
     "cell_type": "code",
     "collapsed": false,
     "input": [
      "psi_high_agree = len(set(fresults.index) & set(psi_high.index))\n",
      "print('Number of cryptic 3\\'SSs with high PSI values also found by Ferreira: {}'.format(psi_high_agree))"
     ],
     "language": "python",
     "metadata": {},
     "outputs": [
      {
       "output_type": "stream",
       "stream": "stdout",
       "text": [
        "Number of cryptic 3'SSs with high PSI values also found by Ferreira: 3\n"
       ]
      }
     ],
     "prompt_number": 13
    },
    {
     "cell_type": "markdown",
     "metadata": {},
     "source": [
      "So 3 of the 10 cryptic 3'SSs that had high differential PSI values\n",
      "were found by Ferreira as well."
     ]
    },
    {
     "cell_type": "code",
     "collapsed": false,
     "input": [
      "print(set(fresults.index) & set(psi_high.index))"
     ],
     "language": "python",
     "metadata": {},
     "outputs": [
      {
       "output_type": "stream",
       "stream": "stdout",
       "text": [
        "set(['chr7:102074109-102076648', 'chr19:23545542-23556543', 'chr20:36631196-36634598'])\n"
       ]
      }
     ],
     "prompt_number": 14
    },
    {
     "cell_type": "code",
     "collapsed": false,
     "input": [
      "ph = pd.read_table(ds.cll_psi_high, index_col=0,\n",
      "                   header=0)\n",
      "cll_results.ix[ph.index, 'gene_name']"
     ],
     "language": "python",
     "metadata": {},
     "outputs": [
      {
       "metadata": {},
       "output_type": "pyout",
       "prompt_number": 15,
       "text": [
        "junction\n",
        "chr19:35646515-35647729:+              FXYD5\n",
        "chr20:36631196-36634598:-               TTI1\n",
        "chr12:53689726-53691607:+              PFDN5\n",
        "chr6:91269954-91271340:-              MAP3K7\n",
        "chr7:102074109-102076648:+             ORAI2\n",
        "chr19:23545542-23556543:-              ZNF91\n",
        "chr5:138725126-138725368:-    RP11-1280I22.1\n",
        "chr11:66053069-66053171:-              YIF1A\n",
        "chr19:57908543-57909780:+             ZNF548\n",
        "chr15:41130904-41136376:-      RP11-532F12.5\n",
        "Name: gene_name, dtype: object"
       ]
      }
     ],
     "prompt_number": 15
    },
    {
     "cell_type": "markdown",
     "metadata": {},
     "source": [
      "So the junctions in *ORAI2*, *ZNF91*, and *TTI1* were\n",
      "found by Ferreira as well."
     ]
    }
   ],
   "metadata": {}
  }
 ]
}