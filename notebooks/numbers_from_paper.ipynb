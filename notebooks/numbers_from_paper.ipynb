{
 "metadata": {
  "name": "",
  "signature": "sha256:2d495448ee2e9348da8867a6cf557637d130a521796c173f92f061f70d6f7348"
 },
 "nbformat": 3,
 "nbformat_minor": 0,
 "worksheets": [
  {
   "cells": [
    {
     "cell_type": "markdown",
     "metadata": {},
     "source": [
      "# Numbers from paper\n",
      "\n",
      "In this notebook, I recreate the numbers used in the paper.\n",
      "The notebook follows the order of the paper and I've tried\n",
      "to include different numbers or results that are not evident\n",
      "from the figures or supplementary tables. The supplementary \n",
      "tables are created in a different notebook."
     ]
    },
    {
     "cell_type": "code",
     "collapsed": false,
     "input": [
      "import pandas as pd\n",
      "from scipy.stats import fisher_exact\n",
      "from scipy.stats import mannwhitneyu\n",
      "\n",
      "import ds2014 as ds"
     ],
     "language": "python",
     "metadata": {},
     "outputs": [],
     "prompt_number": 1
    },
    {
     "cell_type": "code",
     "collapsed": false,
     "input": [
      "meta = pd.read_table(ds.metadata, index_col=0, header=0)\n",
      "\n",
      "brca_cll_um_dexseq_results = pd.read_table(ds.brca_cll_um_dexseq_results,\n",
      "                                           index_col=0, header=0)\n",
      "cll_dexseq_results = pd.read_table(ds.cll_dexseq_results,\n",
      "                                   index_col=0, header=0)\n",
      "\n",
      "cll_sj_counts = pd.read_table(ds.cll_sj_counts,\n",
      "                              index_col=0,\n",
      "                              header=0)\n",
      "\n",
      "psi_high = pd.read_table(ds.cll_psi_high, index_col=0,\n",
      "                         header=0)\n",
      "\n",
      "annot_single_bp = pd.read_table(ds.annot_single_bp,\n",
      "                                index_col=0, header=0)\n",
      "control_single_bp = pd.read_table(ds.control_single_bp,\n",
      "                                  index_col=0, header=0)\n",
      "\n",
      "brca_cll_um_deseq2_results = pd.read_csv(ds.brca_cll_um_deseq2_results,\n",
      "                                         index_col=0, header=0)\n",
      "\n",
      "proximal_jxns = pd.read_table(ds.proximal_jxns,\n",
      "                              index_col=0, header=0)\n",
      "\n",
      "cll_deseq2_results = pd.read_csv(ds.cll_deseq2_results,\n",
      "                                 index_col=0, header=0)\n",
      "\n",
      "cll_sj_counts = pd.read_table(ds.cll_sj_counts,\n",
      "                              index_col=0,\n",
      "                              header=0)\n",
      "\n",
      "cll_psi = pd.read_table(ds.cll_psi, index_col=0,\n",
      "                        header=0)\n",
      "\n",
      "brca_dexseq_results = pd.read_table(ds.brca_dexseq_results,\n",
      "                                    index_col=0, header=0)\n",
      "\n",
      "ferreira_results = pd.read_table(ds.ferreira_results,\n",
      "                                 index_col=0, header=0)"
     ],
     "language": "python",
     "metadata": {},
     "outputs": [],
     "prompt_number": 2
    },
    {
     "cell_type": "markdown",
     "metadata": {},
     "source": [
      "## Abstract/Introduction\n",
      "\n",
      "Any of the numbers here are taken from the results so you can\n",
      "see them below in more context.\n",
      "\n",
      "## Results\n",
      "\n",
      "### Cryptic 3\u2019 splice sites 10-30 bp upstream of canonical 3\u2019 splice sites are used in *SF3B1* mutants"
     ]
    },
    {
     "cell_type": "code",
     "collapsed": false,
     "input": [
      "def dexseq_summary(df, name):\n",
      "    print('Summary for {} analysis\\n'.format(name))\n",
      "    tested = df.ix[df.testable]\n",
      "    gencode, novel = tested.ext_annotated.value_counts()\n",
      "    print('{:,} Gencode junctions tested'.format(gencode))\n",
      "    print('{:,} Gencode junctions tested'.format(novel))\n",
      "    sig = tested[tested.padjust < ds.dexseq_p_cutoff]    \n",
      "    print('{:,} significant'.format(sig.shape[0]))\n",
      "\n",
      "    n = sig.shape[0] - sig.ext_annotated.sum()\n",
      "    print('{:,} significant novel'.format(n))\n",
      "\n",
      "    novel_acceptor = sig.novel_acceptor.value_counts()[True]\n",
      "    print('{:,} significant novel acceptors'.format(novel_acceptor))\n",
      "    cryptic_mutant_up = sig[(sig.novel_acceptor) & \n",
      "                            (sig['log2fold(MUT/WT)'] > 0)].shape[0]\n",
      "    print('{:,} crpytic acceptors used more often in the mutants'.format(cryptic_mutant_up))\n",
      "    proximal = sig[(sig.downstream_acceptor_dist >= 10) & \n",
      "                   (sig.downstream_acceptor_dist <= 30)]\n",
      "    print('{:,} proximal cryptic acceptors'.format(proximal.shape[0]))\n",
      "    mut_up = (proximal['log2fold(MUT/WT)'] < 0).value_counts()[False]\n",
      "    print('{:,} of {:,} proximal cryptic acceptors used more in mutants'.format(mut_up, proximal.shape[0]))\n",
      "    out_of_frame = (proximal.downstream_acceptor_dist % 3 == 0).value_counts()[False] / float(proximal.shape[0])\n",
      "    print('{:,.1%} proximal cryptic out of frame'.format(out_of_frame))\n",
      "    distal = cryptic_mutant_up - proximal.shape[0]\n",
      "    print('{:,} distal cryptic acceptors'.format(distal))\n",
      "\n",
      "    print('\\nEnrichment analyses')\n",
      "    annotated_sig = sig.ext_annotated.sum()\n",
      "    novel_sig = sig.shape[0] - annotated_sig\n",
      "    annotated_not_sig = tested.ext_annotated.sum() - annotated_sig\n",
      "    novel_not_sig = tested.shape[0] - tested.ext_annotated.sum() - novel_sig\n",
      "    p = fisher_exact([[novel_sig, annotated_sig],\n",
      "                      [novel_not_sig, annotated_not_sig]])[1]\n",
      "    print('Novel junctions are enriched among significant junctions '\n",
      "          '(Fisher exact, p = {:.1e})'.format(p))\n",
      "\n",
      "    novel_3ss_sig = sig.novel_acceptor.sum()\n",
      "    novel_not_3ss_sig = sig.shape[0] - sig.ext_annotated.sum() - novel_3ss_sig\n",
      "    novel_3ss_not_sig = tested.novel_acceptor.sum() - novel_3ss_sig\n",
      "    novel_not_3ss_not_sig = novel_not_sig - novel_3ss_not_sig\n",
      "    p = fisher_exact([[novel_3ss_sig, novel_not_3ss_sig],\n",
      "                      [novel_3ss_not_sig, novel_not_3ss_not_sig]])[1]\n",
      "    print('Novel 3\\'SSs are enriched among significant novel junctions '\n",
      "          '(Fisher exact, p = {:.1e})'.format(p))\n",
      "\n",
      "dexseq_summary(brca_cll_um_dexseq_results, 'BRCA/CLL/UM')"
     ],
     "language": "python",
     "metadata": {},
     "outputs": [
      {
       "output_type": "stream",
       "stream": "stdout",
       "text": [
        "Summary for BRCA/CLL/UM analysis\n",
        "\n",
        "219,476 Gencode junctions tested"
       ]
      },
      {
       "output_type": "stream",
       "stream": "stdout",
       "text": [
        "\n",
        "87,941 Gencode junctions tested\n",
        "1,749 significant\n",
        "1,330 significant novel\n",
        "1,117 significant novel acceptors\n",
        "1,036 crpytic acceptors used more often in the mutants\n",
        "619 proximal cryptic acceptors\n",
        "619 of 619 proximal cryptic acceptors used more in mutants\n",
        "58.0% proximal cryptic out of frame\n",
        "417 distal cryptic acceptors\n",
        "\n",
        "Enrichment analyses\n",
        "Novel junctions are enriched among significant junctions (Fisher exact, p = 0.0e+00)"
       ]
      },
      {
       "output_type": "stream",
       "stream": "stdout",
       "text": [
        "\n",
        "Novel 3'SSs are enriched among significant novel junctions (Fisher exact, p = 4.9e-228)"
       ]
      },
      {
       "output_type": "stream",
       "stream": "stdout",
       "text": [
        "\n"
       ]
      }
     ],
     "prompt_number": 3
    },
    {
     "cell_type": "code",
     "collapsed": false,
     "input": [
      "def compare_to_ferreira(df):\n",
      "    df = df.copy(deep=True)\n",
      "    df.index = [':'.join(x.split(':')[0:-1]) for x in df.index]\n",
      "    n = len(set(df.index) & set(ferreira_results.index))\n",
      "    return n\n",
      "n = compare_to_ferreira(brca_cll_um_dexseq_results)\n",
      "print('Number of BRCA/CLL/UM junctions found by Ferreira: {}'.format(n))\n",
      "print('Number significant junctions in Ferreira: {}'.format(ferreira_results.shape[0]))"
     ],
     "language": "python",
     "metadata": {},
     "outputs": [
      {
       "output_type": "stream",
       "stream": "stdout",
       "text": [
        "Number of BRCA/CLL/UM junctions found by Ferreira: 69\n",
        "Number significant junctions in Ferreira: 79\n"
       ]
      }
     ],
     "prompt_number": 4
    },
    {
     "cell_type": "markdown",
     "metadata": {},
     "source": [
      "### Cryptic 3\u2019SSs are located ~13-17 bp downstream of the branch point"
     ]
    },
    {
     "cell_type": "code",
     "collapsed": false,
     "input": [
      "num_lines = sum(1 for line in open(ds.control_jxns))\n",
      "print('{:,} control junctions'.format(num_lines))\n",
      "num_lines = sum(1 for line in open(ds.annot_jxns))\n",
      "f = open(ds.annot_jxns)\n",
      "lines = f.readlines()\n",
      "f.close()\n",
      "print('{:,} associated junctions'.format(len(lines)))\n",
      "print('{:,} unique associated junctions'.format(len(set(lines))))\n",
      "num_lines = sum(1 for line in open(ds.proximal_jxns))\n",
      "print('{:,} proximal junctions'.format(num_lines))\n",
      "num_lines = sum(1 for line in open(ds.distal_jxns))\n",
      "print('{:,} distal junctions'.format(num_lines))"
     ],
     "language": "python",
     "metadata": {},
     "outputs": [
      {
       "output_type": "stream",
       "stream": "stdout",
       "text": [
        "23,066 control junctions\n",
        "619 associated junctions\n",
        "614 unique associated junctions\n",
        "619 proximal junctions\n",
        "248 distal junctions\n"
       ]
      }
     ],
     "prompt_number": 5
    },
    {
     "cell_type": "markdown",
     "metadata": {},
     "source": [
      "### Proposed mechanism of cryptic 3\u2019SS selection\n",
      "\n",
      "The text says \"We found that cryptic 3\u2019SSs are enriched ~13-17 bp downstream from the predicted BP relative to random AG dinucleotides present in control 3\u2019SS introns (p < 10-7, Mann Whitney U).\"\n",
      "\n",
      "This $p$-value arises from comparing the two distributions in Figure 3a and 3b. \n",
      "When looking for random AG dinucleotides in the introns of control 3'SSs, \n",
      "I only looked downstream of the branch point, so for this test I'm only going to consider\n",
      "cases here where the cryptic acceptor is downstream of the branch point."
     ]
    },
    {
     "cell_type": "code",
     "collapsed": false,
     "input": [
      "f = open(ds.control_ag_dists)\n",
      "lines = [ x.strip().split('\\t') for x in f.readlines() ]\n",
      "f.close()\n",
      "lines = [ x[1:] for x in lines if len(x) > 1 ]\n",
      "control_ag_dists = [ int(item) for sublist in lines for item in sublist ]\n",
      "\n",
      "p = mannwhitneyu(annot_single_bp.bp_proximal_dist[annot_single_bp.bp_proximal_dist >= 0],\n",
      "                 control_ag_dists)[1]\n",
      "print('Mann Whitney U p-value for distance between\\n'\n",
      "      'predicted branch points for canonical junctions\\n'\n",
      "      'and cryptic 3\\' splice sites vs. distance from\\n'\n",
      "      'branch points predicted for control 3\\' splice sites\\n'\n",
      "      'and random AG dinucleotides before 3\\' splice site: {:.1e}'.format(p))"
     ],
     "language": "python",
     "metadata": {},
     "outputs": [
      {
       "output_type": "stream",
       "stream": "stdout",
       "text": [
        "Mann Whitney U p-value for distance between\n",
        "predicted branch points for canonical junctions\n",
        "and cryptic 3' splice sites vs. distance from\n",
        "branch points predicted for control 3' splice sites\n",
        "and random AG dinucleotides before 3' splice site: 2.3e-08\n"
       ]
      }
     ],
     "prompt_number": 6
    },
    {
     "cell_type": "markdown",
     "metadata": {},
     "source": [
      "I mention in the paper that \"Consistent with this model, we observed that the distance between associated canonical 3\u2019SSs and their predicted BP\u2019s is significantly greater than the distance between control 3\u2019SSs and their BP\u2019s such that the cryptic 3\u2019SSs at the edge of the protected region do not compete with the canonical 3\u2019SS for splicing (p < 10-23, Mann Whitney U) (Fig. 3e,f).\"\n",
      "\n",
      "This is just comparing the two distributions in Fig. 3e and Fig. 3f. The calculation \n",
      "is shown below."
     ]
    },
    {
     "cell_type": "code",
     "collapsed": false,
     "input": [
      "p = mannwhitneyu(annot_single_bp.ss_dist, control_single_bp.ss_dist)[1]\n",
      "print('Mann Whitney U p-value for distance between\\n'\n",
      "      'predicted branchpoint and 3\\'SS for associated\\n'\n",
      "      'canonical junctions and control junctions\\n'\n",
      "      '(Figure 3e,f): {:.1e}').format(p)"
     ],
     "language": "python",
     "metadata": {},
     "outputs": [
      {
       "output_type": "stream",
       "stream": "stdout",
       "text": [
        "Mann Whitney U p-value for distance between\n",
        "predicted branchpoint and 3'SS for associated\n",
        "canonical junctions and control junctions\n",
        "(Figure 3e,f): 1.8e-24\n"
       ]
      }
     ],
     "prompt_number": 7
    },
    {
     "cell_type": "markdown",
     "metadata": {},
     "source": [
      "### Cryptic 3\u2019SSs are used infrequently relative to canonical 3\u2019SSs"
     ]
    },
    {
     "cell_type": "code",
     "collapsed": false,
     "input": [
      "dexseq_summary(cll_dexseq_results, 'CLL')"
     ],
     "language": "python",
     "metadata": {},
     "outputs": [
      {
       "output_type": "stream",
       "stream": "stdout",
       "text": [
        "Summary for CLL analysis\n",
        "\n",
        "154,980 Gencode junctions tested"
       ]
      },
      {
       "output_type": "stream",
       "stream": "stdout",
       "text": [
        "\n",
        "60,296 Gencode junctions tested\n",
        "10,662 significant\n",
        "2,635 significant novel\n",
        "1,476 significant novel acceptors\n",
        "754 crpytic acceptors used more often in the mutants\n",
        "330 proximal cryptic acceptors\n",
        "325 of 330 proximal cryptic acceptors used more in mutants\n",
        "67.9% proximal cryptic out of frame\n",
        "424 distal cryptic acceptors\n",
        "\n",
        "Enrichment analyses\n",
        "Novel junctions are enriched among significant junctions (Fisher exact, p = 3.9e-15)"
       ]
      },
      {
       "output_type": "stream",
       "stream": "stdout",
       "text": [
        "\n",
        "Novel 3'SSs are enriched among significant novel junctions (Fisher exact, p = 7.0e-52)"
       ]
      },
      {
       "output_type": "stream",
       "stream": "stdout",
       "text": [
        "\n"
       ]
      }
     ],
     "prompt_number": 8
    },
    {
     "cell_type": "markdown",
     "metadata": {},
     "source": [
      "Note that there are 325 proximal cryptic acceptors, but I only looked at \n",
      "324 for Figure 4 etc. This is because the associated canonical acceptor\n",
      "for this one cryptic acceptor had low coverage and was filtered out when\n",
      "I combined the `sj.out.tab` files."
     ]
    },
    {
     "cell_type": "code",
     "collapsed": false,
     "input": [
      "less_than = (cll_psi[meta[(meta.disease_abbr == 'CLL') & \n",
      "                          (meta.condition == 'MUT')].index].mean(axis=1) < 0.1).value_counts()[True]\n",
      "percent = float(less_than) / cll_psi.shape[0]\n",
      "print('{:.0%} of proximal cryptic splice sites in CLL analysis\\n'\n",
      "      'are used in less than 10% of transcripts in SF3B1 mutants'.format(percent))"
     ],
     "language": "python",
     "metadata": {},
     "outputs": [
      {
       "output_type": "stream",
       "stream": "stdout",
       "text": [
        "67% of proximal cryptic splice sites in CLL analysis\n",
        "are used in less than 10% of transcripts in SF3B1 mutants\n"
       ]
      }
     ],
     "prompt_number": 9
    },
    {
     "cell_type": "code",
     "collapsed": false,
     "input": [
      "less_than = (cll_psi[meta[(meta.disease_abbr == 'CLL') & \n",
      "                          (meta.condition == 'WT')].index].mean(axis=1) < 0.1).value_counts()[True]\n",
      "greater_than = (cll_psi[meta[(meta.disease_abbr == 'CLL') & \n",
      "                             (meta.condition == 'WT')].index].mean(axis=1) > 0.005).value_counts()[True]\n",
      "percent = float(less_than) / cll_psi.shape[0]\n",
      "print('{:.0%} of proximal cryptic splice sites in CLL analysis\\n'\n",
      "      'are used in less than 10% of transcripts in SF3B1 wild-types'.format(percent))\n",
      "percent = float(greater_than) / cll_psi.shape[0]\n",
      "print('{:.0%} of proximal cryptic splice sites in CLL analysis\\n'\n",
      "      'are used in more than 0.5% of transcripts in SF3B1 wild-types'.format(percent))"
     ],
     "language": "python",
     "metadata": {},
     "outputs": [
      {
       "output_type": "stream",
       "stream": "stdout",
       "text": [
        "97% of proximal cryptic splice sites in CLL analysis\n",
        "are used in less than 10% of transcripts in SF3B1 wild-types\n",
        "25% of proximal cryptic splice sites in CLL analysis\n",
        "are used in more than 0.5% of transcripts in SF3B1 wild-types\n"
       ]
      }
     ],
     "prompt_number": 10
    },
    {
     "cell_type": "code",
     "collapsed": false,
     "input": [
      "proximal_jxn_genes = set(brca_cll_um_dexseq_results.ix[proximal_jxns.index, 'gene_id'])\n",
      "sig = brca_cll_um_deseq2_results[brca_cll_um_deseq2_results.padj < ds.deseq2_p_cutoff]\n",
      "print('{:,} genes significantly differentially expressed'.format(sig.shape[0]))\n",
      "num = len(proximal_jxn_genes & set(sig.index))\n",
      "print('{:,} of {:,} genes with proximal cryptic junctions significantly differentially expressed'.format(num, len(proximal_jxn_genes)))\n",
      "num = len(proximal_jxn_genes & set(sig.index))\n",
      "num = (sig.ix[proximal_jxn_genes, 'log2FoldChange'].dropna() > 0).value_counts()[True]\n",
      "print('{:,} of these genes are expressed more highly in wild-type samples'.format(num))\n",
      "\n",
      "# Enrichment of genes with proximal cryptic acceptors among\n",
      "# differentially expressed genes\n",
      "num_prox_sig = len(proximal_jxn_genes & set(sig.index))\n",
      "num_prox_not_sig = len(proximal_jxn_genes - set(sig.index))\n",
      "num_not_prox_sig = sig.shape[0] - num_prox_sig\n",
      "num_not_prox_not_sig = brca_cll_um_deseq2_results[brca_cll_um_deseq2_results.padj >= ds.deseq2_p_cutoff].shape[0] - num_prox_not_sig\n",
      "p = fisher_exact([[num_prox_sig, num_prox_not_sig],\n",
      "                  [num_not_prox_sig, num_not_prox_not_sig]])[1]\n",
      "print('\\nGenes with proximal cryptic acceptors are enriched among differentially expressed '\n",
      "      'genes (Fisher exact, p = {:.1e}'.format(p))\n",
      "\n",
      "# Enrichment of significantly differentially expressed genes\n",
      "# with proximal cryptic acceptors among genes that are expressed\n",
      "# less in SF3B1 mutants\n",
      "prox_down_mut, prox_up_mut = (sig.ix[proximal_jxn_genes, 'log2FoldChange'].dropna() > 0).value_counts()\n",
      "not_prox_down_mut, not_prox_up_mut = (sig.log2FoldChange > 0).value_counts()\n",
      "not_prox_down_mut -= prox_down_mut\n",
      "not_prox_up_mut -= prox_up_mut\n",
      "p = fisher_exact([[prox_down_mut, prox_up_mut],\n",
      "                  [not_prox_down_mut, not_prox_up_mut]])[1]\n",
      "print('\\nGenes with proximal cryptic acceptors that are differentially expressed '\n",
      "      'are enriched among genes that are more lowly expresed in SF3B1 mutants '\n",
      "      '(Fisher exact, p = {}'.format(p))"
     ],
     "language": "python",
     "metadata": {},
     "outputs": [
      {
       "output_type": "stream",
       "stream": "stdout",
       "text": [
        "272 genes significantly differentially expressed\n",
        "33 of 582 genes with proximal cryptic junctions significantly differentially expressed\n",
        "29 of these genes are expressed more highly in wild-type samples\n",
        "\n",
        "Genes with proximal cryptic acceptors are enriched among differentially expressed genes (Fisher exact, p = 1.5e-09\n",
        "\n",
        "Genes with proximal cryptic acceptors that are differentially expressed are enriched among genes that are more lowly expresed in SF3B1 mutants (Fisher exact, p = 0.000904192190397\n"
       ]
      }
     ],
     "prompt_number": 11
    },
    {
     "cell_type": "code",
     "collapsed": false,
     "input": [
      "cll_muts = meta[(meta.condition == 'MUT') &\n",
      "                (meta.disease_abbr == 'CLL')].index\n",
      "cll_wts = meta[(meta.condition == 'WT') & \n",
      "               (meta.disease_abbr == 'CLL')].index\n",
      "\n",
      "n = sum(brca_dexseq_results.ix[psi_high.index, 'padjust'] < ds.dexseq_p_cutoff)\n",
      "print('Number of genes with high cryptic splicing that are significant in BRCA analysis: {:,}'.format(n))\n",
      "\n",
      "n = len(set(cll_dexseq_results.ix[psi_high.index, 'gene_id']) & \n",
      "        set(cll_deseq2_results[cll_deseq2_results.padj < ds.deseq2_p_cutoff].index))\n",
      "print('Number of genes with high cryptic splicing that are differentially expressed: {:,}'.format(n))"
     ],
     "language": "python",
     "metadata": {},
     "outputs": [
      {
       "output_type": "stream",
       "stream": "stdout",
       "text": [
        "Number of genes with high cryptic splicing that are significant in BRCA analysis: 9\n",
        "Number of genes with high cryptic splicing that are differentially expressed: 0"
       ]
      },
      {
       "output_type": "stream",
       "stream": "stdout",
       "text": [
        "\n"
       ]
      }
     ],
     "prompt_number": 12
    }
   ],
   "metadata": {}
  }
 ]
}