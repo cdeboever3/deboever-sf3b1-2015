{
 "metadata": {
  "name": "",
  "signature": "sha256:54fde8872d4e00baf443ab478cd2f4324c646f90c5ff310a12f6aa21d912f860"
 },
 "nbformat": 3,
 "nbformat_minor": 0,
 "worksheets": [
  {
   "cells": [
    {
     "cell_type": "markdown",
     "metadata": {},
     "source": [
      "# Numbers from paper"
     ]
    },
    {
     "cell_type": "code",
     "collapsed": false,
     "input": [
      "import pandas as pd\n",
      "from scipy.stats import fisher_exact\n",
      "from scipy.stats import mannwhitneyu\n",
      "\n",
      "import ds2014 as ds"
     ],
     "language": "python",
     "metadata": {},
     "outputs": [],
     "prompt_number": 1
    },
    {
     "cell_type": "code",
     "collapsed": false,
     "input": [
      "meta = pd.read_table(ds.metadata, index_col=0, header=0)\n",
      "\n",
      "brca_cll_um_dexseq_results = pd.read_table(ds.brca_cll_um_dexseq_results,\n",
      "                                           index_col=0, header=0)\n",
      "cll_dexseq_results = pd.read_table(ds.cll_dexseq_results,\n",
      "                                   index_col=0, header=0)\n",
      "\n",
      "cll_sj_counts = pd.read_table(ds.cll_sj_counts,\n",
      "                              index_col=0,\n",
      "                              header=0)\n",
      "\n",
      "annot_single_bp = pd.read_table(ds.annot_single_bp,\n",
      "                                index_col=0, header=0)\n",
      "control_single_bp = pd.read_table(ds.control_single_bp,\n",
      "                                  index_col=0, header=0)\n",
      "\n",
      "brca_cll_um_deseq2_results = pd.read_csv(ds.brca_cll_um_deseq2_results,\n",
      "                                         index_col=0, header=0)\n",
      "proximal_jxns = pd.read_table(ds.proximal_jxns,\n",
      "                              index_col=0, header=0)"
     ],
     "language": "python",
     "metadata": {},
     "outputs": [],
     "prompt_number": 5
    },
    {
     "cell_type": "markdown",
     "metadata": {},
     "source": [
      "## Abstract/Introduction\n",
      "\n",
      "Any of the numbers here are taken from the results so you can\n",
      "see them below in more context.\n",
      "\n",
      "## Results\n",
      "\n",
      "### SF3B1 mutation causes cryptic 3\u2019 splice site selection 10-30 bp upstream of canonical 3\u2019 splice sites"
     ]
    },
    {
     "cell_type": "code",
     "collapsed": false,
     "input": [
      "def dexseq_summary(df, name):\n",
      "    print('Summary for {} analysis'.format(name))\n",
      "    tested = df.ix[df.testable]\n",
      "    gencode, novel = tested.ext_annotated.value_counts()\n",
      "    print('{:,} Gencode junctions tested'.format(gencode))\n",
      "    print('{:,} Gencode junctions tested'.format(novel))\n",
      "    sig = tested[tested.padjust < ds.dexseq_p_cutoff]    \n",
      "    print('{:,} number significant'.format(sig.shape[0]))\n",
      "    novel_acceptor = sig.novel_acceptor.value_counts()[True]\n",
      "    print('{:,} novel acceptors'.format(novel_acceptor))\n",
      "    proximal = sig[(sig.downstream_acceptor_dist >= 10) & \n",
      "                   (sig.downstream_acceptor_dist <= 30)]\n",
      "    print('{:,} proximal cryptic acceptors'.format(proximal.shape[0]))\n",
      "    mut_up = (proximal['log2fold(MUT/WT)'] < 0).value_counts()[False]\n",
      "    print('{:,} of {:,} proximal cryptic acceptors used more in mutants'.format(mut_up, proximal.shape[0]))\n",
      "    out_of_frame = (proximal.downstream_acceptor_dist % 3 == 0).value_counts()[False] / float(proximal.shape[0])\n",
      "    print('{:,.1%} proximal cryptic out of frame'.format(out_of_frame))\n",
      "    distal = sig[(sig.downstream_acceptor_dist > 30) &\n",
      "                 (sig['log2fold(MUT/WT)'] > 0)]\n",
      "    print('{:,} distal cryptic acceptors'.format(distal.shape[0]))\n",
      "\n",
      "    \n",
      "dexseq_summary(brca_cll_um_dexseq_results, 'BRCA/CLL/UM')"
     ],
     "language": "python",
     "metadata": {},
     "outputs": [
      {
       "output_type": "stream",
       "stream": "stdout",
       "text": [
        "Summary for BRCA/CLL/UM analysis\n",
        "219,476 Gencode junctions tested"
       ]
      },
      {
       "output_type": "stream",
       "stream": "stdout",
       "text": [
        "\n",
        "87,941 Gencode junctions tested\n",
        "1,749 number significant\n",
        "1,117 novel acceptors\n",
        "619 proximal cryptic acceptors\n",
        "619 of 619 proximal cryptic acceptors used more in mutants\n",
        "58.0% proximal cryptic out of frame\n",
        "248 distal cryptic acceptors\n"
       ]
      }
     ],
     "prompt_number": 80
    },
    {
     "cell_type": "markdown",
     "metadata": {},
     "source": [
      "### Cryptic 3\u2019SSs are located ~13-17 bp downstream of the branch point"
     ]
    },
    {
     "cell_type": "code",
     "collapsed": false,
     "input": [
      "num_lines = sum(1 for line in open(ds.control_jxns))\n",
      "print('{:,} control junctions'.format(num_lines))\n",
      "num_lines = sum(1 for line in open(ds.annot_jxns))\n",
      "f = open(ds.annot_jxns)\n",
      "lines = f.readlines()\n",
      "f.close()\n",
      "print('{:,} associated junctions'.format(len(lines)))\n",
      "print('{:,} unique associated junctions'.format(len(set(lines))))\n",
      "num_lines = sum(1 for line in open(ds.proximal_jxns))\n",
      "print('{:,} proximal junctions'.format(num_lines))\n",
      "num_lines = sum(1 for line in open(ds.distal_jxns))\n",
      "print('{:,} distal junctions'.format(num_lines))"
     ],
     "language": "python",
     "metadata": {},
     "outputs": [
      {
       "output_type": "stream",
       "stream": "stdout",
       "text": [
        "23,066 control junctions\n",
        "619 associated junctions\n",
        "614 unique associated junctions\n",
        "619 proximal junctions\n",
        "248 distal junctions\n"
       ]
      }
     ],
     "prompt_number": 82
    },
    {
     "cell_type": "markdown",
     "metadata": {},
     "source": [
      "### Proposed mechanism of cryptic 3\u2019SS selection\n",
      "\n",
      "I mention in the paper that \"Consistent with this model, we observed that the distance between associated canonical 3\u2019SSs and their predicted BP\u2019s is significantly greater than the distance between control 3\u2019SSs and their BP\u2019s such that the cryptic 3\u2019SSs at the edge of the protected region do not compete with the canonical 3\u2019SS for splicing (p < 10-23, Mann Whitney U) (Fig. 3e,f).\"\n",
      "\n",
      "This is just comparing the two distributions in Fig. 3e and Fig. 3f. The calculation \n",
      "is shown below."
     ]
    },
    {
     "cell_type": "code",
     "collapsed": false,
     "input": [
      "p = mannwhitneyu(annot_single_bp.ss_dist, control_single_bp.ss_dist)[1]\n",
      "print('Mann Whitney U p-value for distance between\\n'\n",
      "      'predicted branchpoint and 3\\'SS for associated\\n'\n",
      "      'canonical junctions and control junctions\\n'\n",
      "      '(Figure 3e,f): {:.1e}').format(p)"
     ],
     "language": "python",
     "metadata": {},
     "outputs": [
      {
       "output_type": "stream",
       "stream": "stdout",
       "text": [
        "Mann Whitney U p-value for distance between\n",
        "predicted branchpoint and 3'SS for associated\n",
        "canonical junctions and control junctions\n",
        "(Figure 3e,f): 1.8e-24\n"
       ]
      }
     ],
     "prompt_number": 94
    },
    {
     "cell_type": "markdown",
     "metadata": {},
     "source": [
      "### Cryptic 3\u2019SSs are used infrequently relative to canonical 3\u2019SSs"
     ]
    },
    {
     "cell_type": "code",
     "collapsed": false,
     "input": [
      "dexseq_summary(cll_dexseq_results, 'CLL')"
     ],
     "language": "python",
     "metadata": {},
     "outputs": [
      {
       "output_type": "stream",
       "stream": "stdout",
       "text": [
        "Summary for CLL analysis\n",
        "154,980 Gencode junctions tested"
       ]
      },
      {
       "output_type": "stream",
       "stream": "stdout",
       "text": [
        "\n",
        "60,296 Gencode junctions tested\n",
        "10,662 number significant\n",
        "1,476 novel acceptors\n",
        "330 proximal cryptic acceptors\n",
        "325 of 330 proximal cryptic acceptors used more in mutants\n",
        "67.9% proximal cryptic out of frame\n",
        "258 distal cryptic acceptors\n"
       ]
      }
     ],
     "prompt_number": 98
    },
    {
     "cell_type": "markdown",
     "metadata": {},
     "source": [
      "Note that there are 325 proximal cryptic acceptors, but I only looked at \n",
      "324 for Figure 4 etc. This is because the associated canonical acceptor\n",
      "for this one cryptic acceptor had low coverage and was filtered out when\n",
      "I combined the `sj.out.tab` files."
     ]
    },
    {
     "cell_type": "code",
     "collapsed": false,
     "input": [
      "def get_annotated_jxn(row):\n",
      "    \"\"\"\n",
      "    Define the downstream annotated junction for a \n",
      "    junction with a novel acceptor using a row\n",
      "    from the results table\n",
      "    \"\"\"\n",
      "    if row['strand'] == '+':        \n",
      "        return '{}:{}-{}:{}'.format(row['chrom'], \n",
      "                                    row['start'],\n",
      "                                    row['end'] + int(row['downstream_acceptor_dist']),\n",
      "                                    row['strand'])\n",
      "    if row['strand'] == '-':\n",
      "        return '{}:{}-{}:{}'.format(row['chrom'], \n",
      "                                    row['start'] - int(row['downstream_acceptor_dist']),\n",
      "                                    row['end'],\n",
      "                                    row['strand'])\n",
      "    \n",
      "def psi_df(results, counts):\n",
      "    df = results[(results.padjust < ds.dexseq_p_cutoff) &\n",
      "                 (results.downstream_acceptor_dist <= 30) &\n",
      "                 (results.downstream_acceptor_dist >= 10) &\n",
      "                 (results['log2fold(MUT/WT)'] > 0)]\n",
      "\n",
      "    annot_jxns = pd.Series(results.ix[df.index].apply(lambda x: get_annotated_jxn(x), axis=1))\n",
      "    psi = counts.ix[annot_jxns.index].values / (counts.ix[annot_jxns.index].values + \n",
      "                                                counts.ix[annot_jxns.values].values)\n",
      "    psi = pd.DataFrame(psi, index=annot_jxns.index,\n",
      "                       columns=counts.columns)\n",
      "    psi = psi.dropna(how='all')\n",
      "    psi = psi.replace(np.nan, 0)\n",
      "    psi_log = log10((psi + psi.replace(0, psi.max().max() + 1).min().min()).T)\n",
      "    return psi\n",
      "\n",
      "cll_psi = psi_df(cll_dexseq_results, cll_sj_counts)"
     ],
     "language": "python",
     "metadata": {},
     "outputs": [],
     "prompt_number": 117
    },
    {
     "cell_type": "code",
     "collapsed": false,
     "input": [
      "less_than = (cll_psi[meta[(meta.disease_abbr == 'CLL') & \n",
      "                          (meta.condition == 'MUT')].index].mean(axis=1) < 0.1).value_counts()[True]\n",
      "percent = float(less_than) / cll_psi.shape[0]\n",
      "print('{:.0%} of proximal cryptic splice sites in CLL analysis\\n'\n",
      "      'are used in less than 10% of transcripts in SF3B1 mutants'.format(percent))"
     ],
     "language": "python",
     "metadata": {},
     "outputs": [
      {
       "output_type": "stream",
       "stream": "stdout",
       "text": [
        "67% of proximal cryptic splice sites in CLL analysis\n",
        "are used in less than 10% of transcripts in SF3B1 mutants\n"
       ]
      }
     ],
     "prompt_number": 141
    },
    {
     "cell_type": "code",
     "collapsed": false,
     "input": [
      "less_than = (cll_psi[meta[(meta.disease_abbr == 'CLL') & \n",
      "                          (meta.condition == 'WT')].index].mean(axis=1) < 0.1).value_counts()[True]\n",
      "greater_than = (cll_psi[meta[(meta.disease_abbr == 'CLL') & \n",
      "                             (meta.condition == 'WT')].index].mean(axis=1) > 0.005).value_counts()[True]\n",
      "percent = float(less_than) / cll_psi.shape[0]\n",
      "print('{:.0%} of proximal cryptic splice sites in CLL analysis\\n'\n",
      "      'are used in less than 10% of transcripts in SF3B1 wild-types'.format(percent))\n",
      "percent = float(greater_than) / cll_psi.shape[0]\n",
      "print('{:.0%} of proximal cryptic splice sites in CLL analysis\\n'\n",
      "      'are used in more than 0.5% of transcripts in SF3B1 wild-types'.format(percent))"
     ],
     "language": "python",
     "metadata": {},
     "outputs": [
      {
       "output_type": "stream",
       "stream": "stdout",
       "text": [
        "97% of proximal cryptic splice sites in CLL analysis\n",
        "are used in less than 10% of transcripts in SF3B1 wild-types\n",
        "25% of proximal cryptic splice sites in CLL analysis\n",
        "are used in more than 0.5% of transcripts in SF3B1 wild-types\n"
       ]
      }
     ],
     "prompt_number": 142
    },
    {
     "cell_type": "code",
     "collapsed": false,
     "input": [
      "proximal_jxn_genes = set(brca_cll_um_dexseq_results.ix[proximal_jxns.index, 'gene_id'])\n",
      "sig = brca_cll_um_deseq2_results[brca_cll_um_deseq2_results.padj < ds.deseq2_p_cutoff]\n",
      "print('{:,} genes significantly differentially expressed'.format(sig.shape[0]))\n",
      "num = len(proximal_jxn_genes & set(sig.index))\n",
      "print('{:,} of {:,} genes with proximal cryptic junctions significantly differentially expressed'.format(num, len(proximal_jxn_genes)))\n",
      "num = len(proximal_jxn_genes & set(sig.index))\n",
      "num = (sig.ix[proximal_jxn_genes, 'log2FoldChange'].dropna() > 0).value_counts()[True]\n",
      "print('{:,} of these genes are expressed more highly in wild-type samples'.format(num))\n",
      "\n",
      "# Enrichment of genes with proximal cryptic acceptors among\n",
      "# differentially expressed genes\n",
      "num_prox_sig = len(proximal_jxn_genes & set(sig.index))\n",
      "num_prox_not_sig = len(proximal_jxn_genes - set(sig.index))\n",
      "num_not_prox_sig = sig.shape[0] - num_prox_sig\n",
      "num_not_prox_not_sig = brca_cll_um_deseq2_results[brca_cll_um_deseq2_results.padj >= ds.deseq2_p_cutoff].shape[0] - num_prox_not_sig\n",
      "p = fisher_exact([[num_prox_sig, num_prox_not_sig],\n",
      "                  [num_not_prox_sig, num_not_prox_not_sig]])[1]\n",
      "print('\\nGenes with proximal cryptic acceptors are enriched among differentially expressed '\n",
      "      'genes (Fisher exact, p = {:.1e}'.format(p))\n",
      "\n",
      "# Enrichment of significantly differentially expressed genes\n",
      "# with proximal cryptic acceptors among genes that are expressed\n",
      "# less in SF3B1 mutants\n",
      "prox_down_mut, prox_up_mut = (sig.ix[proximal_jxn_genes, 'log2FoldChange'].dropna() > 0).value_counts()\n",
      "not_prox_down_mut, not_prox_up_mut = (sig.log2FoldChange > 0).value_counts()\n",
      "not_prox_down_mut -= prox_down_mut\n",
      "not_prox_up_mut -= prox_up_mut\n",
      "p = fisher_exact([[prox_down_mut, prox_up_mut],\n",
      "                  [not_prox_down_mut, not_prox_up_mut]])[1]\n",
      "print('\\nGenes with proximal cryptic acceptors that are differentially expressed '\n",
      "      'are enriched among genes that are more lowly expresed in SF3B1 mutants '\n",
      "      '(Fisher exact, p = {:.1e}'.format(p))"
     ],
     "language": "python",
     "metadata": {},
     "outputs": [
      {
       "output_type": "stream",
       "stream": "stdout",
       "text": [
        "272 genes significantly differentially expressed\n",
        "33 of 582 genes with proximal cryptic junctions significantly differentially expressed\n",
        "29 of these genes are expressed more highly in wild-type samples\n",
        "\n",
        "Genes with proximal cryptic acceptors are enriched among differentially expressed genes (Fisher exact, p = 1.5e-09\n",
        "\n",
        "Genes with proximal cryptic acceptors that are differentially expressed are enriched among genes that are more lowly expresed in SF3B1 mutants (Fisher exact, p = 9.0e-04\n"
       ]
      }
     ],
     "prompt_number": 61
    },
    {
     "cell_type": "code",
     "collapsed": false,
     "input": [],
     "language": "python",
     "metadata": {},
     "outputs": []
    }
   ],
   "metadata": {}
  }
 ]
}