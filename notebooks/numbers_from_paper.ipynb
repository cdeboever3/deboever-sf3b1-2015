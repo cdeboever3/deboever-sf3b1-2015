{
 "metadata": {
  "name": "",
  "signature": "sha256:3da6169b584ae2eadb5b2f79826529c0d9bd2b76099c98a75c49f5368abf0a4a"
 },
 "nbformat": 3,
 "nbformat_minor": 0,
 "worksheets": [
  {
   "cells": [
    {
     "cell_type": "markdown",
     "metadata": {},
     "source": [
      "# Numbers from paper"
     ]
    },
    {
     "cell_type": "code",
     "collapsed": false,
     "input": [
      "import pandas as pd\n",
      "\n",
      "import ds2014 as ds"
     ],
     "language": "python",
     "metadata": {},
     "outputs": [],
     "prompt_number": 1
    },
    {
     "cell_type": "code",
     "collapsed": false,
     "input": [
      "brca_cll_um_dexseq_results = pd.read_table(ds.brca_cll_um_dexseq_results,\n",
      "                                           index_col=0, header=0)"
     ],
     "language": "python",
     "metadata": {},
     "outputs": [],
     "prompt_number": 2
    },
    {
     "cell_type": "markdown",
     "metadata": {},
     "source": [
      "## Results"
     ]
    },
    {
     "cell_type": "code",
     "collapsed": false,
     "input": [
      "def dexseq_summary(df, name):\n",
      "    print('Summary for {} analysis'.format(name))\n",
      "    tested = df.ix[df.testable]\n",
      "    gencode, novel = tested.ext_annotated.value_counts()\n",
      "    print('{:,} Gencode junctions tested'.format(gencode))\n",
      "    print('{:,} Gencode junctions tested'.format(novel))\n",
      "    sig = tested[tested.padjust < ds.dexseq_p_cutoff]    \n",
      "    print('{:,} number significant'.format(sig.shape[0]))\n",
      "    novel_acceptor = sig.novel_acceptor.value_counts()[True]\n",
      "    print('{:,} novel acceptors'.format(novel_acceptor))\n",
      "    proximal = sig[(sig.downstream_acceptor_dist >= 10) & \n",
      "                   (sig.downstream_acceptor_dist <= 30)]\n",
      "    print('{:,} proximal cryptic acceptors'.format(proximal.shape[0]))\n",
      "    mut_up = (proximal['log2fold(MUT/WT)'] < 0).value_counts()[False]\n",
      "    print('{:,} of {:,} proximal cryptic acceptors used more in mutants'.format(mut_up, proximal.shape[0]))\n",
      "    out_of_frame = (proximal.downstream_acceptor_dist % 3 == 0).value_counts()[False] / float(proximal.shape[0])\n",
      "    print('{:,.1%} proximal cryptic out of frame'.format(out_of_frame))\n",
      "    distal = sig[(sig.downstream_acceptor_dist > 30) &\n",
      "                 (sig['log2fold(MUT/WT)'] > 0)]\n",
      "    print('{:,} distal cryptic acceptors'.format(distal.shape[0]))\n",
      "\n",
      "    \n",
      "dexseq_summary(brca_cll_um_dexseq_results, 'BRCA/CLL/UM')"
     ],
     "language": "python",
     "metadata": {},
     "outputs": [
      {
       "output_type": "stream",
       "stream": "stdout",
       "text": [
        "Summary for BRCA/CLL/UM analysis\n",
        "219,476 Gencode junctions tested"
       ]
      },
      {
       "output_type": "stream",
       "stream": "stdout",
       "text": [
        "\n",
        "87,941 Gencode junctions tested\n",
        "1,749 number significant\n",
        "1,117 novel acceptors\n",
        "619 proximal cryptic acceptors\n",
        "619 of 619 proximal cryptic acceptors used more in mutants\n",
        "58.0% proximal cryptic out of frame\n",
        "248 distal cryptic acceptors\n"
       ]
      }
     ],
     "prompt_number": 80
    },
    {
     "cell_type": "code",
     "collapsed": false,
     "input": [
      "num_lines = sum(1 for line in open(ds.control_jxns))\n",
      "print('{:,} control junctions'.format(num_lines))\n",
      "num_lines = sum(1 for line in open(ds.annot_jxns))\n",
      "f = open(ds.annot_jxns)\n",
      "lines = f.readlines()\n",
      "f.close()\n",
      "print('{:,} associated junctions'.format(len(lines)))\n",
      "print('{:,} unique associated junctions'.format(len(set(lines))))\n",
      "num_lines = sum(1 for line in open(ds.proximal_jxns))\n",
      "print('{:,} proximal junctions'.format(num_lines))\n",
      "num_lines = sum(1 for line in open(ds.distal_jxns))\n",
      "print('{:,} distal junctions'.format(num_lines))"
     ],
     "language": "python",
     "metadata": {},
     "outputs": [
      {
       "output_type": "stream",
       "stream": "stdout",
       "text": [
        "23,066 control junctions\n",
        "619 associated junctions\n",
        "614 unique associated junctions\n",
        "619 proximal junctions\n",
        "248 distal junctions\n"
       ]
      }
     ],
     "prompt_number": 82
    },
    {
     "cell_type": "code",
     "collapsed": false,
     "input": [],
     "language": "python",
     "metadata": {},
     "outputs": []
    }
   ],
   "metadata": {}
  }
 ]
}