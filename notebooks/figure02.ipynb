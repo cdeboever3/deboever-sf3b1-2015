{
 "metadata": {
  "name": "",
  "signature": "sha256:9ae05fd7dd6ddb0749e2963473c407b389bc9b6e6263d8b1cf397040da3b1c56"
 },
 "nbformat": 3,
 "nbformat_minor": 0,
 "worksheets": [
  {
   "cells": [
    {
     "cell_type": "markdown",
     "metadata": {},
     "source": [
      "# Figure 2\n",
      "\n",
      "I'm going to plot the nucleotide frequency of the \n",
      "last 50 bp of the intron for TODO."
     ]
    },
    {
     "cell_type": "code",
     "collapsed": false,
     "input": [
      "import os\n",
      "\n",
      "import ds2014 as ds\n",
      "from scipy.stats import fisher_exact\n",
      "import matplotlib.gridspec as gridspec\n",
      "import matplotlib.pyplot as plt\n",
      "import pandas as pd\n",
      "import weblogolib as logo"
     ],
     "language": "python",
     "metadata": {},
     "outputs": [],
     "prompt_number": 1
    },
    {
     "cell_type": "code",
     "collapsed": false,
     "input": [
      "rcParams.update({'font.size': 7})\n",
      "rcParams['ps.usedistiller'] = 'xpdf'\n",
      "matplotlib.rc('font',**{'family':'sans-serif','sans-serif':['Arial']})\n",
      "#matplotlib.rc('text', usetex=True)"
     ],
     "language": "python",
     "metadata": {},
     "outputs": [],
     "prompt_number": 2
    },
    {
     "cell_type": "code",
     "collapsed": false,
     "input": [
      "curdir = os.getcwd()\n",
      "outdir = os.path.join(os.path.split(curdir)[0], \n",
      "                      'output', \n",
      "                      'figure02')\n",
      "ds.makedir(outdir)"
     ],
     "language": "python",
     "metadata": {},
     "outputs": [],
     "prompt_number": 3
    },
    {
     "cell_type": "code",
     "collapsed": false,
     "input": [
      "def plot_weblogo(fn, fout):\n",
      "    \"\"\"Make nucleotide frequency plot for fasta file fn\"\"\"\n",
      "    f = open(fn, 'r')\n",
      "    seqs = logo.read_seq_data(f)\n",
      "    data = logo.LogoData.from_seqs(seqs)\n",
      "    options = logo.LogoOptions()\n",
      "    options.fineprint = ''\n",
      "    options.unit_name = 'probability'\n",
      "    #options.logo_title = 'Novel 50 bp upstream of 3\\' SS'\n",
      "    options.logo_title = ''\n",
      "    options.first_index = -50\n",
      "    options.stacks_per_line = 50\n",
      "    options.color_scheme = logo.ColorScheme([logo.ColorGroup(\"TCU\", \"orange\"), \n",
      "                                             logo.ColorGroup(\"AG\", \"blue\")])\n",
      "    logo_format = logo.LogoFormat(data, options)\n",
      "    fout = open(fout, 'w')\n",
      "    #fout.write(logo.png_print_formatter(data, logo_format))\n",
      "    fout.write(logo.pdf_formatter(data, logo_format))\n",
      "    fout.close()"
     ],
     "language": "python",
     "metadata": {},
     "outputs": [],
     "prompt_number": 4
    },
    {
     "cell_type": "raw",
     "metadata": {},
     "source": [
      "import Image"
     ]
    },
    {
     "cell_type": "raw",
     "metadata": {},
     "source": [
      "img = Image.open('test.png')    # Open image as PIL image object\n",
      "fig, ax = plt.subplots(1, figsize=(4867 * (1. / 72), 617 * (1. / 72)))\n",
      "ax.imshow(img)\n",
      "ds.clean_axis(ax)\n",
      "#fig.savefig('test.pdf')"
     ]
    },
    {
     "cell_type": "raw",
     "metadata": {},
     "source": [
      "img = Image.open('test.png')    # Open image as PIL image object\n",
      "fig, ax = plt.subplots(1, figsize=(4867 * (1. / 288), 617 * (1. / 288)))\n",
      "ax.imshow(img, interpolation='bicubic')\n",
      "ds.clean_axis(ax)\n",
      "#fig.savefig('test.pdf')"
     ]
    },
    {
     "cell_type": "raw",
     "metadata": {},
     "source": [
      "import Image\n",
      "img = Image.open('test.png')\n",
      "rsize = img.resize((img.size[0] / 2, img.size[1] / 2),\n",
      "                   Image.ANTIALIAS)\n",
      "rsizeArr = np.asarray(rsize)\n",
      "imgplot = plt.imshow(rsizeArr)\n"
     ]
    },
    {
     "cell_type": "code",
     "collapsed": false,
     "input": [
      "def read_fasta(fn):\n",
      "    f = open(fn, 'r')\n",
      "    lines = [ list(x.upper().strip()) for x in f.readlines() ][1::2]\n",
      "    f.close()\n",
      "    df = pd.DataFrame(lines)\n",
      "    df = df.apply(lambda x: x.value_counts()).replace(np.nan, 0).T    \n",
      "    return df\n",
      "\n",
      "def adenine_enrichment(fn, fn2):\n",
      "    \"\"\"\n",
      "    Calculate p-value for enrichment of adenines \n",
      "    at each position for two fasta files using Fisher\n",
      "    exact test\n",
      "    \"\"\"\n",
      "    df = read_fasta(fn)\n",
      "    df2 = read_fasta(fn2)\n",
      "    pvals = []\n",
      "    for i in range(df.shape[0]):\n",
      "        odds, pvalue = fisher_exact([[df.ix[i, 'A'], df.ix[i, ['T', 'C', 'G']].sum()],\n",
      "                                     [df2.ix[i, 'A'], df2.ix[i, ['T', 'C', 'G']].sum()]])\n",
      "        pvals.append(pvalue)\n",
      "    return pvals"
     ],
     "language": "python",
     "metadata": {},
     "outputs": [],
     "prompt_number": 5
    },
    {
     "cell_type": "code",
     "collapsed": false,
     "input": [
      "import brewer2mpl"
     ],
     "language": "python",
     "metadata": {},
     "outputs": [],
     "prompt_number": 16
    },
    {
     "cell_type": "code",
     "collapsed": false,
     "input": [
      "set1 = brewer2mpl.get_map('Set1', 'Qualitative', 9)"
     ],
     "language": "python",
     "metadata": {},
     "outputs": [],
     "prompt_number": 17
    },
    {
     "cell_type": "code",
     "collapsed": false,
     "input": [
      "mut_color = set1.mpl_colors[0]\n",
      "wt_color = set1.mpl_colors[1]"
     ],
     "language": "python",
     "metadata": {},
     "outputs": []
    },
    {
     "cell_type": "code",
     "collapsed": false,
     "input": [
      "df = read_fasta(ds.proximal_intron_seq)"
     ],
     "language": "python",
     "metadata": {},
     "outputs": []
    },
    {
     "cell_type": "code",
     "collapsed": false,
     "input": [
      "fig, ax = plt.subplots()\n",
      "bottom = df['A'] * 0\n",
      "colors = set1.mpl_colors[0:4]\n",
      "for i,base in enumerate(['A', 'C', 'G', 'T']):\n",
      "    ax.bar(arange(df.shape[0]), df[base],\n",
      "           alpha=0.5, bottom=bottom, color=colors[i])\n",
      "    bottom += df[base]"
     ],
     "language": "python",
     "metadata": {},
     "outputs": [
      {
       "metadata": {},
       "output_type": "display_data",
       "png": "[encoded data removed]",
       "text": [
        "<matplotlib.figure.Figure at 0x10a0c3490>"
       ]
      }
     ],
     "prompt_number": 18
    },
    {
     "cell_type": "code",
     "collapsed": false,
     "input": [
      "?plt.plot"
     ],
     "language": "python",
     "metadata": {},
     "outputs": [],
     "prompt_number": 92
    },
    {
     "cell_type": "code",
     "collapsed": false,
     "input": [
      "fig, axs = plt.subplots(6, figsize=(6, 3.5))\n",
      "\n",
      "ax = axs[0]\n",
      "ds.clean_axis(ax)\n",
      "\n",
      "ax = axs[1]\n",
      "ds.clean_axis(ax)\n",
      "\n",
      "ax = axs[2]\n",
      "ds.clean_axis(ax)\n",
      "\n",
      "ax = axs[3]\n",
      "ds.clean_axis(ax)\n",
      "pvals = adenine_enrichment(ds.annot_intron_seq, ds.control_intron_seq)\n",
      "lines = ax.plot(-log10(pvals), 'k')\n",
      "ax.hlines(-log10(0.5),0,50)\n",
      "ylabel = ax.set_ylabel('$-\\log_{10}$ p-value')\n",
      "\n",
      "ax = axs[4]\n",
      "ds.clean_axis(ax)\n",
      "\n",
      "ax = axs[5]\n",
      "ds.clean_axis(ax)\n",
      "pvals = adenine_enrichment(ds.proximal_intron_seq, ds.control_intron_seq)\n",
      "lines = ax.plot(-log10(pvals), 'k')\n",
      "ax.hlines(-log10(0.5),0,50)\n",
      "ylabel = ax.set_ylabel('$-\\log_{10}$ p-value')"
     ],
     "language": "python",
     "metadata": {},
     "outputs": [
      {
       "metadata": {},
       "output_type": "display_data",
       "png": "[encoded data removed]",
       "text": [
        "<matplotlib.figure.Figure at 0x10aa02950>"
       ]
      }
     ],
     "prompt_number": 94
    },
    {
     "cell_type": "code",
     "collapsed": false,
     "input": [],
     "language": "python",
     "metadata": {},
     "outputs": []
    }
   ],
   "metadata": {}
  }
 ]
}