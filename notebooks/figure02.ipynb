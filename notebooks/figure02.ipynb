{
 "metadata": {
  "name": "",
  "signature": "sha256:5abae989c26a0f9e9eccabd4a2d21e182ff9a43ae62cc4c07b3a90faf3035759"
 },
 "nbformat": 3,
 "nbformat_minor": 0,
 "worksheets": [
  {
   "cells": [
    {
     "cell_type": "markdown",
     "metadata": {},
     "source": [
      "# Figure 2\n",
      "\n",
      "I'm going to plot the nucleotide frequency of the \n",
      "last 50 bp of the intron for TODO."
     ]
    },
    {
     "cell_type": "code",
     "collapsed": false,
     "input": [
      "import os\n",
      "\n",
      "import ds2014 as ds\n",
      "from scipy.stats import fisher_exact\n",
      "\n",
      "import matplotlib.gridspec as gridspec\n",
      "import matplotlib.pyplot as plt\n",
      "import pandas as pd\n",
      "import weblogolib as logo"
     ],
     "language": "python",
     "metadata": {},
     "outputs": [],
     "prompt_number": 1
    },
    {
     "cell_type": "code",
     "collapsed": false,
     "input": [
      "rcParams.update({'font.size': 7})\n",
      "rcParams['ps.usedistiller'] = 'xpdf'\n",
      "matplotlib.rc('font',**{'family':'sans-serif','sans-serif':['Arial']})\n",
      "#matplotlib.rc('text', usetex=True)"
     ],
     "language": "python",
     "metadata": {},
     "outputs": [],
     "prompt_number": 2
    },
    {
     "cell_type": "code",
     "collapsed": false,
     "input": [
      "curdir = os.getcwd()\n",
      "outdir = os.path.join(os.path.split(curdir)[0], \n",
      "                      'output', \n",
      "                      'figure02')\n",
      "ds.makedir(outdir)"
     ],
     "language": "python",
     "metadata": {},
     "outputs": [],
     "prompt_number": 3
    },
    {
     "cell_type": "code",
     "collapsed": false,
     "input": [
      "def plot_weblogo(fn, fout):\n",
      "    \"\"\"Make nucleotide frequency plot for fasta file fn\"\"\"\n",
      "    f = open(fn, 'r')\n",
      "    seqs = logo.read_seq_data(f)\n",
      "    data = logo.LogoData.from_seqs(seqs)\n",
      "    options = logo.LogoOptions()\n",
      "    options.fineprint = ''\n",
      "    options.unit_name = 'probability'\n",
      "    options.logo_title = ''\n",
      "    options.first_index = -50\n",
      "    options.stacks_per_line = 50\n",
      "    options.color_scheme = logo.ColorScheme([logo.ColorGroup(\"TCU\", \"orange\"), \n",
      "                                             logo.ColorGroup(\"AG\", \"blue\")])\n",
      "    options.show_xaxis = False\n",
      "    options.show_yaxis = False\n",
      "    logo_format = logo.LogoFormat(data, options)\n",
      "    fout = open(fout, 'w')\n",
      "    fout.write(logo.png_print_formatter(data, logo_format))\n",
      "    #fout.write(logo.pdf_formatter(data, logo_format))\n",
      "    fout.close()"
     ],
     "language": "python",
     "metadata": {},
     "outputs": [],
     "prompt_number": 4
    },
    {
     "cell_type": "code",
     "collapsed": false,
     "input": [
      "for thing in [ds.proximal_intron_seq, \n",
      "              ds.annot_intron_seq, \n",
      "              ds.control_intron_seq,\n",
      "              ds.not_proximal_intron_seq]:\n",
      "\n",
      "    fn = os.path.join(ds.root, 'output',\n",
      "                      'figure02',\n",
      "                      thing)\n",
      "    fout = os.path.join(outdir, \n",
      "                        os.path.split(thing)[1][0:-3] + '.png')\n",
      "    plot_weblogo(thing, fout)\n",
      "    num_lines = sum(1 for line in open(thing))\n",
      "    print('{:,} junctions in {}'.format(num_lines / 2, os.path.split(thing)[1]))"
     ],
     "language": "python",
     "metadata": {},
     "outputs": [
      {
       "output_type": "stream",
       "stream": "stdout",
       "text": [
        "619 junctions in proximal_intron_seq.fa\n",
        "613 junctions in annot_intron_seq.fa"
       ]
      },
      {
       "output_type": "stream",
       "stream": "stdout",
       "text": [
        "\n",
        "23,066 junctions in control_intron_seq.fa"
       ]
      },
      {
       "output_type": "stream",
       "stream": "stdout",
       "text": [
        "\n",
        "417 junctions in not_proximal_intron_seq.fa"
       ]
      },
      {
       "output_type": "stream",
       "stream": "stdout",
       "text": [
        "\n"
       ]
      }
     ],
     "prompt_number": 5
    },
    {
     "cell_type": "code",
     "collapsed": false,
     "input": [
      "def read_fasta(fn):\n",
      "    f = open(fn, 'r')\n",
      "    lines = [ list(x.upper().strip()) for x in f.readlines() ][1::2]\n",
      "    f.close()\n",
      "    df = pd.DataFrame(lines)\n",
      "    df = df.apply(lambda x: x.value_counts()).replace(np.nan, 0).T    \n",
      "    return df\n",
      "\n",
      "def adenine_enrichment(fn, fn2):\n",
      "    \"\"\"\n",
      "    Calculate p-value for enrichment of adenines \n",
      "    at each position for two fasta files using Fisher\n",
      "    exact test\n",
      "    \"\"\"\n",
      "    df = read_fasta(fn)\n",
      "    df2 = read_fasta(fn2)\n",
      "    pvals = []\n",
      "    for i in range(df.shape[0]):\n",
      "        odds, pvalue = fisher_exact([[df.ix[i, 'A'], df.ix[i, ['T', 'C', 'G']].sum()],\n",
      "                                     [df2.ix[i, 'A'], df2.ix[i, ['T', 'C', 'G']].sum()]])\n",
      "        pvals.append(pvalue)\n",
      "    return pvals"
     ],
     "language": "python",
     "metadata": {},
     "outputs": [],
     "prompt_number": 6
    },
    {
     "cell_type": "code",
     "collapsed": false,
     "input": [
      "def plot_pvals(test, control):\n",
      "    pvals = adenine_enrichment(test, control)\n",
      "    b = ax.bar(arange(len(pvals)) + 0.1, \n",
      "               -log10(pvals),\n",
      "               width=0.80, color='grey',\n",
      "               lw=0, alpha=0.5)\n",
      "    ax.hlines(-log10(0.05), 0, 50, alpha=0.5, lw=0.5)\n",
      "    for l in ax.get_xticklines() + ax.get_yticklines():\n",
      "        l.set_markersize(0)\n",
      "    x = argmin(pvals)\n",
      "    y = -log10(min(pvals))\n",
      "    ax.text(x, y, '$-log_{10}$' + '{:.1e}'.format(min(pvals)),\n",
      "            fontsize=6, va='center', ha='right')\n",
      "    ds.clean_axis(ax)\n",
      "    return ax\n",
      "\n",
      "def plot_nums(ax):\n",
      "    ds.clean_axis(ax)\n",
      "    xlimits = ax.set_xlim(-50, 1)\n",
      "    xt = ax.set_xticks(arange(0, 50, 5) + 0.5)\n",
      "    ax.set_xticklabels(arange(-50, 0, 5))\n",
      "    ax.set_xlim(0, 50)\n",
      "    ax.tick_params(axis='x', direction='out')\n",
      "    ax.spines['bottom'].set_visible(True)\n",
      "    ax.xaxis.tick_bottom()\n",
      "    return ax\n",
      "\n",
      "fig = plt.figure(figsize=(3, 5.5), dpi=600)\n",
      "\n",
      "pw = 0.07\n",
      "bw = 0.05\n",
      "gs = gridspec.GridSpec(13, 1,\n",
      "                       height_ratios=[0.03, 0.28, pw, bw, pw, pw, bw,\n",
      "                                      pw, pw, bw, pw, pw, bw],\n",
      "                       hspace=0, wspace=0)\n",
      "\n",
      "t = fig.text(0.005, 0.935, 'a', weight='bold', \n",
      "             size=ds.subfigure_label_fontsize)\n",
      "t = fig.text(0.005, 0.66, \n",
      "             'b', weight='bold', \n",
      "             size=ds.subfigure_label_fontsize)\n",
      "t = fig.text(0.005, 0.565,\n",
      "             'c', weight='bold', \n",
      "             size=ds.subfigure_label_fontsize)\n",
      "t = fig.text(0.005, 0.375,\n",
      "             'd', weight='bold', \n",
      "             size=ds.subfigure_label_fontsize)\n",
      "t = fig.text(0.005, 0.2,\n",
      "             'e', weight='bold', \n",
      "             size=ds.subfigure_label_fontsize)\n",
      "\n",
      "# Figure label\n",
      "ax = fig.add_subplot(gs[0, 0])\n",
      "ds.clean_axis(ax)\n",
      "ax.text(0, 0, 'Figure 2',\n",
      "        size=16, va='bottom')\n",
      "\n",
      "# Diagram to be added in Illustrator\n",
      "ax = fig.add_subplot(gs[1, 0])\n",
      "ds.clean_axis(ax)\n",
      "\n",
      "# Control junctions intron sequence diagram\n",
      "ax = fig.add_subplot(gs[2, 0])\n",
      "ax = plot_nums(ax)\n",
      "\n",
      "# Blank space\n",
      "ax = fig.add_subplot(gs[3, 0])\n",
      "ds.clean_axis(ax)\n",
      "\n",
      "# Annotated junctions with upstream proximal\n",
      "# acceptors adenine enrichment\n",
      "ax = fig.add_subplot(gs[4, 0])\n",
      "ax = plot_pvals(ds.annot_intron_seq, ds.control_intron_seq)\n",
      "\n",
      "# Annotated junctions with upstream proximal\n",
      "# acceptors intron sequence diagram\n",
      "ax = fig.add_subplot(gs[5, 0])\n",
      "ax = plot_nums(ax)\n",
      "\n",
      "# Blank space\n",
      "ax = fig.add_subplot(gs[6, 0])\n",
      "ds.clean_axis(ax)\n",
      "\n",
      "# Proximal cryptic acceptors adenine enrichment\n",
      "ax = fig.add_subplot(gs[7, 0])\n",
      "ax = plot_pvals(ds.proximal_intron_seq, ds.control_intron_seq)\n",
      "\n",
      "# Proximal cryptic acceptors intron sequence diagram\n",
      "ax = fig.add_subplot(gs[8, 0])\n",
      "ax = plot_nums(ax)\n",
      "\n",
      "# Blank space\n",
      "ax = fig.add_subplot(gs[9, 0])\n",
      "ds.clean_axis(ax)\n",
      "\n",
      "# Not proximal cryptic acceptors adenine enrichment\n",
      "ax = fig.add_subplot(gs[10, 0])\n",
      "ax = plot_pvals(ds.not_proximal_intron_seq, ds.control_intron_seq)\n",
      "\n",
      "# Not proximal cryptic acceptors intron sequence diagram\n",
      "ax = fig.add_subplot(gs[11, 0])\n",
      "ax = plot_nums(ax)\n",
      "\n",
      "# Blank space\n",
      "ax = fig.add_subplot(gs[12, 0])\n",
      "ds.clean_axis(ax)\n",
      "\n",
      "fig.tight_layout(h_pad=0, w_pad=0)\n",
      "fig.savefig(os.path.join(outdir, 'figure02_precursor.pdf'),\n",
      "            transparent=True, dpi=600)"
     ],
     "language": "python",
     "metadata": {},
     "outputs": [
      {
       "metadata": {},
       "output_type": "display_data",
       "png": "[encoded data removed]",
       "text": [
        "<matplotlib.figure.Figure at 0x7f550860f9d0>"
       ]
      }
     ],
     "prompt_number": 20
    },
    {
     "cell_type": "code",
     "collapsed": false,
     "input": [],
     "language": "python",
     "metadata": {},
     "outputs": []
    }
   ],
   "metadata": {}
  }
 ]
}