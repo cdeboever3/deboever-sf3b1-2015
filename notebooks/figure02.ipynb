{
 "metadata": {
  "name": "",
  "signature": "sha256:91e322c1c18232501af5565bb52f41ba501201688eab70ed6a6fdf760322dc72"
 },
 "nbformat": 3,
 "nbformat_minor": 0,
 "worksheets": [
  {
   "cells": [
    {
     "cell_type": "markdown",
     "metadata": {},
     "source": [
      "# Figure 2"
     ]
    },
    {
     "cell_type": "code",
     "collapsed": false,
     "input": [],
     "language": "python",
     "metadata": {},
     "outputs": []
    },
    {
     "cell_type": "code",
     "collapsed": false,
     "input": [],
     "language": "python",
     "metadata": {},
     "outputs": []
    },
    {
     "cell_type": "code",
     "collapsed": false,
     "input": [
      "def get_bp_to_ss_seq(se,seqSE):\n",
      "    # returns sequence from beginning of BP to 3' SS (including the final AG)\n",
      "    # seqSE has the 50 bp preceding the 3' SS for each junction\n",
      "    seq = seqSE[se['seq_id']][-1 * se['ss_dist'] - 5:]\n",
      "    return seq\n",
      "\n",
      "def make_sequence_logo(seqL,title,fastaN,imageN,first_index=1,outDY=outDY):\n",
      "    \"\"\"\n",
      "    seqL -- list (or similar) of sequences\n",
      "    fastaN -- filename to write sequences to\n",
      "    imageN -- filename for logo\n",
      "    \"\"\"\n",
      "    # write branchpoint sequences to file\n",
      "    f = open(os.path.join(outDY,fastaN),'w')\n",
      "    f.write(''.join([ '>{0}\\n{1}\\n'.format(x[0],x[1]) for x in zip(range(len(seqL)),seqL) ]))\n",
      "    f.close()\n",
      "    f = open(os.path.join(outDY,fastaN))\n",
      "    seqs = read_seq_data(f)\n",
      "    data = LogoData.from_seqs(seqs)\n",
      "    options = LogoOptions()\n",
      "    options.fineprint = ''\n",
      "    options.unit_name = 'probability'\n",
      "    options.logo_title = title\n",
      "    options.first_index = first_index\n",
      "    options.color_scheme = logo.ColorScheme([logo.ColorGroup(\"TCU\", \"orange\"), \n",
      "                                             logo.ColorGroup(\"AG\", \"blue\")])\n",
      "    logo_format = LogoFormat(data,options)\n",
      "    fout = open(os.path.join(outDY,imageN),'w')\n",
      "    png_formatter(data,logo_format,fout)\n",
      "    "
     ],
     "language": "python",
     "metadata": {},
     "outputs": []
    },
    {
     "cell_type": "code",
     "collapsed": false,
     "input": [
      "f = open('/raid2/projects/CLL/sf3b1/analysis/notebooks/brca_cll_um_dexseq_junction_analysis/novel_branchpoint_seq.fa','r')\n",
      "seqs = read_seq_data(f)\n",
      "data = LogoData.from_seqs(seqs)\n",
      "options = LogoOptions()\n",
      "options.fineprint = ''\n",
      "options.unit_name = 'probability'\n",
      "options.logo_title = 'Novel 50 bp upstream of 3\\' SS'\n",
      "options.first_index = -50\n",
      "options.stacks_per_line = 50\n",
      "options.color_scheme = logo.ColorScheme([logo.ColorGroup(\"TCU\", \"orange\"), \n",
      "                                         logo.ColorGroup(\"AG\", \"blue\")])\n",
      "logo_format = LogoFormat(data,options)\n",
      "fout = open(os.path.join(outDY,'novel_3ss_seqlogo.png'),'w')\n",
      "png_formatter(data,logo_format,fout)\n",
      "\n",
      "f = open('/raid2/projects/CLL/sf3b1/analysis/notebooks/brca_cll_um_dexseq_junction_analysis/annot_branchpoint_seq.fa','r')\n",
      "seqs = read_seq_data(f)\n",
      "data = LogoData.from_seqs(seqs)\n",
      "options = LogoOptions()\n",
      "options.fineprint = ''\n",
      "options.unit_name = 'probability'\n",
      "options.logo_title = 'Annotated 50 bp upstream of 3\\' SS'\n",
      "options.first_index = -50\n",
      "options.stacks_per_line = 50\n",
      "options.color_scheme = logo.ColorScheme([logo.ColorGroup(\"TCU\", \"orange\"), \n",
      "                                         logo.ColorGroup(\"AG\", \"blue\")])\n",
      "logo_format = LogoFormat(data,options)\n",
      "fout = open(os.path.join(outDY,'annot_3ss_seqlogo.png'),'w')\n",
      "png_formatter(data,logo_format,fout)\n",
      "\n",
      "f = open('/raid2/projects/CLL/sf3b1/analysis/notebooks/brca_cll_um_dexseq_junction_analysis/control_branchpoint_seq.fa','r')\n",
      "seqs = read_seq_data(f)\n",
      "data = LogoData.from_seqs(seqs)\n",
      "options = LogoOptions()\n",
      "options.fineprint = ''\n",
      "options.unit_name = 'probability'\n",
      "options.logo_title = 'Control 50 bp upstream of 3\\' SS'\n",
      "options.first_index = -50\n",
      "options.stacks_per_line = 50\n",
      "options.color_scheme = logo.ColorScheme([logo.ColorGroup(\"TCU\", \"orange\"), \n",
      "                                         logo.ColorGroup(\"AG\", \"blue\")])\n",
      "logo_format = LogoFormat(data,options)\n",
      "fout = open(os.path.join(outDY,'control_3ss_seqlogo.png'),'w')\n",
      "png_formatter(data,logo_format,fout)\n",
      "\n",
      "f = open('/raid2/projects/CLL/sf3b1/analysis/notebooks/brca_cll_um_dexseq_junction_analysis/not_proximal_branchpoint_seq.fa','r')\n",
      "seqs = read_seq_data(f)\n",
      "data = LogoData.from_seqs(seqs)\n",
      "options = LogoOptions()\n",
      "options.fineprint = ''\n",
      "options.unit_name = 'probability'\n",
      "options.logo_title = 'Not proximal 50 bp upstream of 3\\' SS'\n",
      "options.first_index = -50\n",
      "options.stacks_per_line = 50\n",
      "options.color_scheme = logo.ColorScheme([logo.ColorGroup(\"TCU\", \"orange\"), \n",
      "                                         logo.ColorGroup(\"AG\", \"blue\")])\n",
      "logo_format = LogoFormat(data,options)\n",
      "fout = open(os.path.join(outDY,'not_proximal_3ss_seqlogo.png'),'w')\n",
      "png_formatter(data,logo_format,fout)"
     ],
     "language": "python",
     "metadata": {},
     "outputs": []
    },
    {
     "cell_type": "code",
     "collapsed": false,
     "input": [
      "annot_seqlogoI = Image(filename=os.path.join(outDY,'novel_3ss_seqlogo.png'))\n",
      "annot_seqlogoI"
     ],
     "language": "python",
     "metadata": {},
     "outputs": []
    },
    {
     "cell_type": "code",
     "collapsed": false,
     "input": [
      "annot_seqlogoI = Image(filename=os.path.join(outDY,'annot_3ss_seqlogo.png'))\n",
      "annot_seqlogoI"
     ],
     "language": "python",
     "metadata": {},
     "outputs": []
    },
    {
     "cell_type": "code",
     "collapsed": false,
     "input": [
      "annot_seqlogoI = Image(filename=os.path.join(outDY,'control_3ss_seqlogo.png'))\n",
      "annot_seqlogoI"
     ],
     "language": "python",
     "metadata": {},
     "outputs": []
    },
    {
     "cell_type": "code",
     "collapsed": false,
     "input": [
      "annot_seqlogoI = Image(filename=os.path.join(outDY,'not_proximal_3ss_seqlogo.png'))\n",
      "annot_seqlogoI"
     ],
     "language": "python",
     "metadata": {},
     "outputs": []
    }
   ],
   "metadata": {}
  }
 ]
}